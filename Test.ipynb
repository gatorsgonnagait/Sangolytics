{
 "cells": [
  {
   "cell_type": "code",
   "execution_count": 1,
   "outputs": [],
   "source": [
    "import pandas as pd\n",
    "import Constants as c\n",
    "away = 'Brooklyn Nets'\n",
    "home = 'Miami Heat'\n",
    "current_period = 4"
   ],
   "metadata": {
    "collapsed": false,
    "pycharm": {
     "name": "#%%\n"
    }
   }
  },
  {
   "cell_type": "code",
   "execution_count": 2,
   "outputs": [],
   "source": [
    "#score_by_q = pd.read_csv('score_by_q_Los Angeles Lakers_Miami Heat.csv')\n",
    "score_by_q = pd.read_csv('score_by_q_Brooklyn Nets_Miami Heat.csv')\n",
    "score_by_q  = score_by_q [score_by_q ['player'].notna()].reset_index(drop=True)\n"
   ],
   "metadata": {
    "collapsed": false,
    "pycharm": {
     "name": "#%%\n"
    }
   }
  },
  {
   "cell_type": "code",
   "execution_count": 3,
   "outputs": [],
   "source": [
    "# get a list of the players on each team\n",
    "for player in pd.unique(score_by_q['player'].dropna()).tolist():\n",
    "    try:\n",
    "        team = pd.unique(score_by_q[score_by_q['player'] == player]['team'].dropna())[0]\n",
    "    except IndexError:\n",
    "        team = ''\n",
    "    score_by_q.loc[(score_by_q['player'] == player) & (score_by_q['team'].isna()), 'team'] = team"
   ],
   "metadata": {
    "collapsed": false,
    "pycharm": {
     "name": "#%%\n"
    }
   }
  },
  {
   "cell_type": "code",
   "execution_count": 4,
   "outputs": [
    {
     "data": {
      "text/plain": "           time_stamp      time_index  same_time_count  period  away  home  \\\n0     4 0.0 107 109 1   4 0.0 107 109                1       4   107   109   \n1    4 24.3 107 107 1  4 24.3 107 107                1       4   107   107   \n2    4 43.6 107 107 2  4 43.6 107 107                2       4   107   107   \n3    4 48.9 107 105 1  4 48.9 107 105                1       4   107   105   \n4    4 1:13 107 105 1  4 1:13 107 105                1       4   107   105   \n..                ...             ...              ...     ...   ...   ...   \n202     1 10:37 6 5 1     1 10:37 6 5                1       1     6     5   \n203     1 10:52 6 5 1     1 10:52 6 5                1       1     6     5   \n204     1 11:06 3 5 1     1 11:06 3 5                1       1     3     5   \n205     1 11:26 3 3 1     1 11:26 3 3                1       1     3     3   \n206     1 11:44 0 3 1     1 11:44 0 3                1       1     0     3   \n\n     total                                               play  \\\n0      216         Bam Adebayo makes 15-foot pullup jump shot   \n1      214                           Kyrie Irving misses shot   \n2      214                  Goran Dragic makes two point shot   \n3      212     Kyrie Irving misses 26-foot step back jumpshot   \n4      212  Duncan Robinson misses 26-foot three point jumper   \n..     ...                                                ...   \n202     11         Trevor Ariza misses 12-foot two point shot   \n203     11           Kevin Durant makes 25-foot three pointer   \n204      8  Bam Adebayo makes 6-foot two point shot (Kendr...   \n205      6  Kevin Durant makes 27-foot three point jumper ...   \n206      3  Duncan Robinson makes 28-foot three point jump...   \n\n              player  fg_makes  fg_misses  3_makes  3_misses  ft_makes  \\\n0        Bam Adebayo       1.0        NaN      NaN       NaN       NaN   \n1       Kyrie Irving       NaN        NaN      NaN       NaN       NaN   \n2       Goran Dragic       1.0        NaN      NaN       NaN       NaN   \n3       Kyrie Irving       NaN        NaN      NaN       1.0       NaN   \n4    Duncan Robinson       NaN        NaN      NaN       1.0       NaN   \n..               ...       ...        ...      ...       ...       ...   \n202     Trevor Ariza       NaN        1.0      NaN       NaN       NaN   \n203     Kevin Durant       NaN        NaN      1.0       NaN       NaN   \n204      Bam Adebayo       1.0        NaN      NaN       NaN       NaN   \n205     Kevin Durant       NaN        NaN      1.0       NaN       NaN   \n206  Duncan Robinson       NaN        NaN      1.0       NaN       NaN   \n\n     ft_misses  points           team  \n0          NaN     2.0     Miami Heat  \n1          NaN     NaN  Brooklyn Nets  \n2          NaN     2.0     Miami Heat  \n3          NaN     NaN  Brooklyn Nets  \n4          NaN     NaN     Miami Heat  \n..         ...     ...            ...  \n202        NaN     NaN     Miami Heat  \n203        NaN     3.0  Brooklyn Nets  \n204        NaN     2.0     Miami Heat  \n205        NaN     3.0  Brooklyn Nets  \n206        NaN     3.0     Miami Heat  \n\n[207 rows x 17 columns]",
      "text/html": "<div>\n<style scoped>\n    .dataframe tbody tr th:only-of-type {\n        vertical-align: middle;\n    }\n\n    .dataframe tbody tr th {\n        vertical-align: top;\n    }\n\n    .dataframe thead th {\n        text-align: right;\n    }\n</style>\n<table border=\"1\" class=\"dataframe\">\n  <thead>\n    <tr style=\"text-align: right;\">\n      <th></th>\n      <th>time_stamp</th>\n      <th>time_index</th>\n      <th>same_time_count</th>\n      <th>period</th>\n      <th>away</th>\n      <th>home</th>\n      <th>total</th>\n      <th>play</th>\n      <th>player</th>\n      <th>fg_makes</th>\n      <th>fg_misses</th>\n      <th>3_makes</th>\n      <th>3_misses</th>\n      <th>ft_makes</th>\n      <th>ft_misses</th>\n      <th>points</th>\n      <th>team</th>\n    </tr>\n  </thead>\n  <tbody>\n    <tr>\n      <th>0</th>\n      <td>4 0.0 107 109 1</td>\n      <td>4 0.0 107 109</td>\n      <td>1</td>\n      <td>4</td>\n      <td>107</td>\n      <td>109</td>\n      <td>216</td>\n      <td>Bam Adebayo makes 15-foot pullup jump shot</td>\n      <td>Bam Adebayo</td>\n      <td>1.0</td>\n      <td>NaN</td>\n      <td>NaN</td>\n      <td>NaN</td>\n      <td>NaN</td>\n      <td>NaN</td>\n      <td>2.0</td>\n      <td>Miami Heat</td>\n    </tr>\n    <tr>\n      <th>1</th>\n      <td>4 24.3 107 107 1</td>\n      <td>4 24.3 107 107</td>\n      <td>1</td>\n      <td>4</td>\n      <td>107</td>\n      <td>107</td>\n      <td>214</td>\n      <td>Kyrie Irving misses shot</td>\n      <td>Kyrie Irving</td>\n      <td>NaN</td>\n      <td>NaN</td>\n      <td>NaN</td>\n      <td>NaN</td>\n      <td>NaN</td>\n      <td>NaN</td>\n      <td>NaN</td>\n      <td>Brooklyn Nets</td>\n    </tr>\n    <tr>\n      <th>2</th>\n      <td>4 43.6 107 107 2</td>\n      <td>4 43.6 107 107</td>\n      <td>2</td>\n      <td>4</td>\n      <td>107</td>\n      <td>107</td>\n      <td>214</td>\n      <td>Goran Dragic makes two point shot</td>\n      <td>Goran Dragic</td>\n      <td>1.0</td>\n      <td>NaN</td>\n      <td>NaN</td>\n      <td>NaN</td>\n      <td>NaN</td>\n      <td>NaN</td>\n      <td>2.0</td>\n      <td>Miami Heat</td>\n    </tr>\n    <tr>\n      <th>3</th>\n      <td>4 48.9 107 105 1</td>\n      <td>4 48.9 107 105</td>\n      <td>1</td>\n      <td>4</td>\n      <td>107</td>\n      <td>105</td>\n      <td>212</td>\n      <td>Kyrie Irving misses 26-foot step back jumpshot</td>\n      <td>Kyrie Irving</td>\n      <td>NaN</td>\n      <td>NaN</td>\n      <td>NaN</td>\n      <td>1.0</td>\n      <td>NaN</td>\n      <td>NaN</td>\n      <td>NaN</td>\n      <td>Brooklyn Nets</td>\n    </tr>\n    <tr>\n      <th>4</th>\n      <td>4 1:13 107 105 1</td>\n      <td>4 1:13 107 105</td>\n      <td>1</td>\n      <td>4</td>\n      <td>107</td>\n      <td>105</td>\n      <td>212</td>\n      <td>Duncan Robinson misses 26-foot three point jumper</td>\n      <td>Duncan Robinson</td>\n      <td>NaN</td>\n      <td>NaN</td>\n      <td>NaN</td>\n      <td>1.0</td>\n      <td>NaN</td>\n      <td>NaN</td>\n      <td>NaN</td>\n      <td>Miami Heat</td>\n    </tr>\n    <tr>\n      <th>...</th>\n      <td>...</td>\n      <td>...</td>\n      <td>...</td>\n      <td>...</td>\n      <td>...</td>\n      <td>...</td>\n      <td>...</td>\n      <td>...</td>\n      <td>...</td>\n      <td>...</td>\n      <td>...</td>\n      <td>...</td>\n      <td>...</td>\n      <td>...</td>\n      <td>...</td>\n      <td>...</td>\n      <td>...</td>\n    </tr>\n    <tr>\n      <th>202</th>\n      <td>1 10:37 6 5 1</td>\n      <td>1 10:37 6 5</td>\n      <td>1</td>\n      <td>1</td>\n      <td>6</td>\n      <td>5</td>\n      <td>11</td>\n      <td>Trevor Ariza misses 12-foot two point shot</td>\n      <td>Trevor Ariza</td>\n      <td>NaN</td>\n      <td>1.0</td>\n      <td>NaN</td>\n      <td>NaN</td>\n      <td>NaN</td>\n      <td>NaN</td>\n      <td>NaN</td>\n      <td>Miami Heat</td>\n    </tr>\n    <tr>\n      <th>203</th>\n      <td>1 10:52 6 5 1</td>\n      <td>1 10:52 6 5</td>\n      <td>1</td>\n      <td>1</td>\n      <td>6</td>\n      <td>5</td>\n      <td>11</td>\n      <td>Kevin Durant makes 25-foot three pointer</td>\n      <td>Kevin Durant</td>\n      <td>NaN</td>\n      <td>NaN</td>\n      <td>1.0</td>\n      <td>NaN</td>\n      <td>NaN</td>\n      <td>NaN</td>\n      <td>3.0</td>\n      <td>Brooklyn Nets</td>\n    </tr>\n    <tr>\n      <th>204</th>\n      <td>1 11:06 3 5 1</td>\n      <td>1 11:06 3 5</td>\n      <td>1</td>\n      <td>1</td>\n      <td>3</td>\n      <td>5</td>\n      <td>8</td>\n      <td>Bam Adebayo makes 6-foot two point shot (Kendr...</td>\n      <td>Bam Adebayo</td>\n      <td>1.0</td>\n      <td>NaN</td>\n      <td>NaN</td>\n      <td>NaN</td>\n      <td>NaN</td>\n      <td>NaN</td>\n      <td>2.0</td>\n      <td>Miami Heat</td>\n    </tr>\n    <tr>\n      <th>205</th>\n      <td>1 11:26 3 3 1</td>\n      <td>1 11:26 3 3</td>\n      <td>1</td>\n      <td>1</td>\n      <td>3</td>\n      <td>3</td>\n      <td>6</td>\n      <td>Kevin Durant makes 27-foot three point jumper ...</td>\n      <td>Kevin Durant</td>\n      <td>NaN</td>\n      <td>NaN</td>\n      <td>1.0</td>\n      <td>NaN</td>\n      <td>NaN</td>\n      <td>NaN</td>\n      <td>3.0</td>\n      <td>Brooklyn Nets</td>\n    </tr>\n    <tr>\n      <th>206</th>\n      <td>1 11:44 0 3 1</td>\n      <td>1 11:44 0 3</td>\n      <td>1</td>\n      <td>1</td>\n      <td>0</td>\n      <td>3</td>\n      <td>3</td>\n      <td>Duncan Robinson makes 28-foot three point jump...</td>\n      <td>Duncan Robinson</td>\n      <td>NaN</td>\n      <td>NaN</td>\n      <td>1.0</td>\n      <td>NaN</td>\n      <td>NaN</td>\n      <td>NaN</td>\n      <td>3.0</td>\n      <td>Miami Heat</td>\n    </tr>\n  </tbody>\n</table>\n<p>207 rows × 17 columns</p>\n</div>"
     },
     "execution_count": 4,
     "metadata": {},
     "output_type": "execute_result"
    }
   ],
   "source": [
    "score_by_q"
   ],
   "metadata": {
    "collapsed": false,
    "pycharm": {
     "name": "#%%\n"
    }
   }
  },
  {
   "cell_type": "code",
   "execution_count": 5,
   "outputs": [],
   "source": [
    "score_by_q.fillna(0, inplace=True)\n",
    "# fills with one or zeros\n",
    "one_hot = pd.get_dummies(score_by_q['period'])\n",
    "one_hot = one_hot.T.reindex(list(range(1, current_period + 1))).T.fillna(0)\n",
    "\n",
    "#points * 1 = amount of points the player has in the quarter\n",
    "one_hot_points = one_hot[list(range(1, current_period + 1))].multiply(score_by_q['points'], axis='index')\n",
    "one_hot_points = one_hot_points.rename(index=str, columns=c.period_points).reset_index(drop=True)\n",
    "\n",
    "one_hot_fg_makes = one_hot[list(range(1, current_period + 1))].multiply(score_by_q['fg_makes'], axis='index')\n",
    "one_hot_fg_makes = one_hot_fg_makes.rename(index=str, columns=c.period_fg_makes).reset_index(drop=True)\n",
    "one_hot_fg_misses = one_hot[list(range(1, current_period + 1))].multiply(score_by_q['fg_misses'], axis='index')\n",
    "one_hot_fg_misses = one_hot_fg_misses.rename(index=str, columns=c.period_fg_misses).reset_index(drop=True)\n",
    "\n",
    "one_hot_ft_makes = one_hot[list(range(1, current_period + 1))].multiply(score_by_q['ft_makes'], axis='index')\n",
    "one_hot_ft_makes = one_hot_ft_makes.rename(index=str, columns=c.period_ft_makes).reset_index(drop=True)\n",
    "one_hot_ft_misses = one_hot[list(range(1, current_period + 1))].multiply(score_by_q['ft_misses'], axis='index')\n",
    "one_hot_ft_misses = one_hot_ft_misses.rename(index=str, columns=c.period_ft_misses).reset_index(drop=True)\n",
    "\n",
    "one_hot_3_makes = one_hot[list(range(1, current_period + 1))].multiply(score_by_q['3_makes'], axis='index')\n",
    "one_hot_3_makes = one_hot_3_makes.rename(index=str, columns=c.period_3_makes).reset_index(drop=True)\n",
    "one_hot_3_misses = one_hot[list(range(1, current_period + 1))].multiply(score_by_q['3_misses'], axis='index')\n",
    "one_hot_3_misses = one_hot_3_misses.rename(index=str, columns=c.period_3_misses).reset_index(drop=True)"
   ],
   "metadata": {
    "collapsed": false,
    "pycharm": {
     "name": "#%%\n"
    }
   }
  },
  {
   "cell_type": "code",
   "execution_count": 6,
   "outputs": [],
   "source": [
    "score_by_q_s = score_by_q[['player', 'team', 'points']]\n",
    "new = pd.concat([score_by_q_s, one_hot_points, one_hot_fg_makes, one_hot_fg_misses, one_hot_3_makes, one_hot_3_misses, one_hot_ft_makes, one_hot_ft_misses], axis=1, ignore_index=False)\n",
    "#print(score_by_q[score_by_q['player'] == 'LeBron James'])\n",
    "grouped_score = new.groupby(['player', 'team'], as_index=False).sum()\n",
    "\n",
    "fg_df = pd.DataFrame(columns=c.fg_cols)\n",
    "\n",
    "for i in range(1, current_period+1):\n",
    "    fg_attempts = grouped_score[str(i)+'Q FG'].astype(int) + grouped_score[str(i)+'Q FGM'].astype(int)\n",
    "    fg_df[str(i)+'Q FG-FGA'] = grouped_score[str(i)+'Q FG'].astype(int).astype(str).str.cat(fg_attempts.astype(str), sep =\"-\")\n",
    "\n",
    "    ft_attempts = grouped_score[str(i)+'Q FT'].astype(int) + grouped_score[str(i)+'Q FTM'].astype(int)\n",
    "    fg_df[str(i)+'Q FT-FTA'] = grouped_score[str(i)+'Q FT'].astype(int).astype(str).str.cat(ft_attempts.astype(str), sep =\"-\")\n",
    "\n",
    "    three_attempts = grouped_score[str(i)+'Q 3P'].astype(int) + grouped_score[str(i)+'Q 3PM'].astype(int)\n",
    "    fg_df[str(i)+'Q 3P-3PA'] = grouped_score[str(i)+'Q 3P'].astype(int).astype(str).str.cat(three_attempts.astype(str), sep =\"-\")\n"
   ],
   "metadata": {
    "collapsed": false,
    "pycharm": {
     "name": "#%%\n"
    }
   }
  },
  {
   "cell_type": "code",
   "execution_count": 7,
   "outputs": [
    {
     "data": {
      "text/plain": "                     player           team  points 1Q FG-FGA 1Q 3P-3PA  \\\n0             Alize Johnson  Brooklyn Nets     3.0       0-0       1-1   \n16  Timothe Luwawu-Cabarrot  Brooklyn Nets     7.0       0-0       1-1   \n15          Nicolas Claxton  Brooklyn Nets     4.0       1-1       0-0   \n14            Landry Shamet  Brooklyn Nets    30.0       1-1       2-3   \n13             Kyrie Irving  Brooklyn Nets    20.0       1-3       0-1   \n12             Kevin Durant  Brooklyn Nets     8.0       1-1       2-2   \n9                Joe Harris  Brooklyn Nets    12.0       0-0       0-2   \n8                Jeff Green  Brooklyn Nets     8.0       1-1       0-0   \n4               Bruce Brown  Brooklyn Nets     8.0       0-0       0-1   \n3             Blake Griffin  Brooklyn Nets     7.0       0-1       1-1   \n17             Trevor Ariza     Miami Heat    15.0       0-1       3-4   \n6           Duncan Robinson     Miami Heat    11.0       0-0       1-3   \n11            Kendrick Nunn     Miami Heat    17.0       1-2       2-3   \n5            Dewayne Dedmon     Miami Heat    10.0       0-0       0-0   \n2               Bam Adebayo     Miami Heat    21.0       1-2       0-0   \n1            Andre Iguodala     Miami Heat     8.0       0-0       0-0   \n7              Goran Dragic     Miami Heat    18.0       0-0       2-3   \n18              Tyler Herro     Miami Heat     9.0       0-2       0-0   \n10                KZ Okpala            NaN     0.0       0-0       0-0   \n\n   1Q FT-FTA 2Q FG-FGA 2Q 3P-3PA 2Q FT-FTA 3Q FG-FGA 3Q 3P-3PA 3Q FT-FTA  \\\n0        0-0       0-0       0-0       0-0       0-0       0-0       0-0   \n16       0-0       1-1       0-1       0-0       1-1       0-0       0-0   \n15       0-0       0-1       0-0       0-0       1-1       0-0       0-0   \n14       0-0       2-2       2-4       0-0       0-0       1-3       1-2   \n13       0-0       1-2       2-2       4-4       2-4       0-2       0-0   \n12       0-2       0-0       0-0       0-0       0-0       0-0       0-0   \n9        0-0       1-1       0-0       0-0       1-1       1-3       0-0   \n8        0-0       1-2       0-0       0-0       0-1       0-2       0-0   \n4        0-0       0-1       0-0       0-0       2-2       0-0       0-2   \n3        0-0       0-0       0-1       1-2       0-2       1-1       0-0   \n17       0-0       0-0       0-0       2-2       1-1       0-1       0-0   \n6        0-0       0-0       1-1       0-0       1-1       0-2       0-0   \n11       0-0       0-0       1-2       0-0       0-3       2-3       0-0   \n5        2-2       1-1       0-0       4-4       0-0       0-0       2-2   \n2        0-0       3-4       0-0       2-2       1-5       0-0       0-0   \n1        0-0       1-1       1-2       0-0       1-1       0-2       1-1   \n7        2-2       0-2       1-2       0-0       1-1       0-2       1-1   \n18       0-0       1-1       0-0       0-0       1-2       0-0       0-0   \n10       0-0       0-0       0-0       0-0       0-1       0-0       0-0   \n\n   4Q FG-FGA 4Q 3P-3PA 4Q FT-FTA  \n0        0-0       0-0       0-0  \n16       0-1       0-0       0-0  \n15       0-0       0-0       0-0  \n14       0-0       2-2       2-2  \n13       0-1       0-2       2-2  \n12       0-0       0-0       0-0  \n9        1-1       1-4       0-0  \n8        1-2       0-1       2-2  \n4        2-3       0-0       0-0  \n3        0-0       0-1       0-0  \n17       1-1       0-1       0-0  \n6        0-0       1-2       0-0  \n11       0-0       0-0       0-0  \n5        0-0       0-0       0-0  \n2        4-4       0-0       1-3  \n1        0-0       0-0       0-0  \n7        2-4       0-2       0-0  \n18       1-4       1-2       0-0  \n10       0-0       0-2       0-2  ",
      "text/html": "<div>\n<style scoped>\n    .dataframe tbody tr th:only-of-type {\n        vertical-align: middle;\n    }\n\n    .dataframe tbody tr th {\n        vertical-align: top;\n    }\n\n    .dataframe thead th {\n        text-align: right;\n    }\n</style>\n<table border=\"1\" class=\"dataframe\">\n  <thead>\n    <tr style=\"text-align: right;\">\n      <th></th>\n      <th>player</th>\n      <th>team</th>\n      <th>points</th>\n      <th>1Q FG-FGA</th>\n      <th>1Q 3P-3PA</th>\n      <th>1Q FT-FTA</th>\n      <th>2Q FG-FGA</th>\n      <th>2Q 3P-3PA</th>\n      <th>2Q FT-FTA</th>\n      <th>3Q FG-FGA</th>\n      <th>3Q 3P-3PA</th>\n      <th>3Q FT-FTA</th>\n      <th>4Q FG-FGA</th>\n      <th>4Q 3P-3PA</th>\n      <th>4Q FT-FTA</th>\n    </tr>\n  </thead>\n  <tbody>\n    <tr>\n      <th>0</th>\n      <td>Alize Johnson</td>\n      <td>Brooklyn Nets</td>\n      <td>3.0</td>\n      <td>0-0</td>\n      <td>1-1</td>\n      <td>0-0</td>\n      <td>0-0</td>\n      <td>0-0</td>\n      <td>0-0</td>\n      <td>0-0</td>\n      <td>0-0</td>\n      <td>0-0</td>\n      <td>0-0</td>\n      <td>0-0</td>\n      <td>0-0</td>\n    </tr>\n    <tr>\n      <th>16</th>\n      <td>Timothe Luwawu-Cabarrot</td>\n      <td>Brooklyn Nets</td>\n      <td>7.0</td>\n      <td>0-0</td>\n      <td>1-1</td>\n      <td>0-0</td>\n      <td>1-1</td>\n      <td>0-1</td>\n      <td>0-0</td>\n      <td>1-1</td>\n      <td>0-0</td>\n      <td>0-0</td>\n      <td>0-1</td>\n      <td>0-0</td>\n      <td>0-0</td>\n    </tr>\n    <tr>\n      <th>15</th>\n      <td>Nicolas Claxton</td>\n      <td>Brooklyn Nets</td>\n      <td>4.0</td>\n      <td>1-1</td>\n      <td>0-0</td>\n      <td>0-0</td>\n      <td>0-1</td>\n      <td>0-0</td>\n      <td>0-0</td>\n      <td>1-1</td>\n      <td>0-0</td>\n      <td>0-0</td>\n      <td>0-0</td>\n      <td>0-0</td>\n      <td>0-0</td>\n    </tr>\n    <tr>\n      <th>14</th>\n      <td>Landry Shamet</td>\n      <td>Brooklyn Nets</td>\n      <td>30.0</td>\n      <td>1-1</td>\n      <td>2-3</td>\n      <td>0-0</td>\n      <td>2-2</td>\n      <td>2-4</td>\n      <td>0-0</td>\n      <td>0-0</td>\n      <td>1-3</td>\n      <td>1-2</td>\n      <td>0-0</td>\n      <td>2-2</td>\n      <td>2-2</td>\n    </tr>\n    <tr>\n      <th>13</th>\n      <td>Kyrie Irving</td>\n      <td>Brooklyn Nets</td>\n      <td>20.0</td>\n      <td>1-3</td>\n      <td>0-1</td>\n      <td>0-0</td>\n      <td>1-2</td>\n      <td>2-2</td>\n      <td>4-4</td>\n      <td>2-4</td>\n      <td>0-2</td>\n      <td>0-0</td>\n      <td>0-1</td>\n      <td>0-2</td>\n      <td>2-2</td>\n    </tr>\n    <tr>\n      <th>12</th>\n      <td>Kevin Durant</td>\n      <td>Brooklyn Nets</td>\n      <td>8.0</td>\n      <td>1-1</td>\n      <td>2-2</td>\n      <td>0-2</td>\n      <td>0-0</td>\n      <td>0-0</td>\n      <td>0-0</td>\n      <td>0-0</td>\n      <td>0-0</td>\n      <td>0-0</td>\n      <td>0-0</td>\n      <td>0-0</td>\n      <td>0-0</td>\n    </tr>\n    <tr>\n      <th>9</th>\n      <td>Joe Harris</td>\n      <td>Brooklyn Nets</td>\n      <td>12.0</td>\n      <td>0-0</td>\n      <td>0-2</td>\n      <td>0-0</td>\n      <td>1-1</td>\n      <td>0-0</td>\n      <td>0-0</td>\n      <td>1-1</td>\n      <td>1-3</td>\n      <td>0-0</td>\n      <td>1-1</td>\n      <td>1-4</td>\n      <td>0-0</td>\n    </tr>\n    <tr>\n      <th>8</th>\n      <td>Jeff Green</td>\n      <td>Brooklyn Nets</td>\n      <td>8.0</td>\n      <td>1-1</td>\n      <td>0-0</td>\n      <td>0-0</td>\n      <td>1-2</td>\n      <td>0-0</td>\n      <td>0-0</td>\n      <td>0-1</td>\n      <td>0-2</td>\n      <td>0-0</td>\n      <td>1-2</td>\n      <td>0-1</td>\n      <td>2-2</td>\n    </tr>\n    <tr>\n      <th>4</th>\n      <td>Bruce Brown</td>\n      <td>Brooklyn Nets</td>\n      <td>8.0</td>\n      <td>0-0</td>\n      <td>0-1</td>\n      <td>0-0</td>\n      <td>0-1</td>\n      <td>0-0</td>\n      <td>0-0</td>\n      <td>2-2</td>\n      <td>0-0</td>\n      <td>0-2</td>\n      <td>2-3</td>\n      <td>0-0</td>\n      <td>0-0</td>\n    </tr>\n    <tr>\n      <th>3</th>\n      <td>Blake Griffin</td>\n      <td>Brooklyn Nets</td>\n      <td>7.0</td>\n      <td>0-1</td>\n      <td>1-1</td>\n      <td>0-0</td>\n      <td>0-0</td>\n      <td>0-1</td>\n      <td>1-2</td>\n      <td>0-2</td>\n      <td>1-1</td>\n      <td>0-0</td>\n      <td>0-0</td>\n      <td>0-1</td>\n      <td>0-0</td>\n    </tr>\n    <tr>\n      <th>17</th>\n      <td>Trevor Ariza</td>\n      <td>Miami Heat</td>\n      <td>15.0</td>\n      <td>0-1</td>\n      <td>3-4</td>\n      <td>0-0</td>\n      <td>0-0</td>\n      <td>0-0</td>\n      <td>2-2</td>\n      <td>1-1</td>\n      <td>0-1</td>\n      <td>0-0</td>\n      <td>1-1</td>\n      <td>0-1</td>\n      <td>0-0</td>\n    </tr>\n    <tr>\n      <th>6</th>\n      <td>Duncan Robinson</td>\n      <td>Miami Heat</td>\n      <td>11.0</td>\n      <td>0-0</td>\n      <td>1-3</td>\n      <td>0-0</td>\n      <td>0-0</td>\n      <td>1-1</td>\n      <td>0-0</td>\n      <td>1-1</td>\n      <td>0-2</td>\n      <td>0-0</td>\n      <td>0-0</td>\n      <td>1-2</td>\n      <td>0-0</td>\n    </tr>\n    <tr>\n      <th>11</th>\n      <td>Kendrick Nunn</td>\n      <td>Miami Heat</td>\n      <td>17.0</td>\n      <td>1-2</td>\n      <td>2-3</td>\n      <td>0-0</td>\n      <td>0-0</td>\n      <td>1-2</td>\n      <td>0-0</td>\n      <td>0-3</td>\n      <td>2-3</td>\n      <td>0-0</td>\n      <td>0-0</td>\n      <td>0-0</td>\n      <td>0-0</td>\n    </tr>\n    <tr>\n      <th>5</th>\n      <td>Dewayne Dedmon</td>\n      <td>Miami Heat</td>\n      <td>10.0</td>\n      <td>0-0</td>\n      <td>0-0</td>\n      <td>2-2</td>\n      <td>1-1</td>\n      <td>0-0</td>\n      <td>4-4</td>\n      <td>0-0</td>\n      <td>0-0</td>\n      <td>2-2</td>\n      <td>0-0</td>\n      <td>0-0</td>\n      <td>0-0</td>\n    </tr>\n    <tr>\n      <th>2</th>\n      <td>Bam Adebayo</td>\n      <td>Miami Heat</td>\n      <td>21.0</td>\n      <td>1-2</td>\n      <td>0-0</td>\n      <td>0-0</td>\n      <td>3-4</td>\n      <td>0-0</td>\n      <td>2-2</td>\n      <td>1-5</td>\n      <td>0-0</td>\n      <td>0-0</td>\n      <td>4-4</td>\n      <td>0-0</td>\n      <td>1-3</td>\n    </tr>\n    <tr>\n      <th>1</th>\n      <td>Andre Iguodala</td>\n      <td>Miami Heat</td>\n      <td>8.0</td>\n      <td>0-0</td>\n      <td>0-0</td>\n      <td>0-0</td>\n      <td>1-1</td>\n      <td>1-2</td>\n      <td>0-0</td>\n      <td>1-1</td>\n      <td>0-2</td>\n      <td>1-1</td>\n      <td>0-0</td>\n      <td>0-0</td>\n      <td>0-0</td>\n    </tr>\n    <tr>\n      <th>7</th>\n      <td>Goran Dragic</td>\n      <td>Miami Heat</td>\n      <td>18.0</td>\n      <td>0-0</td>\n      <td>2-3</td>\n      <td>2-2</td>\n      <td>0-2</td>\n      <td>1-2</td>\n      <td>0-0</td>\n      <td>1-1</td>\n      <td>0-2</td>\n      <td>1-1</td>\n      <td>2-4</td>\n      <td>0-2</td>\n      <td>0-0</td>\n    </tr>\n    <tr>\n      <th>18</th>\n      <td>Tyler Herro</td>\n      <td>Miami Heat</td>\n      <td>9.0</td>\n      <td>0-2</td>\n      <td>0-0</td>\n      <td>0-0</td>\n      <td>1-1</td>\n      <td>0-0</td>\n      <td>0-0</td>\n      <td>1-2</td>\n      <td>0-0</td>\n      <td>0-0</td>\n      <td>1-4</td>\n      <td>1-2</td>\n      <td>0-0</td>\n    </tr>\n    <tr>\n      <th>10</th>\n      <td>KZ Okpala</td>\n      <td>NaN</td>\n      <td>0.0</td>\n      <td>0-0</td>\n      <td>0-0</td>\n      <td>0-0</td>\n      <td>0-0</td>\n      <td>0-0</td>\n      <td>0-0</td>\n      <td>0-1</td>\n      <td>0-0</td>\n      <td>0-0</td>\n      <td>0-0</td>\n      <td>0-2</td>\n      <td>0-2</td>\n    </tr>\n  </tbody>\n</table>\n</div>"
     },
     "execution_count": 7,
     "metadata": {},
     "output_type": "execute_result"
    }
   ],
   "source": [
    "final = pd.concat([grouped_score[['player', 'team', 'points']],fg_df], axis=1, ignore_index=False)\n",
    "order = pd.CategoricalDtype([away, home], ordered=True)\n",
    "final['team'] = final['team'].astype(order)\n",
    "final.sort_values('team', inplace=True)\n",
    "final"
   ],
   "metadata": {
    "collapsed": false,
    "pycharm": {
     "name": "#%%\n"
    }
   }
  },
  {
   "cell_type": "code",
   "execution_count": 8,
   "outputs": [
    {
     "data": {
      "text/plain": "                     player  team  points  1Q PTS  2Q PTS  3Q PTS  4Q PTS  \\\n0             Alize Johnson  Nets     3.0     3.0     0.0     0.0     0.0   \n1            Andre Iguodala  Heat     8.0     0.0     5.0     3.0     0.0   \n2               Bam Adebayo  Heat    21.0     2.0     8.0     2.0     9.0   \n3             Blake Griffin  Nets     7.0     3.0     1.0     3.0     0.0   \n4               Bruce Brown  Nets     8.0     0.0     0.0     4.0     4.0   \n5            Dewayne Dedmon  Heat    10.0     2.0     6.0     2.0     0.0   \n6           Duncan Robinson  Heat    11.0     3.0     3.0     2.0     3.0   \n7              Goran Dragic  Heat    18.0     8.0     3.0     3.0     4.0   \n8                Jeff Green  Nets     8.0     2.0     2.0     0.0     4.0   \n9                Joe Harris  Nets    12.0     0.0     2.0     5.0     5.0   \n10                KZ Okpala           0.0     0.0     0.0     0.0     0.0   \n11            Kendrick Nunn  Heat    17.0     8.0     3.0     6.0     0.0   \n12             Kevin Durant  Nets     8.0     8.0     0.0     0.0     0.0   \n13             Kyrie Irving  Nets    20.0     2.0    12.0     4.0     2.0   \n14            Landry Shamet  Nets    30.0     8.0    10.0     4.0     8.0   \n15          Nicolas Claxton  Nets     4.0     2.0     0.0     2.0     0.0   \n16  Timothe Luwawu-Cabarrot  Nets     7.0     3.0     2.0     2.0     0.0   \n17             Trevor Ariza  Heat    15.0     9.0     2.0     2.0     2.0   \n18              Tyler Herro  Heat     9.0     0.0     2.0     2.0     5.0   \n\n    1Q FG  2Q FG  3Q FG  ...  4Q 3PM  1Q FT  2Q FT  3Q FT  4Q FT  1Q FTM  \\\n0     0.0    0.0    0.0  ...     0.0    0.0    0.0    0.0    0.0     0.0   \n1     0.0    1.0    1.0  ...     0.0    0.0    0.0    1.0    0.0     0.0   \n2     1.0    3.0    1.0  ...     0.0    0.0    2.0    0.0    1.0     0.0   \n3     0.0    0.0    0.0  ...     1.0    0.0    1.0    0.0    0.0     0.0   \n4     0.0    0.0    2.0  ...     0.0    0.0    0.0    0.0    0.0     0.0   \n5     0.0    1.0    0.0  ...     0.0    2.0    4.0    2.0    0.0     0.0   \n6     0.0    0.0    1.0  ...     1.0    0.0    0.0    0.0    0.0     0.0   \n7     0.0    0.0    1.0  ...     2.0    2.0    0.0    1.0    0.0     0.0   \n8     1.0    1.0    0.0  ...     1.0    0.0    0.0    0.0    2.0     0.0   \n9     0.0    1.0    1.0  ...     3.0    0.0    0.0    0.0    0.0     0.0   \n10    0.0    0.0    0.0  ...     2.0    0.0    0.0    0.0    0.0     0.0   \n11    1.0    0.0    0.0  ...     0.0    0.0    0.0    0.0    0.0     0.0   \n12    1.0    0.0    0.0  ...     0.0    0.0    0.0    0.0    0.0     2.0   \n13    1.0    1.0    2.0  ...     2.0    0.0    4.0    0.0    2.0     0.0   \n14    1.0    2.0    0.0  ...     0.0    0.0    0.0    1.0    2.0     0.0   \n15    1.0    0.0    1.0  ...     0.0    0.0    0.0    0.0    0.0     0.0   \n16    0.0    1.0    1.0  ...     0.0    0.0    0.0    0.0    0.0     0.0   \n17    0.0    0.0    1.0  ...     1.0    0.0    2.0    0.0    0.0     0.0   \n18    0.0    1.0    1.0  ...     1.0    0.0    0.0    0.0    0.0     0.0   \n\n    2Q FTM  3Q FTM  4Q FTM           initials  \n0      0.0     0.0     0.0          A Johnson  \n1      0.0     0.0     0.0         A Iguodala  \n2      0.0     0.0     2.0          B Adebayo  \n3      1.0     0.0     0.0          B Griffin  \n4      0.0     2.0     0.0            B Brown  \n5      0.0     0.0     0.0           D Dedmon  \n6      0.0     0.0     0.0         D Robinson  \n7      0.0     0.0     0.0           G Dragic  \n8      0.0     0.0     0.0            J Green  \n9      0.0     0.0     0.0           J Harris  \n10     0.0     0.0     2.0           K Okpala  \n11     0.0     0.0     0.0             K Nunn  \n12     0.0     0.0     0.0           K Durant  \n13     0.0     0.0     0.0           K Irving  \n14     0.0     1.0     0.0           L Shamet  \n15     0.0     0.0     0.0          N Claxton  \n16     0.0     0.0     0.0  T Luwawu-Cabarrot  \n17     0.0     0.0     0.0            T Ariza  \n18     0.0     0.0     0.0            T Herro  \n\n[19 rows x 32 columns]",
      "text/html": "<div>\n<style scoped>\n    .dataframe tbody tr th:only-of-type {\n        vertical-align: middle;\n    }\n\n    .dataframe tbody tr th {\n        vertical-align: top;\n    }\n\n    .dataframe thead th {\n        text-align: right;\n    }\n</style>\n<table border=\"1\" class=\"dataframe\">\n  <thead>\n    <tr style=\"text-align: right;\">\n      <th></th>\n      <th>player</th>\n      <th>team</th>\n      <th>points</th>\n      <th>1Q PTS</th>\n      <th>2Q PTS</th>\n      <th>3Q PTS</th>\n      <th>4Q PTS</th>\n      <th>1Q FG</th>\n      <th>2Q FG</th>\n      <th>3Q FG</th>\n      <th>...</th>\n      <th>4Q 3PM</th>\n      <th>1Q FT</th>\n      <th>2Q FT</th>\n      <th>3Q FT</th>\n      <th>4Q FT</th>\n      <th>1Q FTM</th>\n      <th>2Q FTM</th>\n      <th>3Q FTM</th>\n      <th>4Q FTM</th>\n      <th>initials</th>\n    </tr>\n  </thead>\n  <tbody>\n    <tr>\n      <th>0</th>\n      <td>Alize Johnson</td>\n      <td>Nets</td>\n      <td>3.0</td>\n      <td>3.0</td>\n      <td>0.0</td>\n      <td>0.0</td>\n      <td>0.0</td>\n      <td>0.0</td>\n      <td>0.0</td>\n      <td>0.0</td>\n      <td>...</td>\n      <td>0.0</td>\n      <td>0.0</td>\n      <td>0.0</td>\n      <td>0.0</td>\n      <td>0.0</td>\n      <td>0.0</td>\n      <td>0.0</td>\n      <td>0.0</td>\n      <td>0.0</td>\n      <td>A Johnson</td>\n    </tr>\n    <tr>\n      <th>1</th>\n      <td>Andre Iguodala</td>\n      <td>Heat</td>\n      <td>8.0</td>\n      <td>0.0</td>\n      <td>5.0</td>\n      <td>3.0</td>\n      <td>0.0</td>\n      <td>0.0</td>\n      <td>1.0</td>\n      <td>1.0</td>\n      <td>...</td>\n      <td>0.0</td>\n      <td>0.0</td>\n      <td>0.0</td>\n      <td>1.0</td>\n      <td>0.0</td>\n      <td>0.0</td>\n      <td>0.0</td>\n      <td>0.0</td>\n      <td>0.0</td>\n      <td>A Iguodala</td>\n    </tr>\n    <tr>\n      <th>2</th>\n      <td>Bam Adebayo</td>\n      <td>Heat</td>\n      <td>21.0</td>\n      <td>2.0</td>\n      <td>8.0</td>\n      <td>2.0</td>\n      <td>9.0</td>\n      <td>1.0</td>\n      <td>3.0</td>\n      <td>1.0</td>\n      <td>...</td>\n      <td>0.0</td>\n      <td>0.0</td>\n      <td>2.0</td>\n      <td>0.0</td>\n      <td>1.0</td>\n      <td>0.0</td>\n      <td>0.0</td>\n      <td>0.0</td>\n      <td>2.0</td>\n      <td>B Adebayo</td>\n    </tr>\n    <tr>\n      <th>3</th>\n      <td>Blake Griffin</td>\n      <td>Nets</td>\n      <td>7.0</td>\n      <td>3.0</td>\n      <td>1.0</td>\n      <td>3.0</td>\n      <td>0.0</td>\n      <td>0.0</td>\n      <td>0.0</td>\n      <td>0.0</td>\n      <td>...</td>\n      <td>1.0</td>\n      <td>0.0</td>\n      <td>1.0</td>\n      <td>0.0</td>\n      <td>0.0</td>\n      <td>0.0</td>\n      <td>1.0</td>\n      <td>0.0</td>\n      <td>0.0</td>\n      <td>B Griffin</td>\n    </tr>\n    <tr>\n      <th>4</th>\n      <td>Bruce Brown</td>\n      <td>Nets</td>\n      <td>8.0</td>\n      <td>0.0</td>\n      <td>0.0</td>\n      <td>4.0</td>\n      <td>4.0</td>\n      <td>0.0</td>\n      <td>0.0</td>\n      <td>2.0</td>\n      <td>...</td>\n      <td>0.0</td>\n      <td>0.0</td>\n      <td>0.0</td>\n      <td>0.0</td>\n      <td>0.0</td>\n      <td>0.0</td>\n      <td>0.0</td>\n      <td>2.0</td>\n      <td>0.0</td>\n      <td>B Brown</td>\n    </tr>\n    <tr>\n      <th>5</th>\n      <td>Dewayne Dedmon</td>\n      <td>Heat</td>\n      <td>10.0</td>\n      <td>2.0</td>\n      <td>6.0</td>\n      <td>2.0</td>\n      <td>0.0</td>\n      <td>0.0</td>\n      <td>1.0</td>\n      <td>0.0</td>\n      <td>...</td>\n      <td>0.0</td>\n      <td>2.0</td>\n      <td>4.0</td>\n      <td>2.0</td>\n      <td>0.0</td>\n      <td>0.0</td>\n      <td>0.0</td>\n      <td>0.0</td>\n      <td>0.0</td>\n      <td>D Dedmon</td>\n    </tr>\n    <tr>\n      <th>6</th>\n      <td>Duncan Robinson</td>\n      <td>Heat</td>\n      <td>11.0</td>\n      <td>3.0</td>\n      <td>3.0</td>\n      <td>2.0</td>\n      <td>3.0</td>\n      <td>0.0</td>\n      <td>0.0</td>\n      <td>1.0</td>\n      <td>...</td>\n      <td>1.0</td>\n      <td>0.0</td>\n      <td>0.0</td>\n      <td>0.0</td>\n      <td>0.0</td>\n      <td>0.0</td>\n      <td>0.0</td>\n      <td>0.0</td>\n      <td>0.0</td>\n      <td>D Robinson</td>\n    </tr>\n    <tr>\n      <th>7</th>\n      <td>Goran Dragic</td>\n      <td>Heat</td>\n      <td>18.0</td>\n      <td>8.0</td>\n      <td>3.0</td>\n      <td>3.0</td>\n      <td>4.0</td>\n      <td>0.0</td>\n      <td>0.0</td>\n      <td>1.0</td>\n      <td>...</td>\n      <td>2.0</td>\n      <td>2.0</td>\n      <td>0.0</td>\n      <td>1.0</td>\n      <td>0.0</td>\n      <td>0.0</td>\n      <td>0.0</td>\n      <td>0.0</td>\n      <td>0.0</td>\n      <td>G Dragic</td>\n    </tr>\n    <tr>\n      <th>8</th>\n      <td>Jeff Green</td>\n      <td>Nets</td>\n      <td>8.0</td>\n      <td>2.0</td>\n      <td>2.0</td>\n      <td>0.0</td>\n      <td>4.0</td>\n      <td>1.0</td>\n      <td>1.0</td>\n      <td>0.0</td>\n      <td>...</td>\n      <td>1.0</td>\n      <td>0.0</td>\n      <td>0.0</td>\n      <td>0.0</td>\n      <td>2.0</td>\n      <td>0.0</td>\n      <td>0.0</td>\n      <td>0.0</td>\n      <td>0.0</td>\n      <td>J Green</td>\n    </tr>\n    <tr>\n      <th>9</th>\n      <td>Joe Harris</td>\n      <td>Nets</td>\n      <td>12.0</td>\n      <td>0.0</td>\n      <td>2.0</td>\n      <td>5.0</td>\n      <td>5.0</td>\n      <td>0.0</td>\n      <td>1.0</td>\n      <td>1.0</td>\n      <td>...</td>\n      <td>3.0</td>\n      <td>0.0</td>\n      <td>0.0</td>\n      <td>0.0</td>\n      <td>0.0</td>\n      <td>0.0</td>\n      <td>0.0</td>\n      <td>0.0</td>\n      <td>0.0</td>\n      <td>J Harris</td>\n    </tr>\n    <tr>\n      <th>10</th>\n      <td>KZ Okpala</td>\n      <td></td>\n      <td>0.0</td>\n      <td>0.0</td>\n      <td>0.0</td>\n      <td>0.0</td>\n      <td>0.0</td>\n      <td>0.0</td>\n      <td>0.0</td>\n      <td>0.0</td>\n      <td>...</td>\n      <td>2.0</td>\n      <td>0.0</td>\n      <td>0.0</td>\n      <td>0.0</td>\n      <td>0.0</td>\n      <td>0.0</td>\n      <td>0.0</td>\n      <td>0.0</td>\n      <td>2.0</td>\n      <td>K Okpala</td>\n    </tr>\n    <tr>\n      <th>11</th>\n      <td>Kendrick Nunn</td>\n      <td>Heat</td>\n      <td>17.0</td>\n      <td>8.0</td>\n      <td>3.0</td>\n      <td>6.0</td>\n      <td>0.0</td>\n      <td>1.0</td>\n      <td>0.0</td>\n      <td>0.0</td>\n      <td>...</td>\n      <td>0.0</td>\n      <td>0.0</td>\n      <td>0.0</td>\n      <td>0.0</td>\n      <td>0.0</td>\n      <td>0.0</td>\n      <td>0.0</td>\n      <td>0.0</td>\n      <td>0.0</td>\n      <td>K Nunn</td>\n    </tr>\n    <tr>\n      <th>12</th>\n      <td>Kevin Durant</td>\n      <td>Nets</td>\n      <td>8.0</td>\n      <td>8.0</td>\n      <td>0.0</td>\n      <td>0.0</td>\n      <td>0.0</td>\n      <td>1.0</td>\n      <td>0.0</td>\n      <td>0.0</td>\n      <td>...</td>\n      <td>0.0</td>\n      <td>0.0</td>\n      <td>0.0</td>\n      <td>0.0</td>\n      <td>0.0</td>\n      <td>2.0</td>\n      <td>0.0</td>\n      <td>0.0</td>\n      <td>0.0</td>\n      <td>K Durant</td>\n    </tr>\n    <tr>\n      <th>13</th>\n      <td>Kyrie Irving</td>\n      <td>Nets</td>\n      <td>20.0</td>\n      <td>2.0</td>\n      <td>12.0</td>\n      <td>4.0</td>\n      <td>2.0</td>\n      <td>1.0</td>\n      <td>1.0</td>\n      <td>2.0</td>\n      <td>...</td>\n      <td>2.0</td>\n      <td>0.0</td>\n      <td>4.0</td>\n      <td>0.0</td>\n      <td>2.0</td>\n      <td>0.0</td>\n      <td>0.0</td>\n      <td>0.0</td>\n      <td>0.0</td>\n      <td>K Irving</td>\n    </tr>\n    <tr>\n      <th>14</th>\n      <td>Landry Shamet</td>\n      <td>Nets</td>\n      <td>30.0</td>\n      <td>8.0</td>\n      <td>10.0</td>\n      <td>4.0</td>\n      <td>8.0</td>\n      <td>1.0</td>\n      <td>2.0</td>\n      <td>0.0</td>\n      <td>...</td>\n      <td>0.0</td>\n      <td>0.0</td>\n      <td>0.0</td>\n      <td>1.0</td>\n      <td>2.0</td>\n      <td>0.0</td>\n      <td>0.0</td>\n      <td>1.0</td>\n      <td>0.0</td>\n      <td>L Shamet</td>\n    </tr>\n    <tr>\n      <th>15</th>\n      <td>Nicolas Claxton</td>\n      <td>Nets</td>\n      <td>4.0</td>\n      <td>2.0</td>\n      <td>0.0</td>\n      <td>2.0</td>\n      <td>0.0</td>\n      <td>1.0</td>\n      <td>0.0</td>\n      <td>1.0</td>\n      <td>...</td>\n      <td>0.0</td>\n      <td>0.0</td>\n      <td>0.0</td>\n      <td>0.0</td>\n      <td>0.0</td>\n      <td>0.0</td>\n      <td>0.0</td>\n      <td>0.0</td>\n      <td>0.0</td>\n      <td>N Claxton</td>\n    </tr>\n    <tr>\n      <th>16</th>\n      <td>Timothe Luwawu-Cabarrot</td>\n      <td>Nets</td>\n      <td>7.0</td>\n      <td>3.0</td>\n      <td>2.0</td>\n      <td>2.0</td>\n      <td>0.0</td>\n      <td>0.0</td>\n      <td>1.0</td>\n      <td>1.0</td>\n      <td>...</td>\n      <td>0.0</td>\n      <td>0.0</td>\n      <td>0.0</td>\n      <td>0.0</td>\n      <td>0.0</td>\n      <td>0.0</td>\n      <td>0.0</td>\n      <td>0.0</td>\n      <td>0.0</td>\n      <td>T Luwawu-Cabarrot</td>\n    </tr>\n    <tr>\n      <th>17</th>\n      <td>Trevor Ariza</td>\n      <td>Heat</td>\n      <td>15.0</td>\n      <td>9.0</td>\n      <td>2.0</td>\n      <td>2.0</td>\n      <td>2.0</td>\n      <td>0.0</td>\n      <td>0.0</td>\n      <td>1.0</td>\n      <td>...</td>\n      <td>1.0</td>\n      <td>0.0</td>\n      <td>2.0</td>\n      <td>0.0</td>\n      <td>0.0</td>\n      <td>0.0</td>\n      <td>0.0</td>\n      <td>0.0</td>\n      <td>0.0</td>\n      <td>T Ariza</td>\n    </tr>\n    <tr>\n      <th>18</th>\n      <td>Tyler Herro</td>\n      <td>Heat</td>\n      <td>9.0</td>\n      <td>0.0</td>\n      <td>2.0</td>\n      <td>2.0</td>\n      <td>5.0</td>\n      <td>0.0</td>\n      <td>1.0</td>\n      <td>1.0</td>\n      <td>...</td>\n      <td>1.0</td>\n      <td>0.0</td>\n      <td>0.0</td>\n      <td>0.0</td>\n      <td>0.0</td>\n      <td>0.0</td>\n      <td>0.0</td>\n      <td>0.0</td>\n      <td>0.0</td>\n      <td>T Herro</td>\n    </tr>\n  </tbody>\n</table>\n<p>19 rows × 32 columns</p>\n</div>"
     },
     "execution_count": 8,
     "metadata": {},
     "output_type": "execute_result"
    }
   ],
   "source": [
    "#final['site'] = final['team'].apply(lambda x: 1 if x == home else (0 if x == away else x))\n",
    "grouped_score['initials'] = grouped_score['player'].apply(lambda x: ' '.join([x.split()[0][0]]+ x.split()[1:]))\n",
    "grouped_score['team'] = grouped_score['team'].map(c.format_team_names)\n",
    "grouped_score"
   ],
   "metadata": {
    "collapsed": false,
    "pycharm": {
     "name": "#%%\n"
    }
   }
  },
  {
   "cell_type": "code",
   "execution_count": 35,
   "outputs": [
    {
     "data": {
      "text/plain": "   team  points  1Q PTS  2Q PTS  3Q PTS  4Q PTS  1Q FG  2Q FG  3Q FG  4Q FG  \\\n0  Heat    66.0    13.0    21.0    15.0    17.0    2.0    5.0    4.0    5.0   \n1  Nets    78.0    12.0    26.0    17.0    23.0    3.0    5.0    5.0    4.0   \n\n   ...  3Q 3PM  4Q 3PM  1Q FT  2Q FT  3Q FT  4Q FT  1Q FTM  2Q FTM  3Q FTM  \\\n0  ...     5.0     2.0    0.0    2.0    1.0    1.0     0.0     0.0     0.0   \n1  ...     8.0     6.0    0.0    4.0    1.0    6.0     0.0     0.0     3.0   \n\n   4Q FTM  \n0     2.0  \n1     0.0  \n\n[2 rows x 30 columns]",
      "text/html": "<div>\n<style scoped>\n    .dataframe tbody tr th:only-of-type {\n        vertical-align: middle;\n    }\n\n    .dataframe tbody tr th {\n        vertical-align: top;\n    }\n\n    .dataframe thead th {\n        text-align: right;\n    }\n</style>\n<table border=\"1\" class=\"dataframe\">\n  <thead>\n    <tr style=\"text-align: right;\">\n      <th></th>\n      <th>team</th>\n      <th>points</th>\n      <th>1Q PTS</th>\n      <th>2Q PTS</th>\n      <th>3Q PTS</th>\n      <th>4Q PTS</th>\n      <th>1Q FG</th>\n      <th>2Q FG</th>\n      <th>3Q FG</th>\n      <th>4Q FG</th>\n      <th>...</th>\n      <th>3Q 3PM</th>\n      <th>4Q 3PM</th>\n      <th>1Q FT</th>\n      <th>2Q FT</th>\n      <th>3Q FT</th>\n      <th>4Q FT</th>\n      <th>1Q FTM</th>\n      <th>2Q FTM</th>\n      <th>3Q FTM</th>\n      <th>4Q FTM</th>\n    </tr>\n  </thead>\n  <tbody>\n    <tr>\n      <th>0</th>\n      <td>Heat</td>\n      <td>66.0</td>\n      <td>13.0</td>\n      <td>21.0</td>\n      <td>15.0</td>\n      <td>17.0</td>\n      <td>2.0</td>\n      <td>5.0</td>\n      <td>4.0</td>\n      <td>5.0</td>\n      <td>...</td>\n      <td>5.0</td>\n      <td>2.0</td>\n      <td>0.0</td>\n      <td>2.0</td>\n      <td>1.0</td>\n      <td>1.0</td>\n      <td>0.0</td>\n      <td>0.0</td>\n      <td>0.0</td>\n      <td>2.0</td>\n    </tr>\n    <tr>\n      <th>1</th>\n      <td>Nets</td>\n      <td>78.0</td>\n      <td>12.0</td>\n      <td>26.0</td>\n      <td>17.0</td>\n      <td>23.0</td>\n      <td>3.0</td>\n      <td>5.0</td>\n      <td>5.0</td>\n      <td>4.0</td>\n      <td>...</td>\n      <td>8.0</td>\n      <td>6.0</td>\n      <td>0.0</td>\n      <td>4.0</td>\n      <td>1.0</td>\n      <td>6.0</td>\n      <td>0.0</td>\n      <td>0.0</td>\n      <td>3.0</td>\n      <td>0.0</td>\n    </tr>\n  </tbody>\n</table>\n<p>2 rows × 30 columns</p>\n</div>"
     },
     "execution_count": 35,
     "metadata": {},
     "output_type": "execute_result"
    }
   ],
   "source": [
    "players = pd.Series(['B Adebayo', 'K Nunn','A Iguodala', 'T Herro', 'D Robinson', 'K Irving',  'L Shamet', 'B Brown', 'J Harris', 'J Green'])\n",
    "teams = pd.Series(['Heat', 'Heat', 'Heat', 'Heat', 'Heat', 'Nets', 'Nets', 'Nets', 'Nets', 'Nets'])\n",
    "otf = pd.DataFrame({'initials': players, 'team':teams})\n",
    "#ts percentage for each team with the players they have on the floor\n",
    "otf2 = otf.merge(grouped_score, how='left', on=['initials','team'], )\n",
    "otf_df = otf2.groupby('team', as_index=False).sum()\n",
    "otf_df"
   ],
   "metadata": {
    "collapsed": false,
    "pycharm": {
     "name": "#%%\n"
    }
   }
  },
  {
   "cell_type": "code",
   "execution_count": 80,
   "outputs": [],
   "source": [
    "import numpy as np\n",
    "\n",
    "def advanced_stats(teams_df):\n",
    "    shots = pd.DataFrame(0, index=np.arange(len(teams_df)), columns=['attempts', '3p_attempts'])\n",
    "\n",
    "    points, fg_attempts, ft_attempts, three_attempts = 0, 0, 0, 0\n",
    "\n",
    "    for i in range(1, current_period+1):\n",
    "        #points += teams_df[str(i)+'Q PTS'].astype(int)\n",
    "        #print(i)\n",
    "        fg_attempts += (teams_df[str(i)+'Q FG'].sum() + teams_df[str(i)+'Q FGM'].sum())\n",
    "        ft_attempts += (teams_df[str(i)+'Q FT'].sum() + teams_df[str(i)+'Q FTM'].sum())\n",
    "        three_attempts += (teams_df[str(i)+'Q 3P'].sum() + teams_df[str(i)+'Q 3PM'].sum())\n",
    "        shots['attempts'] +=  teams_df[str(i)+'Q FG'] + teams_df[str(i)+'Q FGM'] +teams_df[str(i)+'Q 3P']+ teams_df[str(i)+'Q 3PM']\n",
    "        shots['3p_attempts'] += (teams_df[str(i)+'Q 3P'] + teams_df[str(i)+'Q 3PM'])\n",
    "        #print(teams_df[str(i)+'Q FG'] + teams_df[str(i)+'Q FGM'] )\n",
    "        #print(teams_df[str(i)+'Q FG'])\n",
    "        #print(teams_df[str(i)+'Q FGM'])\n",
    "        #print(shots['attempts'] )\n",
    "\n",
    "    #true_shooting_attempts = (fg_attempts + three_attempts) + .44 * ft_attempts\n",
    "    points = teams_df['points'].sum()\n",
    "    print(shots['attempts'] )\n",
    "    print(pd.concat([teams_df, shots], axis=1, ignore_index=False))\n",
    "    print(points, fg_attempts, three_attempts, ft_attempts)\n",
    "    ts_percentage = points / (2 * ( (fg_attempts + three_attempts) + .44 * ft_attempts))\n",
    "    return ts_percentage"
   ],
   "metadata": {
    "collapsed": false,
    "pycharm": {
     "name": "#%%\n"
    }
   }
  },
  {
   "cell_type": "code",
   "execution_count": 50,
   "outputs": [
    {
     "name": "stdout",
     "output_type": "stream",
     "text": [
      "0   NaN\n",
      "Name: attempts, dtype: float64\n",
      "78.0 28.0 32.0 14.0\n"
     ]
    },
    {
     "data": {
      "text/plain": "0.5894800483675937"
     },
     "execution_count": 50,
     "metadata": {},
     "output_type": "execute_result"
    }
   ],
   "source": [
    "df0 = advanced_stats(teams_df=otf_df[otf_df['team'] == 'Nets'])\n",
    "df0"
   ],
   "metadata": {
    "collapsed": false,
    "pycharm": {
     "name": "#%%\n"
    }
   }
  },
  {
   "cell_type": "code",
   "execution_count": 51,
   "outputs": [
    {
     "name": "stdout",
     "output_type": "stream",
     "text": [
      "0    32.0\n",
      "Name: attempts, dtype: float64\n",
      "66.0 32.0 22.0 6.0\n"
     ]
    },
    {
     "data": {
      "text/plain": "0.5826271186440678"
     },
     "execution_count": 51,
     "metadata": {},
     "output_type": "execute_result"
    }
   ],
   "source": [
    "df1 = advanced_stats(teams_df=otf_df[otf_df['team'] == 'Heat'])\n",
    "df1"
   ],
   "metadata": {
    "collapsed": false,
    "pycharm": {
     "name": "#%%\n"
    }
   }
  },
  {
   "cell_type": "code",
   "execution_count": 74,
   "outputs": [],
   "source": [
    "nets = grouped_score[grouped_score['team'] == 'Nets'].reset_index(drop=True)\n"
   ],
   "metadata": {
    "collapsed": false,
    "pycharm": {
     "name": "#%%\n"
    }
   }
  },
  {
   "cell_type": "code",
   "execution_count": 61,
   "outputs": [],
   "source": [
    "#nets = nets.drop(['player', 'team', 'initials'], axis=1)\n"
   ],
   "metadata": {
    "collapsed": false,
    "pycharm": {
     "name": "#%%\n"
    }
   }
  },
  {
   "cell_type": "code",
   "execution_count": 62,
   "outputs": [
    {
     "data": {
      "text/plain": "player      Alize JohnsonBlake GriffinBruce BrownJeff Gree...\nteam                 NetsNetsNetsNetsNetsNetsNetsNetsNetsNets\npoints                                                  107.0\n1Q PTS                                                   31.0\n2Q PTS                                                   29.0\n3Q PTS                                                   24.0\n4Q PTS                                                   23.0\n1Q FG                                                     5.0\n2Q FG                                                     6.0\n3Q FG                                                     7.0\n4Q FG                                                     4.0\n1Q FGM                                                    3.0\n2Q FGM                                                    4.0\n3Q FGM                                                    5.0\n4Q FGM                                                    4.0\n1Q 3P                                                     7.0\n2Q 3P                                                     4.0\n3Q 3P                                                     3.0\n4Q 3P                                                     3.0\n1Q 3PM                                                    5.0\n2Q 3PM                                                    4.0\n3Q 3PM                                                    8.0\n4Q 3PM                                                    7.0\n1Q FT                                                     0.0\n2Q FT                                                     5.0\n3Q FT                                                     1.0\n4Q FT                                                     6.0\n1Q FTM                                                    2.0\n2Q FTM                                                    1.0\n3Q FTM                                                    3.0\n4Q FTM                                                    0.0\ninitials    A JohnsonB GriffinB BrownJ GreenJ HarrisK Dura...\ndtype: object"
     },
     "execution_count": 62,
     "metadata": {},
     "output_type": "execute_result"
    }
   ],
   "source": [
    "nets.sum()"
   ],
   "metadata": {
    "collapsed": false,
    "pycharm": {
     "name": "#%%\n"
    }
   }
  },
  {
   "cell_type": "code",
   "execution_count": 81,
   "outputs": [
    {
     "name": "stdout",
     "output_type": "stream",
     "text": [
      "0     1.0\n",
      "1     7.0\n",
      "2     7.0\n",
      "3     9.0\n",
      "4    12.0\n",
      "5     3.0\n",
      "6    17.0\n",
      "7    15.0\n",
      "8     3.0\n",
      "9     5.0\n",
      "Name: attempts, dtype: float64\n",
      "                    player  team  points  1Q PTS  2Q PTS  3Q PTS  4Q PTS  \\\n",
      "0            Alize Johnson  Nets     3.0     3.0     0.0     0.0     0.0   \n",
      "1            Blake Griffin  Nets     7.0     3.0     1.0     3.0     0.0   \n",
      "2              Bruce Brown  Nets     8.0     0.0     0.0     4.0     4.0   \n",
      "3               Jeff Green  Nets     8.0     2.0     2.0     0.0     4.0   \n",
      "4               Joe Harris  Nets    12.0     0.0     2.0     5.0     5.0   \n",
      "5             Kevin Durant  Nets     8.0     8.0     0.0     0.0     0.0   \n",
      "6             Kyrie Irving  Nets    20.0     2.0    12.0     4.0     2.0   \n",
      "7            Landry Shamet  Nets    30.0     8.0    10.0     4.0     8.0   \n",
      "8          Nicolas Claxton  Nets     4.0     2.0     0.0     2.0     0.0   \n",
      "9  Timothe Luwawu-Cabarrot  Nets     7.0     3.0     2.0     2.0     0.0   \n",
      "\n",
      "   1Q FG  2Q FG  3Q FG  ...  2Q FT  3Q FT  4Q FT  1Q FTM  2Q FTM  3Q FTM  \\\n",
      "0    0.0    0.0    0.0  ...    0.0    0.0    0.0     0.0     0.0     0.0   \n",
      "1    0.0    0.0    0.0  ...    1.0    0.0    0.0     0.0     1.0     0.0   \n",
      "2    0.0    0.0    2.0  ...    0.0    0.0    0.0     0.0     0.0     2.0   \n",
      "3    1.0    1.0    0.0  ...    0.0    0.0    2.0     0.0     0.0     0.0   \n",
      "4    0.0    1.0    1.0  ...    0.0    0.0    0.0     0.0     0.0     0.0   \n",
      "5    1.0    0.0    0.0  ...    0.0    0.0    0.0     2.0     0.0     0.0   \n",
      "6    1.0    1.0    2.0  ...    4.0    0.0    2.0     0.0     0.0     0.0   \n",
      "7    1.0    2.0    0.0  ...    0.0    1.0    2.0     0.0     0.0     1.0   \n",
      "8    1.0    0.0    1.0  ...    0.0    0.0    0.0     0.0     0.0     0.0   \n",
      "9    0.0    1.0    1.0  ...    0.0    0.0    0.0     0.0     0.0     0.0   \n",
      "\n",
      "   4Q FTM           initials  attempts  3p_attempts  \n",
      "0     0.0          A Johnson       1.0          1.0  \n",
      "1     0.0          B Griffin       7.0          4.0  \n",
      "2     0.0            B Brown       7.0          1.0  \n",
      "3     0.0            J Green       9.0          3.0  \n",
      "4     0.0           J Harris      12.0          9.0  \n",
      "5     0.0           K Durant       3.0          2.0  \n",
      "6     0.0           K Irving      17.0          7.0  \n",
      "7     0.0           L Shamet      15.0         12.0  \n",
      "8     0.0          N Claxton       3.0          0.0  \n",
      "9     0.0  T Luwawu-Cabarrot       5.0          2.0  \n",
      "\n",
      "[10 rows x 34 columns]\n",
      "107.0 38.0 41.0 18.0\n"
     ]
    }
   ],
   "source": [
    "df2 = advanced_stats(teams_df=nets)"
   ],
   "metadata": {
    "collapsed": false,
    "pycharm": {
     "name": "#%%\n"
    }
   }
  },
  {
   "cell_type": "code",
   "execution_count": 43,
   "outputs": [
    {
     "data": {
      "text/plain": "             player  team  points  1Q PTS  2Q PTS  3Q PTS  4Q PTS  1Q FG  \\\n1    Andre Iguodala  Heat     8.0     0.0     5.0     3.0     0.0    0.0   \n2       Bam Adebayo  Heat    21.0     2.0     8.0     2.0     9.0    1.0   \n5    Dewayne Dedmon  Heat    10.0     2.0     6.0     2.0     0.0    0.0   \n6   Duncan Robinson  Heat    11.0     3.0     3.0     2.0     3.0    0.0   \n7      Goran Dragic  Heat    18.0     8.0     3.0     3.0     4.0    0.0   \n11    Kendrick Nunn  Heat    17.0     8.0     3.0     6.0     0.0    1.0   \n17     Trevor Ariza  Heat    15.0     9.0     2.0     2.0     2.0    0.0   \n18      Tyler Herro  Heat     9.0     0.0     2.0     2.0     5.0    0.0   \n\n    2Q FG  3Q FG  ...  4Q 3PM  1Q FT  2Q FT  3Q FT  4Q FT  1Q FTM  2Q FTM  \\\n1     1.0    1.0  ...     0.0    0.0    0.0    1.0    0.0     0.0     0.0   \n2     3.0    1.0  ...     0.0    0.0    2.0    0.0    1.0     0.0     0.0   \n5     1.0    0.0  ...     0.0    2.0    4.0    2.0    0.0     0.0     0.0   \n6     0.0    1.0  ...     1.0    0.0    0.0    0.0    0.0     0.0     0.0   \n7     0.0    1.0  ...     2.0    2.0    0.0    1.0    0.0     0.0     0.0   \n11    0.0    0.0  ...     0.0    0.0    0.0    0.0    0.0     0.0     0.0   \n17    0.0    1.0  ...     1.0    0.0    2.0    0.0    0.0     0.0     0.0   \n18    1.0    1.0  ...     1.0    0.0    0.0    0.0    0.0     0.0     0.0   \n\n    3Q FTM  4Q FTM    initials  \n1      0.0     0.0  A Iguodala  \n2      0.0     2.0   B Adebayo  \n5      0.0     0.0    D Dedmon  \n6      0.0     0.0  D Robinson  \n7      0.0     0.0    G Dragic  \n11     0.0     0.0      K Nunn  \n17     0.0     0.0     T Ariza  \n18     0.0     0.0     T Herro  \n\n[8 rows x 32 columns]",
      "text/html": "<div>\n<style scoped>\n    .dataframe tbody tr th:only-of-type {\n        vertical-align: middle;\n    }\n\n    .dataframe tbody tr th {\n        vertical-align: top;\n    }\n\n    .dataframe thead th {\n        text-align: right;\n    }\n</style>\n<table border=\"1\" class=\"dataframe\">\n  <thead>\n    <tr style=\"text-align: right;\">\n      <th></th>\n      <th>player</th>\n      <th>team</th>\n      <th>points</th>\n      <th>1Q PTS</th>\n      <th>2Q PTS</th>\n      <th>3Q PTS</th>\n      <th>4Q PTS</th>\n      <th>1Q FG</th>\n      <th>2Q FG</th>\n      <th>3Q FG</th>\n      <th>...</th>\n      <th>4Q 3PM</th>\n      <th>1Q FT</th>\n      <th>2Q FT</th>\n      <th>3Q FT</th>\n      <th>4Q FT</th>\n      <th>1Q FTM</th>\n      <th>2Q FTM</th>\n      <th>3Q FTM</th>\n      <th>4Q FTM</th>\n      <th>initials</th>\n    </tr>\n  </thead>\n  <tbody>\n    <tr>\n      <th>1</th>\n      <td>Andre Iguodala</td>\n      <td>Heat</td>\n      <td>8.0</td>\n      <td>0.0</td>\n      <td>5.0</td>\n      <td>3.0</td>\n      <td>0.0</td>\n      <td>0.0</td>\n      <td>1.0</td>\n      <td>1.0</td>\n      <td>...</td>\n      <td>0.0</td>\n      <td>0.0</td>\n      <td>0.0</td>\n      <td>1.0</td>\n      <td>0.0</td>\n      <td>0.0</td>\n      <td>0.0</td>\n      <td>0.0</td>\n      <td>0.0</td>\n      <td>A Iguodala</td>\n    </tr>\n    <tr>\n      <th>2</th>\n      <td>Bam Adebayo</td>\n      <td>Heat</td>\n      <td>21.0</td>\n      <td>2.0</td>\n      <td>8.0</td>\n      <td>2.0</td>\n      <td>9.0</td>\n      <td>1.0</td>\n      <td>3.0</td>\n      <td>1.0</td>\n      <td>...</td>\n      <td>0.0</td>\n      <td>0.0</td>\n      <td>2.0</td>\n      <td>0.0</td>\n      <td>1.0</td>\n      <td>0.0</td>\n      <td>0.0</td>\n      <td>0.0</td>\n      <td>2.0</td>\n      <td>B Adebayo</td>\n    </tr>\n    <tr>\n      <th>5</th>\n      <td>Dewayne Dedmon</td>\n      <td>Heat</td>\n      <td>10.0</td>\n      <td>2.0</td>\n      <td>6.0</td>\n      <td>2.0</td>\n      <td>0.0</td>\n      <td>0.0</td>\n      <td>1.0</td>\n      <td>0.0</td>\n      <td>...</td>\n      <td>0.0</td>\n      <td>2.0</td>\n      <td>4.0</td>\n      <td>2.0</td>\n      <td>0.0</td>\n      <td>0.0</td>\n      <td>0.0</td>\n      <td>0.0</td>\n      <td>0.0</td>\n      <td>D Dedmon</td>\n    </tr>\n    <tr>\n      <th>6</th>\n      <td>Duncan Robinson</td>\n      <td>Heat</td>\n      <td>11.0</td>\n      <td>3.0</td>\n      <td>3.0</td>\n      <td>2.0</td>\n      <td>3.0</td>\n      <td>0.0</td>\n      <td>0.0</td>\n      <td>1.0</td>\n      <td>...</td>\n      <td>1.0</td>\n      <td>0.0</td>\n      <td>0.0</td>\n      <td>0.0</td>\n      <td>0.0</td>\n      <td>0.0</td>\n      <td>0.0</td>\n      <td>0.0</td>\n      <td>0.0</td>\n      <td>D Robinson</td>\n    </tr>\n    <tr>\n      <th>7</th>\n      <td>Goran Dragic</td>\n      <td>Heat</td>\n      <td>18.0</td>\n      <td>8.0</td>\n      <td>3.0</td>\n      <td>3.0</td>\n      <td>4.0</td>\n      <td>0.0</td>\n      <td>0.0</td>\n      <td>1.0</td>\n      <td>...</td>\n      <td>2.0</td>\n      <td>2.0</td>\n      <td>0.0</td>\n      <td>1.0</td>\n      <td>0.0</td>\n      <td>0.0</td>\n      <td>0.0</td>\n      <td>0.0</td>\n      <td>0.0</td>\n      <td>G Dragic</td>\n    </tr>\n    <tr>\n      <th>11</th>\n      <td>Kendrick Nunn</td>\n      <td>Heat</td>\n      <td>17.0</td>\n      <td>8.0</td>\n      <td>3.0</td>\n      <td>6.0</td>\n      <td>0.0</td>\n      <td>1.0</td>\n      <td>0.0</td>\n      <td>0.0</td>\n      <td>...</td>\n      <td>0.0</td>\n      <td>0.0</td>\n      <td>0.0</td>\n      <td>0.0</td>\n      <td>0.0</td>\n      <td>0.0</td>\n      <td>0.0</td>\n      <td>0.0</td>\n      <td>0.0</td>\n      <td>K Nunn</td>\n    </tr>\n    <tr>\n      <th>17</th>\n      <td>Trevor Ariza</td>\n      <td>Heat</td>\n      <td>15.0</td>\n      <td>9.0</td>\n      <td>2.0</td>\n      <td>2.0</td>\n      <td>2.0</td>\n      <td>0.0</td>\n      <td>0.0</td>\n      <td>1.0</td>\n      <td>...</td>\n      <td>1.0</td>\n      <td>0.0</td>\n      <td>2.0</td>\n      <td>0.0</td>\n      <td>0.0</td>\n      <td>0.0</td>\n      <td>0.0</td>\n      <td>0.0</td>\n      <td>0.0</td>\n      <td>T Ariza</td>\n    </tr>\n    <tr>\n      <th>18</th>\n      <td>Tyler Herro</td>\n      <td>Heat</td>\n      <td>9.0</td>\n      <td>0.0</td>\n      <td>2.0</td>\n      <td>2.0</td>\n      <td>5.0</td>\n      <td>0.0</td>\n      <td>1.0</td>\n      <td>1.0</td>\n      <td>...</td>\n      <td>1.0</td>\n      <td>0.0</td>\n      <td>0.0</td>\n      <td>0.0</td>\n      <td>0.0</td>\n      <td>0.0</td>\n      <td>0.0</td>\n      <td>0.0</td>\n      <td>0.0</td>\n      <td>T Herro</td>\n    </tr>\n  </tbody>\n</table>\n<p>8 rows × 32 columns</p>\n</div>"
     },
     "execution_count": 43,
     "metadata": {},
     "output_type": "execute_result"
    }
   ],
   "source": [
    "\n",
    "heat = grouped_score[grouped_score['team'] == 'Heat']\n",
    "heat"
   ],
   "metadata": {
    "collapsed": false,
    "pycharm": {
     "name": "#%%\n"
    }
   }
  },
  {
   "cell_type": "code",
   "execution_count": 44,
   "outputs": [
    {
     "data": {
      "text/plain": "points    109.0\n1Q PTS     32.0\n2Q PTS     32.0\n3Q PTS     22.0\n4Q PTS     23.0\n1Q FG       2.0\n2Q FG       6.0\n3Q FG       6.0\n4Q FG       8.0\n1Q FGM      5.0\n2Q FGM      3.0\n3Q FGM      8.0\n4Q FGM      5.0\n1Q 3P       8.0\n2Q 3P       4.0\n3Q 3P       2.0\n4Q 3P       2.0\n1Q 3PM      5.0\n2Q 3PM      3.0\n3Q 3PM      8.0\n4Q 3PM      5.0\n1Q FT       4.0\n2Q FT       8.0\n3Q FT       4.0\n4Q FT       1.0\n1Q FTM      0.0\n2Q FTM      0.0\n3Q FTM      0.0\n4Q FTM      2.0\ndtype: float64"
     },
     "execution_count": 44,
     "metadata": {},
     "output_type": "execute_result"
    }
   ],
   "source": [
    "heat = heat.drop(['player', 'team', 'initials'], axis=1)\n",
    "heat.sum()"
   ],
   "metadata": {
    "collapsed": false,
    "pycharm": {
     "name": "#%%\n"
    }
   }
  },
  {
   "cell_type": "code",
   "execution_count": 45,
   "outputs": [
    {
     "name": "stdout",
     "output_type": "stream",
     "text": [
      "109 43 37 19\n"
     ]
    },
    {
     "data": {
      "text/plain": "0.6167949298325034"
     },
     "execution_count": 45,
     "metadata": {},
     "output_type": "execute_result"
    }
   ],
   "source": [
    "df3 = advanced_stats(teams_df=heat.astype(int))\n",
    "df3\n"
   ],
   "metadata": {
    "collapsed": false,
    "pycharm": {
     "name": "#%%\n"
    }
   }
  },
  {
   "cell_type": "code",
   "execution_count": 85,
   "outputs": [],
   "source": [],
   "metadata": {
    "collapsed": false,
    "pycharm": {
     "name": "#%%\n"
    }
   }
  },
  {
   "cell_type": "code",
   "execution_count": 85,
   "outputs": [],
   "source": [],
   "metadata": {
    "collapsed": false,
    "pycharm": {
     "name": "#%%\n"
    }
   }
  },
  {
   "cell_type": "code",
   "execution_count": null,
   "outputs": [],
   "source": [],
   "metadata": {
    "collapsed": false,
    "pycharm": {
     "name": "#%%\n"
    }
   }
  }
 ],
 "metadata": {
  "kernelspec": {
   "display_name": "Python 3",
   "language": "python",
   "name": "python3"
  },
  "language_info": {
   "codemirror_mode": {
    "name": "ipython",
    "version": 2
   },
   "file_extension": ".py",
   "mimetype": "text/x-python",
   "name": "python",
   "nbconvert_exporter": "python",
   "pygments_lexer": "ipython2",
   "version": "2.7.6"
  }
 },
 "nbformat": 4,
 "nbformat_minor": 0
}