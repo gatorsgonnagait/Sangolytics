{
 "cells": [
  {
   "cell_type": "code",
   "execution_count": 3,
   "metadata": {
    "collapsed": true
   },
   "outputs": [],
   "source": [
    "from datetime import datetime as dt\n",
    "import requests\n",
    "import pandas as pd\n",
    "import Tools as t\n"
   ]
  },
  {
   "cell_type": "code",
   "execution_count": 5,
   "outputs": [],
   "source": [
    "api_key = 'c06e566dfb583f3a48a89143106b6241'\n",
    "#sport = 'americanfootball_ncaaf'\n",
    "sport = 'basketball_ncaab'\n",
    "region = 'us'\n",
    "market = 'totals'"
   ],
   "metadata": {
    "collapsed": false,
    "pycharm": {
     "name": "#%%\n"
    }
   }
  },
  {
   "cell_type": "code",
   "execution_count": null,
   "outputs": [],
   "source": [
    "odds_response = requests.get('https://api.the-odds-api.com/v3/odds', params={\n",
    "    'api_key': api_key,\n",
    "    'sport': sport,\n",
    "    'region': region,\n",
    "    'mkt': market,\n",
    "}).json()\n",
    "\n",
    "df = pd.DataFrame.from_dict(odds_response['data'])\n",
    "\n",
    "df['Date'] = df['commence_time'].apply(lambda x: dt.fromtimestamp(x).replace(hour=0, minute=0, tzinfo=None))\n",
    "df['Home'] = df['home_team'].apply(lambda x: t.format_team_names(x))\n",
    "df['left_home'] = df.apply(lambda row: 1 if t.format_team_names(row.teams[0]) == row.Home else 0, axis = 1)\n",
    "df['Away'] = df.apply(lambda row: t.format_team_names(row.teams[1]) if row.left_home == 1 else t.format_team_names(row.teams[0]), axis = 1)\n",
    "df['Game'] = df['Date'].astype('str') + ' ' + df['Away'] + ' ' + df['Home']\n",
    "if market == 'spreads':\n",
    "    bet = 'Current Spread Home'\n",
    "else:\n",
    "    bet = 'Over Under'\n",
    "\n",
    "df[bet] = df.apply(lambda x:  t.most_frequent([i['odds'][market]['points'][1] for i in x.sites]) if ( x.left_home == 0) else t.most_frequent([i['odds'][market]['points'][0] for i in x.sites]), axis=1)\n",
    "df.drop(['left_home'], axis=1, inplace=True)"
   ],
   "metadata": {
    "collapsed": false,
    "pycharm": {
     "name": "#%%\n"
    }
   }
  },
  {
   "cell_type": "code",
   "execution_count": 18,
   "outputs": [
    {
     "data": {
      "text/plain": "         sport_key sport_nice                                       teams  \\\n0   basketball_nba        NBA      [Brooklyn Nets, Golden State Warriors]   \n1   basketball_nba        NBA  [Los Angeles Clippers, Los Angeles Lakers]   \n2   basketball_nba        NBA    [Charlotte Hornets, Cleveland Cavaliers]   \n3   basketball_nba        NBA           [Indiana Pacers, New York Knicks]   \n4   basketball_nba        NBA                 [Miami Heat, Orlando Magic]   \n5   basketball_nba        NBA    [Philadelphia 76ers, Washington Wizards]   \n6   basketball_nba        NBA           [Boston Celtics, Milwaukee Bucks]   \n7   basketball_nba        NBA     [New Orleans Pelicans, Toronto Raptors]   \n8   basketball_nba        NBA              [Atlanta Hawks, Chicago Bulls]   \n9   basketball_nba        NBA      [Memphis Grizzlies, San Antonio Spurs]   \n10  basketball_nba        NBA   [Detroit Pistons, Minnesota Timberwolves]   \n11  basketball_nba        NBA          [Denver Nuggets, Sacramento Kings]   \n12  basketball_nba        NBA         [Portland Trail Blazers, Utah Jazz]   \n13  basketball_nba        NBA            [Dallas Mavericks, Phoenix Suns]   \n14  basketball_nba        NBA          [Miami Heat, New Orleans Pelicans]   \n15  basketball_nba        NBA    [Golden State Warriors, Milwaukee Bucks]   \n16  basketball_nba        NBA             [Boston Celtics, Brooklyn Nets]   \n17  basketball_nba        NBA      [Dallas Mavericks, Los Angeles Lakers]   \n18  basketball_nba        NBA      [Denver Nuggets, Los Angeles Clippers]   \n\n    commence_time               home_team  \\\n0      1608681600           Brooklyn Nets   \n1      1608692400      Los Angeles Lakers   \n2      1608768600     Cleveland Cavaliers   \n3      1608768600          Indiana Pacers   \n4      1608768600           Orlando Magic   \n5      1608768600      Philadelphia 76ers   \n6      1608769800          Boston Celtics   \n7      1608769800         Toronto Raptors   \n8      1608772200           Chicago Bulls   \n9      1608772200       Memphis Grizzlies   \n10     1608772200  Minnesota Timberwolves   \n11     1608775800          Denver Nuggets   \n12     1608779400  Portland Trail Blazers   \n13     1608780600            Phoenix Suns   \n14     1608915600              Miami Heat   \n15     1608924600         Milwaukee Bucks   \n16     1608933600          Boston Celtics   \n17     1608944400      Los Angeles Lakers   \n18     1608953400          Denver Nuggets   \n\n                                                sites  sites_count       date  \\\n0   [{'site_key': 'pointsbetus', 'site_nice': 'Poi...            1 2020-12-22   \n1                                                  []            0 2020-12-22   \n2                                                  []            0 2020-12-23   \n3                                                  []            0 2020-12-23   \n4                                                  []            0 2020-12-23   \n5                                                  []            0 2020-12-23   \n6                                                  []            0 2020-12-23   \n7                                                  []            0 2020-12-23   \n8                                                  []            0 2020-12-23   \n9                                                  []            0 2020-12-23   \n10                                                 []            0 2020-12-23   \n11                                                 []            0 2020-12-23   \n12                                                 []            0 2020-12-23   \n13                                                 []            0 2020-12-23   \n14                                                 []            0 2020-12-25   \n15                                                 []            0 2020-12-25   \n16                                                 []            0 2020-12-25   \n17                                                 []            0 2020-12-25   \n18                                                 []            0 2020-12-25   \n\n                away_team                                               game  \\\n0   Golden State Warriors     2020-12-22 Golden State Warriors Brooklyn Nets   \n1    Los Angeles Clippers  2020-12-22 Los Angeles Clippers Los Angeles La...   \n2       Charlotte Hornets   2020-12-23 Charlotte Hornets Cleveland Cavaliers   \n3         New York Knicks          2020-12-23 New York Knicks Indiana Pacers   \n4              Miami Heat                2020-12-23 Miami Heat Orlando Magic   \n5      Washington Wizards   2020-12-23 Washington Wizards Philadelphia 76ers   \n6         Milwaukee Bucks          2020-12-23 Milwaukee Bucks Boston Celtics   \n7    New Orleans Pelicans    2020-12-23 New Orleans Pelicans Toronto Raptors   \n8           Atlanta Hawks             2020-12-23 Atlanta Hawks Chicago Bulls   \n9       San Antonio Spurs     2020-12-23 San Antonio Spurs Memphis Grizzlies   \n10        Detroit Pistons  2020-12-23 Detroit Pistons Minnesota Timberwolves   \n11       Sacramento Kings         2020-12-23 Sacramento Kings Denver Nuggets   \n12              Utah Jazz        2020-12-23 Utah Jazz Portland Trail Blazers   \n13       Dallas Mavericks           2020-12-23 Dallas Mavericks Phoenix Suns   \n14   New Orleans Pelicans         2020-12-25 New Orleans Pelicans Miami Heat   \n15  Golden State Warriors   2020-12-25 Golden State Warriors Milwaukee Bucks   \n16          Brooklyn Nets            2020-12-25 Brooklyn Nets Boston Celtics   \n17       Dallas Mavericks     2020-12-25 Dallas Mavericks Los Angeles Lakers   \n18   Los Angeles Clippers     2020-12-25 Los Angeles Clippers Denver Nuggets   \n\n    total  \n0   222.5  \n1     NaN  \n2     NaN  \n3     NaN  \n4     NaN  \n5     NaN  \n6     NaN  \n7     NaN  \n8     NaN  \n9     NaN  \n10    NaN  \n11    NaN  \n12    NaN  \n13    NaN  \n14    NaN  \n15    NaN  \n16    NaN  \n17    NaN  \n18    NaN  ",
      "text/html": "<div>\n<style scoped>\n    .dataframe tbody tr th:only-of-type {\n        vertical-align: middle;\n    }\n\n    .dataframe tbody tr th {\n        vertical-align: top;\n    }\n\n    .dataframe thead th {\n        text-align: right;\n    }\n</style>\n<table border=\"1\" class=\"dataframe\">\n  <thead>\n    <tr style=\"text-align: right;\">\n      <th></th>\n      <th>sport_key</th>\n      <th>sport_nice</th>\n      <th>teams</th>\n      <th>commence_time</th>\n      <th>home_team</th>\n      <th>sites</th>\n      <th>sites_count</th>\n      <th>date</th>\n      <th>away_team</th>\n      <th>game</th>\n      <th>total</th>\n    </tr>\n  </thead>\n  <tbody>\n    <tr>\n      <th>0</th>\n      <td>basketball_nba</td>\n      <td>NBA</td>\n      <td>[Brooklyn Nets, Golden State Warriors]</td>\n      <td>1608681600</td>\n      <td>Brooklyn Nets</td>\n      <td>[{'site_key': 'pointsbetus', 'site_nice': 'Poi...</td>\n      <td>1</td>\n      <td>2020-12-22</td>\n      <td>Golden State Warriors</td>\n      <td>2020-12-22 Golden State Warriors Brooklyn Nets</td>\n      <td>222.5</td>\n    </tr>\n    <tr>\n      <th>1</th>\n      <td>basketball_nba</td>\n      <td>NBA</td>\n      <td>[Los Angeles Clippers, Los Angeles Lakers]</td>\n      <td>1608692400</td>\n      <td>Los Angeles Lakers</td>\n      <td>[]</td>\n      <td>0</td>\n      <td>2020-12-22</td>\n      <td>Los Angeles Clippers</td>\n      <td>2020-12-22 Los Angeles Clippers Los Angeles La...</td>\n      <td>NaN</td>\n    </tr>\n    <tr>\n      <th>2</th>\n      <td>basketball_nba</td>\n      <td>NBA</td>\n      <td>[Charlotte Hornets, Cleveland Cavaliers]</td>\n      <td>1608768600</td>\n      <td>Cleveland Cavaliers</td>\n      <td>[]</td>\n      <td>0</td>\n      <td>2020-12-23</td>\n      <td>Charlotte Hornets</td>\n      <td>2020-12-23 Charlotte Hornets Cleveland Cavaliers</td>\n      <td>NaN</td>\n    </tr>\n    <tr>\n      <th>3</th>\n      <td>basketball_nba</td>\n      <td>NBA</td>\n      <td>[Indiana Pacers, New York Knicks]</td>\n      <td>1608768600</td>\n      <td>Indiana Pacers</td>\n      <td>[]</td>\n      <td>0</td>\n      <td>2020-12-23</td>\n      <td>New York Knicks</td>\n      <td>2020-12-23 New York Knicks Indiana Pacers</td>\n      <td>NaN</td>\n    </tr>\n    <tr>\n      <th>4</th>\n      <td>basketball_nba</td>\n      <td>NBA</td>\n      <td>[Miami Heat, Orlando Magic]</td>\n      <td>1608768600</td>\n      <td>Orlando Magic</td>\n      <td>[]</td>\n      <td>0</td>\n      <td>2020-12-23</td>\n      <td>Miami Heat</td>\n      <td>2020-12-23 Miami Heat Orlando Magic</td>\n      <td>NaN</td>\n    </tr>\n    <tr>\n      <th>5</th>\n      <td>basketball_nba</td>\n      <td>NBA</td>\n      <td>[Philadelphia 76ers, Washington Wizards]</td>\n      <td>1608768600</td>\n      <td>Philadelphia 76ers</td>\n      <td>[]</td>\n      <td>0</td>\n      <td>2020-12-23</td>\n      <td>Washington Wizards</td>\n      <td>2020-12-23 Washington Wizards Philadelphia 76ers</td>\n      <td>NaN</td>\n    </tr>\n    <tr>\n      <th>6</th>\n      <td>basketball_nba</td>\n      <td>NBA</td>\n      <td>[Boston Celtics, Milwaukee Bucks]</td>\n      <td>1608769800</td>\n      <td>Boston Celtics</td>\n      <td>[]</td>\n      <td>0</td>\n      <td>2020-12-23</td>\n      <td>Milwaukee Bucks</td>\n      <td>2020-12-23 Milwaukee Bucks Boston Celtics</td>\n      <td>NaN</td>\n    </tr>\n    <tr>\n      <th>7</th>\n      <td>basketball_nba</td>\n      <td>NBA</td>\n      <td>[New Orleans Pelicans, Toronto Raptors]</td>\n      <td>1608769800</td>\n      <td>Toronto Raptors</td>\n      <td>[]</td>\n      <td>0</td>\n      <td>2020-12-23</td>\n      <td>New Orleans Pelicans</td>\n      <td>2020-12-23 New Orleans Pelicans Toronto Raptors</td>\n      <td>NaN</td>\n    </tr>\n    <tr>\n      <th>8</th>\n      <td>basketball_nba</td>\n      <td>NBA</td>\n      <td>[Atlanta Hawks, Chicago Bulls]</td>\n      <td>1608772200</td>\n      <td>Chicago Bulls</td>\n      <td>[]</td>\n      <td>0</td>\n      <td>2020-12-23</td>\n      <td>Atlanta Hawks</td>\n      <td>2020-12-23 Atlanta Hawks Chicago Bulls</td>\n      <td>NaN</td>\n    </tr>\n    <tr>\n      <th>9</th>\n      <td>basketball_nba</td>\n      <td>NBA</td>\n      <td>[Memphis Grizzlies, San Antonio Spurs]</td>\n      <td>1608772200</td>\n      <td>Memphis Grizzlies</td>\n      <td>[]</td>\n      <td>0</td>\n      <td>2020-12-23</td>\n      <td>San Antonio Spurs</td>\n      <td>2020-12-23 San Antonio Spurs Memphis Grizzlies</td>\n      <td>NaN</td>\n    </tr>\n    <tr>\n      <th>10</th>\n      <td>basketball_nba</td>\n      <td>NBA</td>\n      <td>[Detroit Pistons, Minnesota Timberwolves]</td>\n      <td>1608772200</td>\n      <td>Minnesota Timberwolves</td>\n      <td>[]</td>\n      <td>0</td>\n      <td>2020-12-23</td>\n      <td>Detroit Pistons</td>\n      <td>2020-12-23 Detroit Pistons Minnesota Timberwolves</td>\n      <td>NaN</td>\n    </tr>\n    <tr>\n      <th>11</th>\n      <td>basketball_nba</td>\n      <td>NBA</td>\n      <td>[Denver Nuggets, Sacramento Kings]</td>\n      <td>1608775800</td>\n      <td>Denver Nuggets</td>\n      <td>[]</td>\n      <td>0</td>\n      <td>2020-12-23</td>\n      <td>Sacramento Kings</td>\n      <td>2020-12-23 Sacramento Kings Denver Nuggets</td>\n      <td>NaN</td>\n    </tr>\n    <tr>\n      <th>12</th>\n      <td>basketball_nba</td>\n      <td>NBA</td>\n      <td>[Portland Trail Blazers, Utah Jazz]</td>\n      <td>1608779400</td>\n      <td>Portland Trail Blazers</td>\n      <td>[]</td>\n      <td>0</td>\n      <td>2020-12-23</td>\n      <td>Utah Jazz</td>\n      <td>2020-12-23 Utah Jazz Portland Trail Blazers</td>\n      <td>NaN</td>\n    </tr>\n    <tr>\n      <th>13</th>\n      <td>basketball_nba</td>\n      <td>NBA</td>\n      <td>[Dallas Mavericks, Phoenix Suns]</td>\n      <td>1608780600</td>\n      <td>Phoenix Suns</td>\n      <td>[]</td>\n      <td>0</td>\n      <td>2020-12-23</td>\n      <td>Dallas Mavericks</td>\n      <td>2020-12-23 Dallas Mavericks Phoenix Suns</td>\n      <td>NaN</td>\n    </tr>\n    <tr>\n      <th>14</th>\n      <td>basketball_nba</td>\n      <td>NBA</td>\n      <td>[Miami Heat, New Orleans Pelicans]</td>\n      <td>1608915600</td>\n      <td>Miami Heat</td>\n      <td>[]</td>\n      <td>0</td>\n      <td>2020-12-25</td>\n      <td>New Orleans Pelicans</td>\n      <td>2020-12-25 New Orleans Pelicans Miami Heat</td>\n      <td>NaN</td>\n    </tr>\n    <tr>\n      <th>15</th>\n      <td>basketball_nba</td>\n      <td>NBA</td>\n      <td>[Golden State Warriors, Milwaukee Bucks]</td>\n      <td>1608924600</td>\n      <td>Milwaukee Bucks</td>\n      <td>[]</td>\n      <td>0</td>\n      <td>2020-12-25</td>\n      <td>Golden State Warriors</td>\n      <td>2020-12-25 Golden State Warriors Milwaukee Bucks</td>\n      <td>NaN</td>\n    </tr>\n    <tr>\n      <th>16</th>\n      <td>basketball_nba</td>\n      <td>NBA</td>\n      <td>[Boston Celtics, Brooklyn Nets]</td>\n      <td>1608933600</td>\n      <td>Boston Celtics</td>\n      <td>[]</td>\n      <td>0</td>\n      <td>2020-12-25</td>\n      <td>Brooklyn Nets</td>\n      <td>2020-12-25 Brooklyn Nets Boston Celtics</td>\n      <td>NaN</td>\n    </tr>\n    <tr>\n      <th>17</th>\n      <td>basketball_nba</td>\n      <td>NBA</td>\n      <td>[Dallas Mavericks, Los Angeles Lakers]</td>\n      <td>1608944400</td>\n      <td>Los Angeles Lakers</td>\n      <td>[]</td>\n      <td>0</td>\n      <td>2020-12-25</td>\n      <td>Dallas Mavericks</td>\n      <td>2020-12-25 Dallas Mavericks Los Angeles Lakers</td>\n      <td>NaN</td>\n    </tr>\n    <tr>\n      <th>18</th>\n      <td>basketball_nba</td>\n      <td>NBA</td>\n      <td>[Denver Nuggets, Los Angeles Clippers]</td>\n      <td>1608953400</td>\n      <td>Denver Nuggets</td>\n      <td>[]</td>\n      <td>0</td>\n      <td>2020-12-25</td>\n      <td>Los Angeles Clippers</td>\n      <td>2020-12-25 Los Angeles Clippers Denver Nuggets</td>\n      <td>NaN</td>\n    </tr>\n  </tbody>\n</table>\n</div>"
     },
     "execution_count": 18,
     "metadata": {},
     "output_type": "execute_result"
    }
   ],
   "source": [
    "from Odds import get_odds\n",
    "df = get_odds(version='basketball_nba')\n",
    "df.head(20)"
   ],
   "metadata": {
    "collapsed": false,
    "pycharm": {
     "name": "#%%\n"
    }
   }
  },
  {
   "cell_type": "code",
   "execution_count": 2,
   "outputs": [
    {
     "ename": "IndexError",
     "evalue": "index 0 is out of bounds for axis 0 with size 0",
     "output_type": "error",
     "traceback": [
      "\u001B[1;31m---------------------------------------------------------------------------\u001B[0m",
      "\u001B[1;31mIndexError\u001B[0m                                Traceback (most recent call last)",
      "\u001B[1;32m<ipython-input-2-02189e2b13e9>\u001B[0m in \u001B[0;36m<module>\u001B[1;34m\u001B[0m\n\u001B[0;32m      1\u001B[0m \u001B[0mlive_game\u001B[0m \u001B[1;33m=\u001B[0m \u001B[0mdf\u001B[0m\u001B[1;33m[\u001B[0m\u001B[1;33m(\u001B[0m\u001B[0mdf\u001B[0m\u001B[1;33m[\u001B[0m\u001B[1;34m'away_team'\u001B[0m\u001B[1;33m]\u001B[0m\u001B[1;33m.\u001B[0m\u001B[0mstr\u001B[0m\u001B[1;33m.\u001B[0m\u001B[0mlower\u001B[0m\u001B[1;33m(\u001B[0m\u001B[1;33m)\u001B[0m \u001B[1;33m==\u001B[0m \u001B[1;34m'Buffalo Bulls'\u001B[0m\u001B[1;33m.\u001B[0m\u001B[0mlower\u001B[0m\u001B[1;33m(\u001B[0m\u001B[1;33m)\u001B[0m\u001B[1;33m)\u001B[0m \u001B[1;33m&\u001B[0m \u001B[1;33m(\u001B[0m\u001B[0mdf\u001B[0m\u001B[1;33m[\u001B[0m\u001B[1;34m'home_team'\u001B[0m\u001B[1;33m]\u001B[0m\u001B[1;33m.\u001B[0m\u001B[0mstr\u001B[0m\u001B[1;33m.\u001B[0m\u001B[0mlower\u001B[0m\u001B[1;33m(\u001B[0m\u001B[1;33m)\u001B[0m \u001B[1;33m==\u001B[0m \u001B[1;34m'Miami (OH) Redhawks'\u001B[0m\u001B[1;33m.\u001B[0m\u001B[0mlower\u001B[0m\u001B[1;33m(\u001B[0m\u001B[1;33m)\u001B[0m\u001B[1;33m)\u001B[0m\u001B[1;33m]\u001B[0m\u001B[1;33m\u001B[0m\u001B[1;33m\u001B[0m\u001B[0m\n\u001B[1;32m----> 2\u001B[1;33m \u001B[0mlive_game\u001B[0m\u001B[1;33m[\u001B[0m\u001B[1;34m'total'\u001B[0m\u001B[1;33m]\u001B[0m\u001B[1;33m.\u001B[0m\u001B[0mvalues\u001B[0m\u001B[1;33m[\u001B[0m\u001B[1;36m0\u001B[0m\u001B[1;33m]\u001B[0m\u001B[1;33m\u001B[0m\u001B[1;33m\u001B[0m\u001B[0m\n\u001B[0m",
      "\u001B[1;31mIndexError\u001B[0m: index 0 is out of bounds for axis 0 with size 0"
     ]
    }
   ],
   "source": [
    "live_game = df[(df['away_team'].str.lower() == 'Buffalo Bulls'.lower()) & (df['home_team'].str.lower() == 'Miami (OH) Redhawks'.lower())]\n",
    "live_game['total'].values[0]"
   ],
   "metadata": {
    "collapsed": false,
    "pycharm": {
     "name": "#%%\n"
    }
   }
  },
  {
   "cell_type": "code",
   "execution_count": 8,
   "outputs": [
    {
     "data": {
      "text/plain": "0    CSU Northridge Matadors\n1        Miami (OH) RedHawks\n2           Wofford Terriers\n3        Radford Highlanders\n4       Virginia Tech Hokies\nName: home_team, dtype: object"
     },
     "execution_count": 8,
     "metadata": {},
     "output_type": "execute_result"
    }
   ],
   "source": [
    "df['home_team'].head()"
   ],
   "metadata": {
    "collapsed": false,
    "pycharm": {
     "name": "#%%\n"
    }
   }
  },
  {
   "cell_type": "code",
   "execution_count": 17,
   "outputs": [
    {
     "data": {
      "text/plain": "                       key  active              group  \\\n0   americanfootball_ncaaf    True  American Football   \n1     americanfootball_nfl    True  American Football   \n2          aussierules_afl   False       Aussie Rules   \n3             baseball_mlb   False           Baseball   \n4    basketball_euroleague    True         Basketball   \n..                     ...     ...                ...   \n60          soccer_usa_mls   False     Soccer - Other   \n61  tennis_atp_french_open   False             Tennis   \n62      tennis_atp_us_open   False             Tennis   \n63  tennis_wta_french_open   False             Tennis   \n64      tennis_wta_us_open   False             Tennis   \n\n                              details                  title  has_outrights  \n0                 US College Football                  NCAAF          False  \n1                         US Football                    NFL          False  \n2                     Aussie Football                    AFL          False  \n3            Major League Baseball 🇺🇸                    MLB          False  \n4               Basketball Euroleague  Basketball Euroleague          False  \n..                                ...                    ...            ...  \n60             Major League Soccer 🇺🇸                    MLS          False  \n61    Roland-Garros, Men's Singles 🇫🇷        ATP French Open          False  \n62                   Men's Singles 🇺🇸            ATP US Open          False  \n63  Roland-Garros, Women's Singles 🇫🇷        WTA French Open          False  \n64                 Women's Singles 🇺🇸            WTA US Open          False  \n\n[65 rows x 6 columns]",
      "text/html": "<div>\n<style scoped>\n    .dataframe tbody tr th:only-of-type {\n        vertical-align: middle;\n    }\n\n    .dataframe tbody tr th {\n        vertical-align: top;\n    }\n\n    .dataframe thead th {\n        text-align: right;\n    }\n</style>\n<table border=\"1\" class=\"dataframe\">\n  <thead>\n    <tr style=\"text-align: right;\">\n      <th></th>\n      <th>key</th>\n      <th>active</th>\n      <th>group</th>\n      <th>details</th>\n      <th>title</th>\n      <th>has_outrights</th>\n    </tr>\n  </thead>\n  <tbody>\n    <tr>\n      <th>0</th>\n      <td>americanfootball_ncaaf</td>\n      <td>True</td>\n      <td>American Football</td>\n      <td>US College Football</td>\n      <td>NCAAF</td>\n      <td>False</td>\n    </tr>\n    <tr>\n      <th>1</th>\n      <td>americanfootball_nfl</td>\n      <td>True</td>\n      <td>American Football</td>\n      <td>US Football</td>\n      <td>NFL</td>\n      <td>False</td>\n    </tr>\n    <tr>\n      <th>2</th>\n      <td>aussierules_afl</td>\n      <td>False</td>\n      <td>Aussie Rules</td>\n      <td>Aussie Football</td>\n      <td>AFL</td>\n      <td>False</td>\n    </tr>\n    <tr>\n      <th>3</th>\n      <td>baseball_mlb</td>\n      <td>False</td>\n      <td>Baseball</td>\n      <td>Major League Baseball 🇺🇸</td>\n      <td>MLB</td>\n      <td>False</td>\n    </tr>\n    <tr>\n      <th>4</th>\n      <td>basketball_euroleague</td>\n      <td>True</td>\n      <td>Basketball</td>\n      <td>Basketball Euroleague</td>\n      <td>Basketball Euroleague</td>\n      <td>False</td>\n    </tr>\n    <tr>\n      <th>5</th>\n      <td>basketball_nba</td>\n      <td>True</td>\n      <td>Basketball</td>\n      <td>US Basketball</td>\n      <td>NBA</td>\n      <td>False</td>\n    </tr>\n    <tr>\n      <th>6</th>\n      <td>basketball_ncaab</td>\n      <td>True</td>\n      <td>Basketball</td>\n      <td>US College Basketball</td>\n      <td>NCAAB</td>\n      <td>False</td>\n    </tr>\n    <tr>\n      <th>7</th>\n      <td>cricket_asia_cup</td>\n      <td>False</td>\n      <td>Cricket</td>\n      <td>Asia Cup</td>\n      <td>Asia Cup</td>\n      <td>False</td>\n    </tr>\n    <tr>\n      <th>8</th>\n      <td>cricket_big_bash</td>\n      <td>True</td>\n      <td>Cricket</td>\n      <td>Big Bash League</td>\n      <td>Big Bash</td>\n      <td>False</td>\n    </tr>\n    <tr>\n      <th>9</th>\n      <td>cricket_icc_trophy</td>\n      <td>False</td>\n      <td>Cricket</td>\n      <td>ICC Champions Trophy</td>\n      <td>ICC Champions</td>\n      <td>False</td>\n    </tr>\n    <tr>\n      <th>10</th>\n      <td>cricket_icc_world_cup</td>\n      <td>False</td>\n      <td>Cricket</td>\n      <td>ICC World Cup</td>\n      <td>ICC World Cup</td>\n      <td>False</td>\n    </tr>\n    <tr>\n      <th>11</th>\n      <td>cricket_ipl</td>\n      <td>False</td>\n      <td>Cricket</td>\n      <td>Indian Premier League</td>\n      <td>IPL</td>\n      <td>False</td>\n    </tr>\n    <tr>\n      <th>12</th>\n      <td>cricket_ipl_t20</td>\n      <td>False</td>\n      <td>Cricket</td>\n      <td></td>\n      <td>IPL T20</td>\n      <td>False</td>\n    </tr>\n    <tr>\n      <th>13</th>\n      <td>cricket_odi</td>\n      <td>False</td>\n      <td>Cricket</td>\n      <td>One Day Internationals</td>\n      <td>One Day Internationals</td>\n      <td>False</td>\n    </tr>\n    <tr>\n      <th>14</th>\n      <td>cricket_t20_natwest</td>\n      <td>False</td>\n      <td>Cricket</td>\n      <td></td>\n      <td>Natwest T20 Blast</td>\n      <td>False</td>\n    </tr>\n    <tr>\n      <th>15</th>\n      <td>cricket_test_match</td>\n      <td>True</td>\n      <td>Cricket</td>\n      <td>International Test Matches</td>\n      <td>Test Matches</td>\n      <td>False</td>\n    </tr>\n    <tr>\n      <th>16</th>\n      <td>icehockey_nhl</td>\n      <td>False</td>\n      <td>Ice Hockey</td>\n      <td>US Ice Hockey</td>\n      <td>NHL</td>\n      <td>False</td>\n    </tr>\n    <tr>\n      <th>17</th>\n      <td>mma_mixed_martial_arts</td>\n      <td>True</td>\n      <td>Mixed Martial Arts</td>\n      <td>Mixed Martial Arts</td>\n      <td>MMA</td>\n      <td>False</td>\n    </tr>\n    <tr>\n      <th>18</th>\n      <td>rugbyleague_nrl</td>\n      <td>True</td>\n      <td>Rugby League</td>\n      <td>Aussie Rugby League</td>\n      <td>NRL</td>\n      <td>False</td>\n    </tr>\n    <tr>\n      <th>19</th>\n      <td>rugbyleague_nrl_state_of_origin</td>\n      <td>False</td>\n      <td>Rugby League</td>\n      <td>Aussie Rugby League</td>\n      <td>State of Origin</td>\n      <td>False</td>\n    </tr>\n    <tr>\n      <th>20</th>\n      <td>rugbyleague_world_cup</td>\n      <td>False</td>\n      <td>Rugby League</td>\n      <td>Rugby League World Cup</td>\n      <td>World Cup</td>\n      <td>False</td>\n    </tr>\n    <tr>\n      <th>21</th>\n      <td>rugbyunion_aviva_premiership</td>\n      <td>False</td>\n      <td>Rugby Union</td>\n      <td>English Rugby Union</td>\n      <td>Aviva Premiership</td>\n      <td>False</td>\n    </tr>\n    <tr>\n      <th>22</th>\n      <td>soccer_argentina_primera_division</td>\n      <td>False</td>\n      <td>Soccer - Other</td>\n      <td>Superliga Argentina 🇦🇷</td>\n      <td>Primera División - Argentina</td>\n      <td>False</td>\n    </tr>\n    <tr>\n      <th>23</th>\n      <td>soccer_australia_aleague</td>\n      <td>True</td>\n      <td>Soccer - Other</td>\n      <td>Aussie Soccer 🇦🇺</td>\n      <td>A-League</td>\n      <td>False</td>\n    </tr>\n    <tr>\n      <th>24</th>\n      <td>soccer_belgium_first_div</td>\n      <td>True</td>\n      <td>Soccer - Europe</td>\n      <td>Belgium Soccer 🇧🇪</td>\n      <td>Belgium First Div</td>\n      <td>False</td>\n    </tr>\n    <tr>\n      <th>25</th>\n      <td>soccer_brazil_campeonato</td>\n      <td>True</td>\n      <td>Soccer - Other</td>\n      <td>Campeonato Brasileiro 🇧🇷</td>\n      <td>Brazil Série A</td>\n      <td>False</td>\n    </tr>\n    <tr>\n      <th>26</th>\n      <td>soccer_china_superleague</td>\n      <td>False</td>\n      <td>Soccer - Other</td>\n      <td>Chinese Soccer 🇨🇳</td>\n      <td>Super League - China</td>\n      <td>False</td>\n    </tr>\n    <tr>\n      <th>27</th>\n      <td>soccer_denmark_superliga</td>\n      <td>True</td>\n      <td>Soccer - Europe</td>\n      <td>Danish Soccer 🇩🇰</td>\n      <td>Denmark Superliga</td>\n      <td>False</td>\n    </tr>\n    <tr>\n      <th>28</th>\n      <td>soccer_efl_champ</td>\n      <td>True</td>\n      <td>Soccer - UK</td>\n      <td>EFL Championship 🇬🇧</td>\n      <td>Championship</td>\n      <td>False</td>\n    </tr>\n    <tr>\n      <th>29</th>\n      <td>soccer_england_league1</td>\n      <td>True</td>\n      <td>Soccer - UK</td>\n      <td>EFL League 1 🇬🇧</td>\n      <td>League 1</td>\n      <td>False</td>\n    </tr>\n    <tr>\n      <th>...</th>\n      <td>...</td>\n      <td>...</td>\n      <td>...</td>\n      <td>...</td>\n      <td>...</td>\n      <td>...</td>\n    </tr>\n    <tr>\n      <th>35</th>\n      <td>soccer_france_ligue_one</td>\n      <td>True</td>\n      <td>Soccer - Europe</td>\n      <td>French Soccer 🇫🇷</td>\n      <td>Ligue 1 - France</td>\n      <td>False</td>\n    </tr>\n    <tr>\n      <th>36</th>\n      <td>soccer_france_ligue_two</td>\n      <td>True</td>\n      <td>Soccer - Europe</td>\n      <td>French Soccer 🇫🇷</td>\n      <td>Ligue 2 - France</td>\n      <td>False</td>\n    </tr>\n    <tr>\n      <th>37</th>\n      <td>soccer_germany_bundesliga</td>\n      <td>True</td>\n      <td>Soccer - Europe</td>\n      <td>German Soccer 🇩🇪</td>\n      <td>Bundesliga - Germany</td>\n      <td>False</td>\n    </tr>\n    <tr>\n      <th>38</th>\n      <td>soccer_germany_bundesliga2</td>\n      <td>True</td>\n      <td>Soccer - Europe</td>\n      <td>German Soccer 🇩🇪</td>\n      <td>Bundesliga 2 - Germany</td>\n      <td>False</td>\n    </tr>\n    <tr>\n      <th>39</th>\n      <td>soccer_int_friendlies</td>\n      <td>False</td>\n      <td>Soccer - Other</td>\n      <td>International Frienldlies ⚽</td>\n      <td>Int. Friendlies</td>\n      <td>False</td>\n    </tr>\n    <tr>\n      <th>40</th>\n      <td>soccer_inter_champs_cup</td>\n      <td>False</td>\n      <td>Soccer - Other</td>\n      <td>International Champions Cup</td>\n      <td>Inter. Champs Cup</td>\n      <td>False</td>\n    </tr>\n    <tr>\n      <th>41</th>\n      <td>soccer_italy_serie_a</td>\n      <td>True</td>\n      <td>Soccer - Europe</td>\n      <td>Italian Soccer 🇮🇹</td>\n      <td>Serie A - Italy</td>\n      <td>False</td>\n    </tr>\n    <tr>\n      <th>42</th>\n      <td>soccer_italy_serie_b</td>\n      <td>True</td>\n      <td>Soccer - Europe</td>\n      <td>Italian Soccer 🇮🇹</td>\n      <td>Serie B - Italy</td>\n      <td>False</td>\n    </tr>\n    <tr>\n      <th>43</th>\n      <td>soccer_japan_j_league</td>\n      <td>True</td>\n      <td>Soccer - Other</td>\n      <td>Japan Soccer League 🇯🇵</td>\n      <td>J League</td>\n      <td>False</td>\n    </tr>\n    <tr>\n      <th>44</th>\n      <td>soccer_korea_kleague1</td>\n      <td>False</td>\n      <td>Soccer - Other</td>\n      <td>Korean Soccer 🇰🇷</td>\n      <td>K League 1</td>\n      <td>False</td>\n    </tr>\n    <tr>\n      <th>45</th>\n      <td>soccer_league_of_ireland</td>\n      <td>False</td>\n      <td>Soccer - Europe</td>\n      <td>Airtricity League Premier Division 🇮🇪</td>\n      <td>League of Ireland</td>\n      <td>False</td>\n    </tr>\n    <tr>\n      <th>46</th>\n      <td>soccer_mexico_ligamx</td>\n      <td>False</td>\n      <td>Soccer - Other</td>\n      <td>Mexican Soccer 🇲🇽</td>\n      <td>Liga MX</td>\n      <td>False</td>\n    </tr>\n    <tr>\n      <th>47</th>\n      <td>soccer_netherlands_eredivisie</td>\n      <td>True</td>\n      <td>Soccer - Europe</td>\n      <td>Dutch Soccer 🇳🇱</td>\n      <td>Dutch Eredivisie</td>\n      <td>False</td>\n    </tr>\n    <tr>\n      <th>48</th>\n      <td>soccer_norway_eliteserien</td>\n      <td>True</td>\n      <td>Soccer - Europe</td>\n      <td>Norwegian Soccer 🇳🇴</td>\n      <td>Eliteserien - Norway</td>\n      <td>False</td>\n    </tr>\n    <tr>\n      <th>49</th>\n      <td>soccer_portugal_primeira_liga</td>\n      <td>True</td>\n      <td>Soccer - Europe</td>\n      <td>Portugese Soccer 🇵🇹</td>\n      <td>Primeira Liga - Portugal</td>\n      <td>False</td>\n    </tr>\n    <tr>\n      <th>50</th>\n      <td>soccer_russia_premier_league</td>\n      <td>True</td>\n      <td>Soccer - Europe</td>\n      <td>Russian Soccer 🇷🇺</td>\n      <td>Premier League - Russia</td>\n      <td>False</td>\n    </tr>\n    <tr>\n      <th>51</th>\n      <td>soccer_spain_la_liga</td>\n      <td>True</td>\n      <td>Soccer - Europe</td>\n      <td>Spanish Soccer 🇪🇸</td>\n      <td>La Liga - Spain</td>\n      <td>False</td>\n    </tr>\n    <tr>\n      <th>52</th>\n      <td>soccer_spain_segunda_division</td>\n      <td>True</td>\n      <td>Soccer - Europe</td>\n      <td>Spanish Soccer 🇪🇸</td>\n      <td>La Liga 2 - Spain</td>\n      <td>False</td>\n    </tr>\n    <tr>\n      <th>53</th>\n      <td>soccer_spl</td>\n      <td>True</td>\n      <td>Soccer - UK</td>\n      <td>Scottish Premier League 🇬🇧</td>\n      <td>SPL</td>\n      <td>False</td>\n    </tr>\n    <tr>\n      <th>54</th>\n      <td>soccer_sweden_allsvenskan</td>\n      <td>False</td>\n      <td>Soccer - Europe</td>\n      <td>Swedish Soccer 🇸🇪</td>\n      <td>Allsvenskan - Sweden</td>\n      <td>False</td>\n    </tr>\n    <tr>\n      <th>55</th>\n      <td>soccer_sweden_superettan</td>\n      <td>False</td>\n      <td>Soccer - Europe</td>\n      <td>Swedish Soccer 🇸🇪</td>\n      <td>Superettan - Sweden</td>\n      <td>False</td>\n    </tr>\n    <tr>\n      <th>56</th>\n      <td>soccer_switzerland_superleague</td>\n      <td>True</td>\n      <td>Soccer - Europe</td>\n      <td>Swiss Soccer 🇨🇭</td>\n      <td>Swiss Superleague</td>\n      <td>False</td>\n    </tr>\n    <tr>\n      <th>57</th>\n      <td>soccer_turkey_super_league</td>\n      <td>True</td>\n      <td>Soccer - Europe</td>\n      <td>Turkish Soccer 🇹🇷</td>\n      <td>Turkey Super League</td>\n      <td>False</td>\n    </tr>\n    <tr>\n      <th>58</th>\n      <td>soccer_uefa_champs_league</td>\n      <td>True</td>\n      <td>Soccer - Europe</td>\n      <td>European Champions League 🇪🇺</td>\n      <td>UEFA Champions</td>\n      <td>False</td>\n    </tr>\n    <tr>\n      <th>59</th>\n      <td>soccer_uefa_europa_league</td>\n      <td>True</td>\n      <td>Soccer - Europe</td>\n      <td>European Europa League 🇪🇺</td>\n      <td>UEFA Europa</td>\n      <td>False</td>\n    </tr>\n    <tr>\n      <th>60</th>\n      <td>soccer_usa_mls</td>\n      <td>False</td>\n      <td>Soccer - Other</td>\n      <td>Major League Soccer 🇺🇸</td>\n      <td>MLS</td>\n      <td>False</td>\n    </tr>\n    <tr>\n      <th>61</th>\n      <td>tennis_atp_french_open</td>\n      <td>False</td>\n      <td>Tennis</td>\n      <td>Roland-Garros, Men's Singles 🇫🇷</td>\n      <td>ATP French Open</td>\n      <td>False</td>\n    </tr>\n    <tr>\n      <th>62</th>\n      <td>tennis_atp_us_open</td>\n      <td>False</td>\n      <td>Tennis</td>\n      <td>Men's Singles 🇺🇸</td>\n      <td>ATP US Open</td>\n      <td>False</td>\n    </tr>\n    <tr>\n      <th>63</th>\n      <td>tennis_wta_french_open</td>\n      <td>False</td>\n      <td>Tennis</td>\n      <td>Roland-Garros, Women's Singles 🇫🇷</td>\n      <td>WTA French Open</td>\n      <td>False</td>\n    </tr>\n    <tr>\n      <th>64</th>\n      <td>tennis_wta_us_open</td>\n      <td>False</td>\n      <td>Tennis</td>\n      <td>Women's Singles 🇺🇸</td>\n      <td>WTA US Open</td>\n      <td>False</td>\n    </tr>\n  </tbody>\n</table>\n<p>65 rows × 6 columns</p>\n</div>"
     },
     "execution_count": 17,
     "metadata": {},
     "output_type": "execute_result"
    }
   ],
   "source": [
    "odds_response = requests.get('https://api.the-odds-api.com/v3/sports', params={\n",
    "    'all':True,\n",
    "    'api_key': api_key,\n",
    "}).json()\n",
    "df = pd.DataFrame.from_dict(odds_response['data'])\n",
    "df"
   ],
   "metadata": {
    "collapsed": false,
    "pycharm": {
     "name": "#%%\n"
    }
   }
  },
  {
   "cell_type": "code",
   "execution_count": 12,
   "outputs": [
    {
     "name": "stdout",
     "output_type": "stream",
     "text": [
      "                     time  period adj_time  away  home  total\n",
      "time_stamp                                                   \n",
      "1 0:00      1/1/1900 0:00       1  0:20:00    37    29     66\n",
      "1 0:01      1/1/1900 0:00       1  0:19:59    37    29     66\n",
      "1 0:24      1/1/1900 0:00       1  0:19:36    37    29     66\n",
      "1 0:46      1/1/1900 0:00       1  0:19:14    35    29     64\n",
      "1 0:59      1/1/1900 0:00       1  0:19:01    35    26     61\n",
      "...                   ...     ...      ...   ...   ...    ...\n",
      "1 18:57     1/1/1900 0:18       1  0:01:03     2     0      2\n",
      "1 19:15     1/1/1900 0:19       1  0:00:45     0     0      0\n",
      "1 19:27     1/1/1900 0:19       1  0:00:33     0     0      0\n",
      "1 19:46     1/1/1900 0:19       1  0:00:14     0     0      0\n",
      "1 20:00     1/1/1900 0:20       1  0:00:00     0     0      0\n",
      "\n",
      "[84 rows x 6 columns]\n",
      "True\n"
     ]
    }
   ],
   "source": [
    "import pandas as pd\n",
    "df = pd.read_csv('test.csv', index_col=['time_stamp'])\n",
    "print(df)\n",
    "print(df.first_valid_index() in df.index)\n",
    "#if not tdf['Game'].iloc[0] in self.df.index:"
   ],
   "metadata": {
    "collapsed": false,
    "pycharm": {
     "name": "#%%\n"
    }
   }
  },
  {
   "cell_type": "code",
   "execution_count": 13,
   "outputs": [
    {
     "data": {
      "text/plain": "time        1/1/1900 0:00\nperiod                  1\nadj_time          0:20:00\naway                   37\nhome                   29\ntotal                  66\nName: 1 0:00, dtype: object"
     },
     "execution_count": 13,
     "metadata": {},
     "output_type": "execute_result"
    }
   ],
   "source": [
    "df.iloc[0]\n"
   ],
   "metadata": {
    "collapsed": false,
    "pycharm": {
     "name": "#%%\n"
    }
   }
  },
  {
   "cell_type": "code",
   "execution_count": null,
   "outputs": [],
   "source": [],
   "metadata": {
    "collapsed": false,
    "pycharm": {
     "name": "#%%\n"
    }
   }
  }
 ],
 "metadata": {
  "kernelspec": {
   "display_name": "Python 3",
   "language": "python",
   "name": "python3"
  },
  "language_info": {
   "codemirror_mode": {
    "name": "ipython",
    "version": 2
   },
   "file_extension": ".py",
   "mimetype": "text/x-python",
   "name": "python",
   "nbconvert_exporter": "python",
   "pygments_lexer": "ipython2",
   "version": "2.7.6"
  }
 },
 "nbformat": 4,
 "nbformat_minor": 0
}