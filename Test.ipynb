{
 "cells": [
  {
   "cell_type": "code",
   "execution_count": 3,
   "metadata": {
    "collapsed": true
   },
   "outputs": [],
   "source": [
    "from datetime import datetime as dt\n",
    "import requests\n",
    "import pandas as pd\n",
    "import Tools as t\n",
    "import Constants as c"
   ]
  },
  {
   "cell_type": "code",
   "execution_count": 4,
   "outputs": [],
   "source": [
    "api_key = 'c06e566dfb583f3a48a89143106b6241'\n",
    "#sport = 'americanfootball_ncaaf'\n",
    "sport = 'basketball_ncaab'\n",
    "region = 'us'\n",
    "market = 'spreads'"
   ],
   "metadata": {
    "collapsed": false,
    "pycharm": {
     "name": "#%%\n"
    }
   }
  },
  {
   "cell_type": "code",
   "execution_count": 5,
   "outputs": [],
   "source": [
    "def get_odds(sport, market):\n",
    "\n",
    "    odds_response = requests.get('https://api.the-odds-api.com/v3/odds', params={\n",
    "        'api_key': c.api_key,\n",
    "        'sport': sport,\n",
    "        'region': c.region,\n",
    "        'mkt': market,\n",
    "    }).json()\n",
    "    print(odds_response)\n",
    "    df = pd.DataFrame.from_dict(odds_response['data'])\n",
    "\n",
    "    df['date'] = df['commence_time'].apply(lambda x: dt.fromtimestamp(x).replace(hour=0, minute=0, tzinfo=None))\n",
    "    df['left_home'] = df.apply(lambda row: 1 if row.teams[0] == row.home_team else 0, axis = 1)\n",
    "    df['away_team'] = df.apply(lambda row: row.teams[1] if row.left_home == 1 else row.teams[0], axis = 1)\n",
    "    df['game'] = df['date'].astype('str') + ' ' + df['away_team'] + ' ' + df['home_team']\n",
    "    if market == 'spreads':\n",
    "        bet = 'spread'\n",
    "    else:\n",
    "        bet = 'total'\n",
    "\n",
    "    df[bet] = df.apply(lambda x:  t.most_frequent([i['odds'][market]['points'][1] for i in x.sites]) if ( x.home_team == 0) else t.most_frequent([i['odds'][market]['points'][0] for i in x.sites]), axis=1)\n",
    "    df.drop(['left_home'], axis=1, inplace=True)\n",
    "    return df\n"
   ],
   "metadata": {
    "collapsed": false,
    "pycharm": {
     "name": "#%%\n"
    }
   }
  },
  {
   "cell_type": "code",
   "execution_count": 6,
   "outputs": [
    {
     "name": "stdout",
     "output_type": "stream",
     "text": [
      "{'success': True, 'data': [{'sport_key': 'basketball_nba', 'sport_nice': 'NBA', 'teams': ['Atlanta Hawks', 'Los Angeles Clippers'], 'commence_time': 1611708000, 'home_team': 'Atlanta Hawks', 'sites': [{'site_key': 'fanduel', 'site_nice': 'FanDuel', 'last_update': 1611698779, 'odds': {'spreads': {'odds': [1.88, 1.94], 'points': ['-5.0', '5.0']}}}, {'site_key': 'betmgm', 'site_nice': 'BetMGM', 'last_update': 1611698801, 'odds': {'spreads': {'odds': [1.95, 1.87], 'points': ['-5.5', '5.5']}}}, {'site_key': 'betrivers', 'site_nice': 'BetRivers', 'last_update': 1611698874, 'odds': {'spreads': {'odds': [1.89, 1.92], 'points': ['-5.0', '5.0']}}}, {'site_key': 'draftkings', 'site_nice': 'DraftKings', 'last_update': 1611698858, 'odds': {'spreads': {'odds': [1.89, 1.92], 'points': ['-5.0', '5.0']}}}, {'site_key': 'unibet', 'site_nice': 'Unibet', 'last_update': 1611698914, 'odds': {'spreads': {'odds': [1.9, 1.92], 'points': ['-5.0', '5.0']}}}, {'site_key': 'sugarhouse', 'site_nice': 'SugarHouse', 'last_update': 1611698780, 'odds': {'spreads': {'odds': [1.89, 1.92], 'points': ['-5.0', '5.0']}}}, {'site_key': 'pointsbetus', 'site_nice': 'PointsBet (US)', 'last_update': 1611698880, 'odds': {'spreads': {'odds': [1.95, 1.87], 'points': ['-5.5', '5.5']}}}, {'site_key': 'betonlineag', 'site_nice': 'BetOnline.ag', 'last_update': 1611698769, 'odds': {'spreads': {'odds': [1.88, 1.93], 'points': ['-5.0', '5.0']}}}, {'site_key': 'lowvig', 'site_nice': 'LowVig.ag', 'last_update': 1611698900, 'odds': {'spreads': {'odds': [1.95, 1.95], 'points': ['-5', '5']}}}, {'site_key': 'bovada', 'site_nice': 'Bovada', 'last_update': 1611698838, 'odds': {'spreads': {'odds': [1.87, 1.95], 'points': ['-5.5', '5.5']}}}, {'site_key': 'caesars', 'site_nice': 'Caesars', 'last_update': 1611698785, 'odds': {'spreads': {'odds': [1.91, 1.91], 'points': ['-5.5', '5.5']}}}, {'site_key': 'gtbets', 'site_nice': 'GTbets', 'last_update': 1611698724, 'odds': {'spreads': {'odds': [1.92, 1.92], 'points': ['-5', '5']}}}, {'site_key': 'mybookieag', 'site_nice': 'MyBookie.ag', 'last_update': 1611698727, 'odds': {'spreads': {'odds': [1.91, 1.91], 'points': ['-5.5', '5.5']}}}], 'sites_count': 13}, {'sport_key': 'basketball_nba', 'sport_nice': 'NBA', 'teams': ['Houston Rockets', 'Washington Wizards'], 'commence_time': 1611709800, 'home_team': 'Houston Rockets', 'sites': [{'site_key': 'fanduel', 'site_nice': 'FanDuel', 'last_update': 1611698779, 'odds': {'spreads': {'odds': [1.95, 1.87], 'points': ['-4.0', '4.0']}}}, {'site_key': 'betmgm', 'site_nice': 'BetMGM', 'last_update': 1611698801, 'odds': {'spreads': {'odds': [1.91, 1.91], 'points': ['-3.5', '3.5']}}}, {'site_key': 'betrivers', 'site_nice': 'BetRivers', 'last_update': 1611698874, 'odds': {'spreads': {'odds': [1.89, 1.92], 'points': ['-3.5', '3.5']}}}, {'site_key': 'draftkings', 'site_nice': 'DraftKings', 'last_update': 1611698858, 'odds': {'spreads': {'odds': [1.89, 1.92], 'points': ['-3.5', '3.5']}}}, {'site_key': 'unibet', 'site_nice': 'Unibet', 'last_update': 1611698914, 'odds': {'spreads': {'odds': [1.9, 1.92], 'points': ['-3.5', '3.5']}}}, {'site_key': 'sugarhouse', 'site_nice': 'SugarHouse', 'last_update': 1611698780, 'odds': {'spreads': {'odds': [1.89, 1.92], 'points': ['-3.5', '3.5']}}}, {'site_key': 'pointsbetus', 'site_nice': 'PointsBet (US)', 'last_update': 1611698880, 'odds': {'spreads': {'odds': [1.91, 1.91], 'points': ['-3.5', '3.5']}}}, {'site_key': 'betonlineag', 'site_nice': 'BetOnline.ag', 'last_update': 1611698769, 'odds': {'spreads': {'odds': [1.88, 1.93], 'points': ['-3.5', '3.5']}}}, {'site_key': 'lowvig', 'site_nice': 'LowVig.ag', 'last_update': 1611698900, 'odds': {'spreads': {'odds': [1.94, 1.97], 'points': ['-3.5', '3.5']}}}, {'site_key': 'bovada', 'site_nice': 'Bovada', 'last_update': 1611698838, 'odds': {'spreads': {'odds': [1.87, 1.95], 'points': ['-3.5', '3.5']}}}, {'site_key': 'caesars', 'site_nice': 'Caesars', 'last_update': 1611698785, 'odds': {'spreads': {'odds': [1.91, 1.91], 'points': ['-3.5', '3.5']}}}, {'site_key': 'gtbets', 'site_nice': 'GTbets', 'last_update': 1611698724, 'odds': {'spreads': {'odds': [1.92, 1.92], 'points': ['-3.5', '3.5']}}}, {'site_key': 'mybookieag', 'site_nice': 'MyBookie.ag', 'last_update': 1611698727, 'odds': {'spreads': {'odds': [1.95, 1.87], 'points': ['-4.0', '4.0']}}}], 'sites_count': 13}, {'sport_key': 'basketball_nba', 'sport_nice': 'NBA', 'teams': ['New York Knicks', 'Utah Jazz'], 'commence_time': 1611713400, 'home_team': 'Utah Jazz', 'sites': [{'site_key': 'caesars', 'site_nice': 'Caesars', 'last_update': 1611698785, 'odds': {'spreads': {'odds': [1.91, 1.91], 'points': ['11.5', '-11.5']}}}, {'site_key': 'betonlineag', 'site_nice': 'BetOnline.ag', 'last_update': 1611698769, 'odds': {'spreads': {'odds': [1.95, 1.87], 'points': ['11.0', '-11.0']}}}, {'site_key': 'pointsbetus', 'site_nice': 'PointsBet (US)', 'last_update': 1611698880, 'odds': {'spreads': {'odds': [1.91, 1.91], 'points': ['11.5', '-11.5']}}}, {'site_key': 'bovada', 'site_nice': 'Bovada', 'last_update': 1611698838, 'odds': {'spreads': {'odds': [1.95, 1.87], 'points': ['11.0', '-11.0']}}}, {'site_key': 'lowvig', 'site_nice': 'LowVig.ag', 'last_update': 1611698900, 'odds': {'spreads': {'odds': [2.0, 1.91], 'points': ['11', '-11']}}}, {'site_key': 'gtbets', 'site_nice': 'GTbets', 'last_update': 1611698724, 'odds': {'spreads': {'odds': [1.96, 1.88], 'points': ['11', '-11']}}}, {'site_key': 'fanduel', 'site_nice': 'FanDuel', 'last_update': 1611698779, 'odds': {'spreads': {'odds': [1.94, 1.88], 'points': ['11.0', '-11.0']}}}, {'site_key': 'mybookieag', 'site_nice': 'MyBookie.ag', 'last_update': 1611698727, 'odds': {'spreads': {'odds': [1.95, 1.87], 'points': ['11.0', '-11.0']}}}, {'site_key': 'betmgm', 'site_nice': 'BetMGM', 'last_update': 1611698801, 'odds': {'spreads': {'odds': [1.91, 1.91], 'points': ['11.5', '-11.5']}}}, {'site_key': 'betrivers', 'site_nice': 'BetRivers', 'last_update': 1611698874, 'odds': {'spreads': {'odds': [1.91, 1.91], 'points': ['11.5', '-11.5']}}}, {'site_key': 'draftkings', 'site_nice': 'DraftKings', 'last_update': 1611698858, 'odds': {'spreads': {'odds': [1.91, 1.91], 'points': ['11.5', '-11.5']}}}, {'site_key': 'unibet', 'site_nice': 'Unibet', 'last_update': 1611698914, 'odds': {'spreads': {'odds': [1.91, 1.91], 'points': ['11.5', '-11.5']}}}, {'site_key': 'sugarhouse', 'site_nice': 'SugarHouse', 'last_update': 1611698780, 'odds': {'spreads': {'odds': [1.91, 1.91], 'points': ['11.5', '-11.5']}}}], 'sites_count': 13}, {'sport_key': 'basketball_nba', 'sport_nice': 'NBA', 'teams': ['Cleveland Cavaliers', 'Detroit Pistons'], 'commence_time': 1611792600, 'home_team': 'Cleveland Cavaliers', 'sites': [{'site_key': 'betonlineag', 'site_nice': 'BetOnline.ag', 'last_update': 1611698769, 'odds': {'spreads': {'odds': [1.82, 2.02], 'points': ['-2.5', '2.5']}}}, {'site_key': 'caesars', 'site_nice': 'Caesars', 'last_update': 1611698785, 'odds': {'spreads': {'odds': [1.91, 1.91], 'points': ['-2.5', '2.5']}}}, {'site_key': 'bovada', 'site_nice': 'Bovada', 'last_update': 1611698838, 'odds': {'spreads': {'odds': [1.87, 1.95], 'points': ['-2.5', '2.5']}}}, {'site_key': 'pointsbetus', 'site_nice': 'PointsBet (US)', 'last_update': 1611698880, 'odds': {'spreads': {'odds': [1.91, 1.91], 'points': ['-2.5', '2.5']}}}, {'site_key': 'lowvig', 'site_nice': 'LowVig.ag', 'last_update': 1611698900, 'odds': {'spreads': {'odds': [1.94, 1.96], 'points': ['-2.5', '2.5']}}}, {'site_key': 'fanduel', 'site_nice': 'FanDuel', 'last_update': 1611698779, 'odds': {'spreads': {'odds': [1.91, 1.91], 'points': ['-2.5', '2.5']}}}, {'site_key': 'gtbets', 'site_nice': 'GTbets', 'last_update': 1611698724, 'odds': {'spreads': {'odds': [1.92, 1.92], 'points': ['-2.5', '2.5']}}}], 'sites_count': 7}, {'sport_key': 'basketball_nba', 'sport_nice': 'NBA', 'teams': ['Orlando Magic', 'Sacramento Kings'], 'commence_time': 1611792600, 'home_team': 'Orlando Magic', 'sites': [{'site_key': 'betonlineag', 'site_nice': 'BetOnline.ag', 'last_update': 1611698769, 'odds': {'spreads': {'odds': [1.97, 1.85], 'points': ['-1.0', '1.0']}}}, {'site_key': 'caesars', 'site_nice': 'Caesars', 'last_update': 1611698785, 'odds': {'spreads': {'odds': [1.91, 1.91], 'points': ['-1.0', '1.0']}}}, {'site_key': 'bovada', 'site_nice': 'Bovada', 'last_update': 1611698838, 'odds': {'spreads': {'odds': [1.91, 1.91], 'points': ['-1.0', '1.0']}}}, {'site_key': 'pointsbetus', 'site_nice': 'PointsBet (US)', 'last_update': 1611698880, 'odds': {'spreads': {'odds': [1.91, 1.91], 'points': ['-1.0', '1.0']}}}, {'site_key': 'lowvig', 'site_nice': 'LowVig.ag', 'last_update': 1611698900, 'odds': {'spreads': {'odds': [1.95, 1.95], 'points': ['-1', '1']}}}, {'site_key': 'fanduel', 'site_nice': 'FanDuel', 'last_update': 1611698779, 'odds': {'spreads': {'odds': [1.91, 1.91], 'points': ['-1.5', '1.5']}}}, {'site_key': 'gtbets', 'site_nice': 'GTbets', 'last_update': 1611698724, 'odds': {'spreads': {'odds': [1.92, 1.92], 'points': ['-1', '1']}}}], 'sites_count': 7}, {'sport_key': 'basketball_nba', 'sport_nice': 'NBA', 'teams': ['Charlotte Hornets', 'Indiana Pacers'], 'commence_time': 1611792600, 'home_team': 'Charlotte Hornets', 'sites': [{'site_key': 'fanduel', 'site_nice': 'FanDuel', 'last_update': 1611698779, 'odds': {'spreads': {'odds': [1.91, 1.91], 'points': ['-1.5', '1.5']}}}], 'sites_count': 1}, {'sport_key': 'basketball_nba', 'sport_nice': 'NBA', 'teams': ['Milwaukee Bucks', 'Toronto Raptors'], 'commence_time': 1611794400, 'home_team': 'Toronto Raptors', 'sites': [{'site_key': 'fanduel', 'site_nice': 'FanDuel', 'last_update': 1611698779, 'odds': {'spreads': {'odds': [1.91, 1.91], 'points': ['-5.5', '5.5']}}}], 'sites_count': 1}, {'sport_key': 'basketball_nba', 'sport_nice': 'NBA', 'teams': ['Los Angeles Lakers', 'Philadelphia 76ers'], 'commence_time': 1611794400, 'home_team': 'Philadelphia 76ers', 'sites': [{'site_key': 'fanduel', 'site_nice': 'FanDuel', 'last_update': 1611698779, 'odds': {'spreads': {'odds': [1.91, 1.91], 'points': ['-2.0', '2.0']}}}], 'sites_count': 1}, {'sport_key': 'basketball_nba', 'sport_nice': 'NBA', 'teams': ['Atlanta Hawks', 'Brooklyn Nets'], 'commence_time': 1611794400, 'home_team': 'Atlanta Hawks', 'sites': [{'site_key': 'fanduel', 'site_nice': 'FanDuel', 'last_update': 1611698779, 'odds': {'spreads': {'odds': [1.91, 1.91], 'points': ['7.0', '-7.0']}}}], 'sites_count': 1}, {'sport_key': 'basketball_nba', 'sport_nice': 'NBA', 'teams': ['Denver Nuggets', 'Miami Heat'], 'commence_time': 1611794400, 'home_team': 'Miami Heat', 'sites': [{'site_key': 'fanduel', 'site_nice': 'FanDuel', 'last_update': 1611698779, 'odds': {'spreads': {'odds': [1.91, 1.91], 'points': ['-4.5', '4.5']}}}], 'sites_count': 1}, {'sport_key': 'basketball_nba', 'sport_nice': 'NBA', 'teams': ['Boston Celtics', 'San Antonio Spurs'], 'commence_time': 1611798000, 'home_team': 'San Antonio Spurs', 'sites': [{'site_key': 'bovada', 'site_nice': 'Bovada', 'last_update': 1611698838, 'odds': {'spreads': {'odds': [1.91, 1.91], 'points': ['-3.0', '3.0']}}}, {'site_key': 'betonlineag', 'site_nice': 'BetOnline.ag', 'last_update': 1611698769, 'odds': {'spreads': {'odds': [1.92, 1.89], 'points': ['-3.5', '3.5']}}}, {'site_key': 'fanduel', 'site_nice': 'FanDuel', 'last_update': 1611698779, 'odds': {'spreads': {'odds': [1.89, 1.93], 'points': ['-3.0', '3.0']}}}, {'site_key': 'pointsbetus', 'site_nice': 'PointsBet (US)', 'last_update': 1611698880, 'odds': {'spreads': {'odds': [1.91, 1.91], 'points': ['-3.0', '3.0']}}}, {'site_key': 'caesars', 'site_nice': 'Caesars', 'last_update': 1611698785, 'odds': {'spreads': {'odds': [1.91, 1.91], 'points': ['-3.0', '3.0']}}}, {'site_key': 'lowvig', 'site_nice': 'LowVig.ag', 'last_update': 1611698900, 'odds': {'spreads': {'odds': [1.97, 1.94], 'points': ['-3.5', '3.5']}}}, {'site_key': 'gtbets', 'site_nice': 'GTbets', 'last_update': 1611698724, 'odds': {'spreads': {'odds': [1.92, 1.92], 'points': ['-3', '3']}}}], 'sites_count': 7}, {'sport_key': 'basketball_nba', 'sport_nice': 'NBA', 'teams': ['New Orleans Pelicans', 'Washington Wizards'], 'commence_time': 1611799800, 'home_team': 'New Orleans Pelicans', 'sites': [{'site_key': 'fanduel', 'site_nice': 'FanDuel', 'last_update': 1611698779, 'odds': {'spreads': {'odds': [1.91, 1.91], 'points': ['-7.0', '7.0']}}}], 'sites_count': 1}, {'sport_key': 'basketball_nba', 'sport_nice': 'NBA', 'teams': ['Oklahoma City Thunder', 'Phoenix Suns'], 'commence_time': 1611799800, 'home_team': 'Phoenix Suns', 'sites': [{'site_key': 'fanduel', 'site_nice': 'FanDuel', 'last_update': 1611698779, 'odds': {'spreads': {'odds': [1.91, 1.91], 'points': ['6.5', '-6.5']}}}], 'sites_count': 1}, {'sport_key': 'basketball_nba', 'sport_nice': 'NBA', 'teams': ['Dallas Mavericks', 'Utah Jazz'], 'commence_time': 1611799800, 'home_team': 'Utah Jazz', 'sites': [{'site_key': 'bovada', 'site_nice': 'Bovada', 'last_update': 1611698838, 'odds': {'spreads': {'odds': [1.91, 1.91], 'points': ['4.0', '-4.0']}}}, {'site_key': 'betonlineag', 'site_nice': 'BetOnline.ag', 'last_update': 1611698769, 'odds': {'spreads': {'odds': [1.9, 1.9], 'points': ['4.0', '-4.0']}}}, {'site_key': 'pointsbetus', 'site_nice': 'PointsBet (US)', 'last_update': 1611698880, 'odds': {'spreads': {'odds': [1.91, 1.91], 'points': ['4.0', '-4.0']}}}, {'site_key': 'lowvig', 'site_nice': 'LowVig.ag', 'last_update': 1611698900, 'odds': {'spreads': {'odds': [1.95, 1.95], 'points': ['4', '-4']}}}, {'site_key': 'gtbets', 'site_nice': 'GTbets', 'last_update': 1611698724, 'odds': {'spreads': {'odds': [1.92, 1.92], 'points': ['4', '-4']}}}, {'site_key': 'fanduel', 'site_nice': 'FanDuel', 'last_update': 1611698779, 'odds': {'spreads': {'odds': [1.91, 1.91], 'points': ['4.0', '-4.0']}}}], 'sites_count': 6}, {'sport_key': 'basketball_nba', 'sport_nice': 'NBA', 'teams': ['Golden State Warriors', 'Minnesota Timberwolves'], 'commence_time': 1611803400, 'home_team': 'Golden State Warriors', 'sites': [{'site_key': 'fanduel', 'site_nice': 'FanDuel', 'last_update': 1611698779, 'odds': {'spreads': {'odds': [1.91, 1.91], 'points': ['-8.0', '8.0']}}}], 'sites_count': 1}]}\n"
     ]
    },
    {
     "data": {
      "text/plain": "        sport_key sport_nice                                   teams  \\\n0  basketball_nba        NBA   [Atlanta Hawks, Los Angeles Clippers]   \n1  basketball_nba        NBA   [Houston Rockets, Washington Wizards]   \n2  basketball_nba        NBA            [New York Knicks, Utah Jazz]   \n3  basketball_nba        NBA  [Cleveland Cavaliers, Detroit Pistons]   \n4  basketball_nba        NBA       [Orlando Magic, Sacramento Kings]   \n\n   commence_time            home_team  \\\n0     1611708000        Atlanta Hawks   \n1     1611709800      Houston Rockets   \n2     1611713400            Utah Jazz   \n3     1611792600  Cleveland Cavaliers   \n4     1611792600        Orlando Magic   \n\n                                               sites  sites_count       date  \\\n0  [{'site_key': 'fanduel', 'site_nice': 'FanDuel...           13 2021-01-26   \n1  [{'site_key': 'fanduel', 'site_nice': 'FanDuel...           13 2021-01-26   \n2  [{'site_key': 'caesars', 'site_nice': 'Caesars...           13 2021-01-26   \n3  [{'site_key': 'betonlineag', 'site_nice': 'Bet...            7 2021-01-27   \n4  [{'site_key': 'betonlineag', 'site_nice': 'Bet...            7 2021-01-27   \n\n              away_team                                            game spread  \n0  Los Angeles Clippers   2021-01-26 Los Angeles Clippers Atlanta Hawks   -5.0  \n1    Washington Wizards   2021-01-26 Washington Wizards Houston Rockets   -3.5  \n2       New York Knicks            2021-01-26 New York Knicks Utah Jazz   11.5  \n3       Detroit Pistons  2021-01-27 Detroit Pistons Cleveland Cavaliers   -2.5  \n4      Sacramento Kings       2021-01-27 Sacramento Kings Orlando Magic   -1.0  ",
      "text/html": "<div>\n<style scoped>\n    .dataframe tbody tr th:only-of-type {\n        vertical-align: middle;\n    }\n\n    .dataframe tbody tr th {\n        vertical-align: top;\n    }\n\n    .dataframe thead th {\n        text-align: right;\n    }\n</style>\n<table border=\"1\" class=\"dataframe\">\n  <thead>\n    <tr style=\"text-align: right;\">\n      <th></th>\n      <th>sport_key</th>\n      <th>sport_nice</th>\n      <th>teams</th>\n      <th>commence_time</th>\n      <th>home_team</th>\n      <th>sites</th>\n      <th>sites_count</th>\n      <th>date</th>\n      <th>away_team</th>\n      <th>game</th>\n      <th>spread</th>\n    </tr>\n  </thead>\n  <tbody>\n    <tr>\n      <th>0</th>\n      <td>basketball_nba</td>\n      <td>NBA</td>\n      <td>[Atlanta Hawks, Los Angeles Clippers]</td>\n      <td>1611708000</td>\n      <td>Atlanta Hawks</td>\n      <td>[{'site_key': 'fanduel', 'site_nice': 'FanDuel...</td>\n      <td>13</td>\n      <td>2021-01-26</td>\n      <td>Los Angeles Clippers</td>\n      <td>2021-01-26 Los Angeles Clippers Atlanta Hawks</td>\n      <td>-5.0</td>\n    </tr>\n    <tr>\n      <th>1</th>\n      <td>basketball_nba</td>\n      <td>NBA</td>\n      <td>[Houston Rockets, Washington Wizards]</td>\n      <td>1611709800</td>\n      <td>Houston Rockets</td>\n      <td>[{'site_key': 'fanduel', 'site_nice': 'FanDuel...</td>\n      <td>13</td>\n      <td>2021-01-26</td>\n      <td>Washington Wizards</td>\n      <td>2021-01-26 Washington Wizards Houston Rockets</td>\n      <td>-3.5</td>\n    </tr>\n    <tr>\n      <th>2</th>\n      <td>basketball_nba</td>\n      <td>NBA</td>\n      <td>[New York Knicks, Utah Jazz]</td>\n      <td>1611713400</td>\n      <td>Utah Jazz</td>\n      <td>[{'site_key': 'caesars', 'site_nice': 'Caesars...</td>\n      <td>13</td>\n      <td>2021-01-26</td>\n      <td>New York Knicks</td>\n      <td>2021-01-26 New York Knicks Utah Jazz</td>\n      <td>11.5</td>\n    </tr>\n    <tr>\n      <th>3</th>\n      <td>basketball_nba</td>\n      <td>NBA</td>\n      <td>[Cleveland Cavaliers, Detroit Pistons]</td>\n      <td>1611792600</td>\n      <td>Cleveland Cavaliers</td>\n      <td>[{'site_key': 'betonlineag', 'site_nice': 'Bet...</td>\n      <td>7</td>\n      <td>2021-01-27</td>\n      <td>Detroit Pistons</td>\n      <td>2021-01-27 Detroit Pistons Cleveland Cavaliers</td>\n      <td>-2.5</td>\n    </tr>\n    <tr>\n      <th>4</th>\n      <td>basketball_nba</td>\n      <td>NBA</td>\n      <td>[Orlando Magic, Sacramento Kings]</td>\n      <td>1611792600</td>\n      <td>Orlando Magic</td>\n      <td>[{'site_key': 'betonlineag', 'site_nice': 'Bet...</td>\n      <td>7</td>\n      <td>2021-01-27</td>\n      <td>Sacramento Kings</td>\n      <td>2021-01-27 Sacramento Kings Orlando Magic</td>\n      <td>-1.0</td>\n    </tr>\n  </tbody>\n</table>\n</div>"
     },
     "execution_count": 6,
     "metadata": {},
     "output_type": "execute_result"
    }
   ],
   "source": [
    "df = get_odds(sport='basketball_nba', market='spreads')\n",
    "df.head(5)"
   ],
   "metadata": {
    "collapsed": false,
    "pycharm": {
     "name": "#%%\n"
    }
   }
  },
  {
   "cell_type": "code",
   "execution_count": 9,
   "outputs": [
    {
     "name": "stdout",
     "output_type": "stream",
     "text": [
      "{'success': True, 'data': [{'sport_key': 'basketball_nba', 'sport_nice': 'NBA', 'teams': ['Charlotte Hornets', 'Chicago Bulls'], 'commence_time': 1611360600, 'home_team': 'Charlotte Hornets', 'sites': [{'site_key': 'pointsbetus', 'site_nice': 'PointsBet (US)', 'last_update': 1611352467, 'odds': {'totals': {'points': [228.0, 228.0], 'odds': [1.87, 1.95], 'position': ['over', 'under']}}}, {'site_key': 'betmgm', 'site_nice': 'BetMGM', 'last_update': 1611352575, 'odds': {'totals': {'points': ['227.5', '227.5'], 'odds': [1.91, 1.91], 'position': ['over', 'under']}}}, {'site_key': 'unibet', 'site_nice': 'Unibet', 'last_update': 1611352463, 'odds': {'totals': {'points': [228.0, 228.0], 'odds': [1.89, 1.93], 'position': ['over', 'under']}}}, {'site_key': 'betrivers', 'site_nice': 'BetRivers', 'last_update': 1611352573, 'odds': {'totals': {'points': ['228.0', '228.0'], 'odds': [1.88, 1.93], 'position': ['over', 'under']}}}, {'site_key': 'sugarhouse', 'site_nice': 'SugarHouse', 'last_update': 1611352574, 'odds': {'totals': {'points': ['228.0', '228.0'], 'odds': [1.88, 1.93], 'position': ['over', 'under']}}}, {'site_key': 'draftkings', 'site_nice': 'DraftKings', 'last_update': 1611352574, 'odds': {'totals': {'points': [228.0, 228.0], 'odds': [1.88, 1.93], 'position': ['over', 'under']}}}, {'site_key': 'bovada', 'site_nice': 'Bovada', 'last_update': 1611352467, 'odds': {'totals': {'points': [228.5, 228.5], 'odds': [1.91, 1.91], 'position': ['over', 'under']}}}, {'site_key': 'betonlineag', 'site_nice': 'BetOnline.ag', 'last_update': 1611352573, 'odds': {'totals': {'points': [228.0, 228.0], 'odds': [1.89, 1.92], 'position': ['over', 'under']}}}, {'site_key': 'lowvig', 'site_nice': 'LowVig.ag', 'last_update': 1611352466, 'odds': {'totals': {'points': [228.0, 228.0], 'odds': [1.94, 1.97], 'position': ['over', 'under']}}}, {'site_key': 'mybookieag', 'site_nice': 'MyBookie.ag', 'last_update': 1611352467, 'odds': {'totals': {'points': ['228.0', '228.0'], 'odds': [1.91, 1.91], 'position': ['over', 'under']}}}, {'site_key': 'williamhill_us', 'site_nice': 'William Hill (US)', 'last_update': 1611352571, 'odds': {'totals': {'points': [228.0, 228.0], 'odds': [1.91, 1.91], 'position': ['over', 'under']}}}, {'site_key': 'caesars', 'site_nice': 'Caesars', 'last_update': 1611352574, 'odds': {'totals': {'points': ['228.0', '228.0'], 'odds': [1.91, 1.91], 'position': ['over', 'under']}}}, {'site_key': 'bookmaker', 'site_nice': 'Bookmaker', 'last_update': 1611352469, 'odds': {'totals': {'position': ['over', 'under'], 'odds': [1.91, 1.91], 'points': [228.0, 228.0]}}}], 'sites_count': 13}, {'sport_key': 'basketball_nba', 'sport_nice': 'NBA', 'teams': ['Indiana Pacers', 'Orlando Magic'], 'commence_time': 1611360600, 'home_team': 'Indiana Pacers', 'sites': [{'site_key': 'pointsbetus', 'site_nice': 'PointsBet (US)', 'last_update': 1611352467, 'odds': {'totals': {'points': [217.5, 217.5], 'odds': [1.87, 1.95], 'position': ['over', 'under']}}}, {'site_key': 'betmgm', 'site_nice': 'BetMGM', 'last_update': 1611352575, 'odds': {'totals': {'points': ['217.5', '217.5'], 'odds': [1.91, 1.91], 'position': ['over', 'under']}}}, {'site_key': 'unibet', 'site_nice': 'Unibet', 'last_update': 1611352463, 'odds': {'totals': {'points': [217.5, 217.5], 'odds': [1.91, 1.9], 'position': ['over', 'under']}}}, {'site_key': 'betrivers', 'site_nice': 'BetRivers', 'last_update': 1611352573, 'odds': {'totals': {'points': ['217.5', '217.5'], 'odds': [1.91, 1.89], 'position': ['over', 'under']}}}, {'site_key': 'sugarhouse', 'site_nice': 'SugarHouse', 'last_update': 1611352574, 'odds': {'totals': {'points': ['217.5', '217.5'], 'odds': [1.91, 1.89], 'position': ['over', 'under']}}}, {'site_key': 'draftkings', 'site_nice': 'DraftKings', 'last_update': 1611352574, 'odds': {'totals': {'points': [217.5, 217.5], 'odds': [1.91, 1.89], 'position': ['over', 'under']}}}, {'site_key': 'bovada', 'site_nice': 'Bovada', 'last_update': 1611352467, 'odds': {'totals': {'points': [217.5, 217.5], 'odds': [1.95, 1.87], 'position': ['over', 'under']}}}, {'site_key': 'betonlineag', 'site_nice': 'BetOnline.ag', 'last_update': 1611352573, 'odds': {'totals': {'points': [218.0, 218.0], 'odds': [1.89, 1.92], 'position': ['over', 'under']}}}, {'site_key': 'lowvig', 'site_nice': 'LowVig.ag', 'last_update': 1611352466, 'odds': {'totals': {'points': [218.0, 218.0], 'odds': [1.94, 1.97], 'position': ['over', 'under']}}}, {'site_key': 'mybookieag', 'site_nice': 'MyBookie.ag', 'last_update': 1611352467, 'odds': {'totals': {'points': ['217.0', '217.0'], 'odds': [1.87, 1.95], 'position': ['over', 'under']}}}, {'site_key': 'williamhill_us', 'site_nice': 'William Hill (US)', 'last_update': 1611352571, 'odds': {'totals': {'points': [217.5, 217.5], 'odds': [1.91, 1.91], 'position': ['over', 'under']}}}, {'site_key': 'caesars', 'site_nice': 'Caesars', 'last_update': 1611352574, 'odds': {'totals': {'points': ['217.5', '217.5'], 'odds': [1.91, 1.91], 'position': ['over', 'under']}}}, {'site_key': 'bookmaker', 'site_nice': 'Bookmaker', 'last_update': 1611352469, 'odds': {'totals': {'position': ['over', 'under'], 'odds': [1.93, 1.89], 'points': [217.5, 217.5]}}}], 'sites_count': 13}, {'sport_key': 'basketball_nba', 'sport_nice': 'NBA', 'teams': ['Detroit Pistons', 'Houston Rockets'], 'commence_time': 1611360600, 'home_team': 'Detroit Pistons', 'sites': [{'site_key': 'pointsbetus', 'site_nice': 'PointsBet (US)', 'last_update': 1611352467, 'odds': {'totals': {'points': [215.0, 215.0], 'odds': [1.83, 2.0], 'position': ['over', 'under']}}}, {'site_key': 'betmgm', 'site_nice': 'BetMGM', 'last_update': 1611352575, 'odds': {'totals': {'points': ['215.5', '215.5'], 'odds': [1.91, 1.91], 'position': ['over', 'under']}}}, {'site_key': 'unibet', 'site_nice': 'Unibet', 'last_update': 1611352463, 'odds': {'totals': {'points': [215.0, 215.0], 'odds': [1.9, 1.92], 'position': ['over', 'under']}}}, {'site_key': 'betrivers', 'site_nice': 'BetRivers', 'last_update': 1611352573, 'odds': {'totals': {'points': ['215.0', '215.0'], 'odds': [1.89, 1.92], 'position': ['over', 'under']}}}, {'site_key': 'sugarhouse', 'site_nice': 'SugarHouse', 'last_update': 1611352574, 'odds': {'totals': {'points': ['215.0', '215.0'], 'odds': [1.89, 1.92], 'position': ['over', 'under']}}}, {'site_key': 'draftkings', 'site_nice': 'DraftKings', 'last_update': 1611352574, 'odds': {'totals': {'points': [215.0, 215.0], 'odds': [1.89, 1.92], 'position': ['over', 'under']}}}, {'site_key': 'lowvig', 'site_nice': 'LowVig.ag', 'last_update': 1611352466, 'odds': {'totals': {'points': [215.5, 215.5], 'odds': [1.93, 1.98], 'position': ['over', 'under']}}}, {'site_key': 'betonlineag', 'site_nice': 'BetOnline.ag', 'last_update': 1611352573, 'odds': {'totals': {'points': [215.5, 215.5], 'odds': [1.88, 1.93], 'position': ['over', 'under']}}}, {'site_key': 'mybookieag', 'site_nice': 'MyBookie.ag', 'last_update': 1611352467, 'odds': {'totals': {'points': ['215.0', '215.0'], 'odds': [1.91, 1.91], 'position': ['over', 'under']}}}, {'site_key': 'williamhill_us', 'site_nice': 'William Hill (US)', 'last_update': 1611352571, 'odds': {'totals': {'points': [215.0, 215.0], 'odds': [1.91, 1.91], 'position': ['over', 'under']}}}, {'site_key': 'caesars', 'site_nice': 'Caesars', 'last_update': 1611352574, 'odds': {'totals': {'points': ['215.0', '215.0'], 'odds': [1.91, 1.91], 'position': ['over', 'under']}}}, {'site_key': 'bookmaker', 'site_nice': 'Bookmaker', 'last_update': 1611352469, 'odds': {'totals': {'position': ['over', 'under'], 'odds': [1.91, 1.91], 'points': [215.0, 215.0]}}}, {'site_key': 'bovada', 'site_nice': 'Bovada', 'last_update': 1611352467, 'odds': {'totals': {'points': [215.0, 215.0], 'odds': [1.91, 1.91], 'position': ['over', 'under']}}}], 'sites_count': 13}, {'sport_key': 'basketball_nba', 'sport_nice': 'NBA', 'teams': ['Brooklyn Nets', 'Cleveland Cavaliers'], 'commence_time': 1611362400, 'home_team': 'Cleveland Cavaliers', 'sites': [{'site_key': 'williamhill_us', 'site_nice': 'William Hill (US)', 'last_update': 1611352571, 'odds': {'totals': {'points': [223.0, 223.0], 'odds': [1.91, 1.91], 'position': ['over', 'under']}}}, {'site_key': 'pointsbetus', 'site_nice': 'PointsBet (US)', 'last_update': 1611352467, 'odds': {'totals': {'points': [223.0, 223.0], 'odds': [1.87, 1.95], 'position': ['over', 'under']}}}, {'site_key': 'lowvig', 'site_nice': 'LowVig.ag', 'last_update': 1611352466, 'odds': {'totals': {'points': [223.5, 223.5], 'odds': [1.99, 1.92], 'position': ['over', 'under']}}}, {'site_key': 'betmgm', 'site_nice': 'BetMGM', 'last_update': 1611352575, 'odds': {'totals': {'points': ['223.5', '223.5'], 'odds': [1.91, 1.91], 'position': ['over', 'under']}}}, {'site_key': 'betonlineag', 'site_nice': 'BetOnline.ag', 'last_update': 1611352573, 'odds': {'totals': {'points': [223.5, 223.5], 'odds': [1.94, 1.87], 'position': ['over', 'under']}}}, {'site_key': 'bookmaker', 'site_nice': 'Bookmaker', 'last_update': 1611352469, 'odds': {'totals': {'position': ['over', 'under'], 'odds': [1.89, 1.93], 'points': [223.0, 223.0]}}}, {'site_key': 'bovada', 'site_nice': 'Bovada', 'last_update': 1611352467, 'odds': {'totals': {'points': [223.0, 223.0], 'odds': [1.87, 1.95], 'position': ['over', 'under']}}}, {'site_key': 'mybookieag', 'site_nice': 'MyBookie.ag', 'last_update': 1611352467, 'odds': {'totals': {'points': ['223.5', '223.5'], 'odds': [1.91, 1.91], 'position': ['over', 'under']}}}, {'site_key': 'unibet', 'site_nice': 'Unibet', 'last_update': 1611352463, 'odds': {'totals': {'points': [223.0, 223.0], 'odds': [1.9, 1.92], 'position': ['over', 'under']}}}, {'site_key': 'betrivers', 'site_nice': 'BetRivers', 'last_update': 1611352573, 'odds': {'totals': {'points': ['223.0', '223.0'], 'odds': [1.89, 1.92], 'position': ['over', 'under']}}}, {'site_key': 'sugarhouse', 'site_nice': 'SugarHouse', 'last_update': 1611352574, 'odds': {'totals': {'points': ['223.0', '223.0'], 'odds': [1.89, 1.92], 'position': ['over', 'under']}}}, {'site_key': 'draftkings', 'site_nice': 'DraftKings', 'last_update': 1611352574, 'odds': {'totals': {'points': [223.0, 223.0], 'odds': [1.89, 1.92], 'position': ['over', 'under']}}}], 'sites_count': 12}, {'sport_key': 'basketball_nba', 'sport_nice': 'NBA', 'teams': ['Boston Celtics', 'Philadelphia 76ers'], 'commence_time': 1611362400, 'home_team': 'Philadelphia 76ers', 'sites': [{'site_key': 'pointsbetus', 'site_nice': 'PointsBet (US)', 'last_update': 1611352467, 'odds': {'totals': {'points': [221.5, 221.5], 'odds': [1.87, 1.95], 'position': ['over', 'under']}}}, {'site_key': 'betmgm', 'site_nice': 'BetMGM', 'last_update': 1611352575, 'odds': {'totals': {'points': ['222.5', '222.5'], 'odds': [1.91, 1.91], 'position': ['over', 'under']}}}, {'site_key': 'unibet', 'site_nice': 'Unibet', 'last_update': 1611352463, 'odds': {'totals': {'points': [221.5, 221.5], 'odds': [1.9, 1.92], 'position': ['over', 'under']}}}, {'site_key': 'betrivers', 'site_nice': 'BetRivers', 'last_update': 1611352573, 'odds': {'totals': {'points': ['221.5', '221.5'], 'odds': [1.89, 1.92], 'position': ['over', 'under']}}}, {'site_key': 'sugarhouse', 'site_nice': 'SugarHouse', 'last_update': 1611352574, 'odds': {'totals': {'points': ['221.5', '221.5'], 'odds': [1.89, 1.92], 'position': ['over', 'under']}}}, {'site_key': 'draftkings', 'site_nice': 'DraftKings', 'last_update': 1611352574, 'odds': {'totals': {'points': [221.5, 221.5], 'odds': [1.89, 1.92], 'position': ['over', 'under']}}}, {'site_key': 'bovada', 'site_nice': 'Bovada', 'last_update': 1611352467, 'odds': {'totals': {'points': [221.5, 221.5], 'odds': [1.91, 1.91], 'position': ['over', 'under']}}}, {'site_key': 'betonlineag', 'site_nice': 'BetOnline.ag', 'last_update': 1611352573, 'odds': {'totals': {'points': [221.5, 221.5], 'odds': [1.93, 1.88], 'position': ['over', 'under']}}}, {'site_key': 'lowvig', 'site_nice': 'LowVig.ag', 'last_update': 1611352466, 'odds': {'totals': {'points': [221.5, 221.5], 'odds': [1.98, 1.93], 'position': ['over', 'under']}}}, {'site_key': 'mybookieag', 'site_nice': 'MyBookie.ag', 'last_update': 1611352467, 'odds': {'totals': {'points': ['221.5', '221.5'], 'odds': [1.91, 1.91], 'position': ['over', 'under']}}}, {'site_key': 'williamhill_us', 'site_nice': 'William Hill (US)', 'last_update': 1611352571, 'odds': {'totals': {'points': [221.5, 221.5], 'odds': [1.91, 1.91], 'position': ['over', 'under']}}}, {'site_key': 'bookmaker', 'site_nice': 'Bookmaker', 'last_update': 1611352469, 'odds': {'totals': {'position': ['over', 'under'], 'odds': [1.91, 1.91], 'points': [221.0, 221.0]}}}], 'sites_count': 12}, {'sport_key': 'basketball_nba', 'sport_nice': 'NBA', 'teams': ['Miami Heat', 'Toronto Raptors'], 'commence_time': 1611362400, 'home_team': 'Toronto Raptors', 'sites': [{'site_key': 'pointsbetus', 'site_nice': 'PointsBet (US)', 'last_update': 1611352467, 'odds': {'totals': {'points': [221.5, 221.5], 'odds': [1.87, 1.95], 'position': ['over', 'under']}}}, {'site_key': 'betmgm', 'site_nice': 'BetMGM', 'last_update': 1611352575, 'odds': {'totals': {'points': ['221.5', '221.5'], 'odds': [1.91, 1.91], 'position': ['over', 'under']}}}, {'site_key': 'unibet', 'site_nice': 'Unibet', 'last_update': 1611352463, 'odds': {'totals': {'points': [221.5, 221.5], 'odds': [1.91, 1.91], 'position': ['over', 'under']}}}, {'site_key': 'betrivers', 'site_nice': 'BetRivers', 'last_update': 1611352573, 'odds': {'totals': {'points': ['221.5', '221.5'], 'odds': [1.91, 1.91], 'position': ['over', 'under']}}}, {'site_key': 'sugarhouse', 'site_nice': 'SugarHouse', 'last_update': 1611352574, 'odds': {'totals': {'points': ['221.5', '221.5'], 'odds': [1.91, 1.91], 'position': ['over', 'under']}}}, {'site_key': 'draftkings', 'site_nice': 'DraftKings', 'last_update': 1611352574, 'odds': {'totals': {'points': [221.5, 221.5], 'odds': [1.91, 1.91], 'position': ['over', 'under']}}}, {'site_key': 'bovada', 'site_nice': 'Bovada', 'last_update': 1611352467, 'odds': {'totals': {'points': [221.0, 221.0], 'odds': [1.91, 1.91], 'position': ['over', 'under']}}}, {'site_key': 'betonlineag', 'site_nice': 'BetOnline.ag', 'last_update': 1611352573, 'odds': {'totals': {'points': [221.5, 221.5], 'odds': [1.9, 1.9], 'position': ['over', 'under']}}}, {'site_key': 'lowvig', 'site_nice': 'LowVig.ag', 'last_update': 1611352466, 'odds': {'totals': {'points': [221.5, 221.5], 'odds': [1.95, 1.95], 'position': ['over', 'under']}}}, {'site_key': 'mybookieag', 'site_nice': 'MyBookie.ag', 'last_update': 1611352467, 'odds': {'totals': {'points': ['221.5', '221.5'], 'odds': [1.91, 1.91], 'position': ['over', 'under']}}}, {'site_key': 'williamhill_us', 'site_nice': 'William Hill (US)', 'last_update': 1611352571, 'odds': {'totals': {'points': [221.5, 221.5], 'odds': [1.91, 1.91], 'position': ['over', 'under']}}}, {'site_key': 'bookmaker', 'site_nice': 'Bookmaker', 'last_update': 1611352469, 'odds': {'totals': {'position': ['over', 'under'], 'odds': [1.91, 1.91], 'points': [221.0, 221.0]}}}], 'sites_count': 12}, {'sport_key': 'basketball_nba', 'sport_nice': 'NBA', 'teams': ['Atlanta Hawks', 'Minnesota Timberwolves'], 'commence_time': 1611364200, 'home_team': 'Minnesota Timberwolves', 'sites': [{'site_key': 'pointsbetus', 'site_nice': 'PointsBet (US)', 'last_update': 1611352467, 'odds': {'totals': {'points': [224.5, 224.5], 'odds': [1.87, 1.95], 'position': ['over', 'under']}}}, {'site_key': 'betmgm', 'site_nice': 'BetMGM', 'last_update': 1611352575, 'odds': {'totals': {'points': ['225.5', '225.5'], 'odds': [1.91, 1.91], 'position': ['over', 'under']}}}, {'site_key': 'unibet', 'site_nice': 'Unibet', 'last_update': 1611352463, 'odds': {'totals': {'points': [225.5, 225.5], 'odds': [1.9, 1.92], 'position': ['over', 'under']}}}, {'site_key': 'betrivers', 'site_nice': 'BetRivers', 'last_update': 1611352573, 'odds': {'totals': {'points': ['225.5', '225.5'], 'odds': [1.89, 1.92], 'position': ['over', 'under']}}}, {'site_key': 'sugarhouse', 'site_nice': 'SugarHouse', 'last_update': 1611352574, 'odds': {'totals': {'points': ['225.5', '225.5'], 'odds': [1.89, 1.92], 'position': ['over', 'under']}}}, {'site_key': 'draftkings', 'site_nice': 'DraftKings', 'last_update': 1611352574, 'odds': {'totals': {'points': [225.5, 225.5], 'odds': [1.89, 1.92], 'position': ['over', 'under']}}}, {'site_key': 'bovada', 'site_nice': 'Bovada', 'last_update': 1611352467, 'odds': {'totals': {'points': [225.5, 225.5], 'odds': [1.91, 1.91], 'position': ['over', 'under']}}}, {'site_key': 'betonlineag', 'site_nice': 'BetOnline.ag', 'last_update': 1611352573, 'odds': {'totals': {'points': [225.0, 225.0], 'odds': [1.87, 1.94], 'position': ['over', 'under']}}}, {'site_key': 'lowvig', 'site_nice': 'LowVig.ag', 'last_update': 1611352466, 'odds': {'totals': {'points': [225.0, 225.0], 'odds': [1.92, 1.99], 'position': ['over', 'under']}}}, {'site_key': 'williamhill_us', 'site_nice': 'William Hill (US)', 'last_update': 1611352571, 'odds': {'totals': {'points': [225.0, 225.0], 'odds': [1.91, 1.91], 'position': ['over', 'under']}}}, {'site_key': 'mybookieag', 'site_nice': 'MyBookie.ag', 'last_update': 1611352467, 'odds': {'totals': {'points': ['225.0', '225.0'], 'odds': [1.91, 1.91], 'position': ['over', 'under']}}}, {'site_key': 'bookmaker', 'site_nice': 'Bookmaker', 'last_update': 1611352469, 'odds': {'totals': {'position': ['over', 'under'], 'odds': [1.9, 1.92], 'points': [225.0, 225.0]}}}], 'sites_count': 12}, {'sport_key': 'basketball_nba', 'sport_nice': 'NBA', 'teams': ['Dallas Mavericks', 'San Antonio Spurs'], 'commence_time': 1611366000, 'home_team': 'San Antonio Spurs', 'sites': [{'site_key': 'pointsbetus', 'site_nice': 'PointsBet (US)', 'last_update': 1611352467, 'odds': {'totals': {'points': [223.0, 223.0], 'odds': [1.87, 1.95], 'position': ['over', 'under']}}}, {'site_key': 'williamhill_us', 'site_nice': 'William Hill (US)', 'last_update': 1611352571, 'odds': {'totals': {'points': [223.5, 223.5], 'odds': [1.91, 1.91], 'position': ['over', 'under']}}}, {'site_key': 'lowvig', 'site_nice': 'LowVig.ag', 'last_update': 1611352466, 'odds': {'totals': {'points': [223.5, 223.5], 'odds': [2.0, 1.91], 'position': ['over', 'under']}}}, {'site_key': 'bookmaker', 'site_nice': 'Bookmaker', 'last_update': 1611352469, 'odds': {'totals': {'position': ['over', 'under'], 'odds': [1.91, 1.91], 'points': [223.5, 223.5]}}}, {'site_key': 'betmgm', 'site_nice': 'BetMGM', 'last_update': 1611352575, 'odds': {'totals': {'points': ['222.5', '222.5'], 'odds': [1.91, 1.91], 'position': ['over', 'under']}}}, {'site_key': 'betonlineag', 'site_nice': 'BetOnline.ag', 'last_update': 1611352573, 'odds': {'totals': {'points': [223.5, 223.5], 'odds': [1.95, 1.87], 'position': ['over', 'under']}}}, {'site_key': 'bovada', 'site_nice': 'Bovada', 'last_update': 1611352467, 'odds': {'totals': {'points': [223.5, 223.5], 'odds': [1.91, 1.91], 'position': ['over', 'under']}}}, {'site_key': 'mybookieag', 'site_nice': 'MyBookie.ag', 'last_update': 1611352467, 'odds': {'totals': {'points': ['223.5', '223.5'], 'odds': [1.91, 1.91], 'position': ['over', 'under']}}}, {'site_key': 'unibet', 'site_nice': 'Unibet', 'last_update': 1611352463, 'odds': {'totals': {'points': [223.5, 223.5], 'odds': [1.91, 1.91], 'position': ['over', 'under']}}}, {'site_key': 'betrivers', 'site_nice': 'BetRivers', 'last_update': 1611352573, 'odds': {'totals': {'points': ['223.5', '223.5'], 'odds': [1.91, 1.91], 'position': ['over', 'under']}}}, {'site_key': 'sugarhouse', 'site_nice': 'SugarHouse', 'last_update': 1611352574, 'odds': {'totals': {'points': ['223.5', '223.5'], 'odds': [1.91, 1.91], 'position': ['over', 'under']}}}, {'site_key': 'draftkings', 'site_nice': 'DraftKings', 'last_update': 1611352574, 'odds': {'totals': {'points': [223.5, 223.5], 'odds': [1.91, 1.91], 'position': ['over', 'under']}}}], 'sites_count': 12}, {'sport_key': 'basketball_nba', 'sport_nice': 'NBA', 'teams': ['New York Knicks', 'Sacramento Kings'], 'commence_time': 1611371400, 'home_team': 'Sacramento Kings', 'sites': [{'site_key': 'betmgm', 'site_nice': 'BetMGM', 'last_update': 1611352575, 'odds': {'totals': {'points': ['218.5', '218.5'], 'odds': [1.91, 1.91], 'position': ['over', 'under']}}}, {'site_key': 'betonlineag', 'site_nice': 'BetOnline.ag', 'last_update': 1611352573, 'odds': {'totals': {'points': [218.5, 218.5], 'odds': [1.9, 1.9], 'position': ['over', 'under']}}}, {'site_key': 'pointsbetus', 'site_nice': 'PointsBet (US)', 'last_update': 1611352467, 'odds': {'totals': {'points': [218.5, 218.5], 'odds': [1.87, 1.95], 'position': ['over', 'under']}}}, {'site_key': 'williamhill_us', 'site_nice': 'William Hill (US)', 'last_update': 1611352571, 'odds': {'totals': {'points': [218.5, 218.5], 'odds': [1.91, 1.91], 'position': ['over', 'under']}}}, {'site_key': 'lowvig', 'site_nice': 'LowVig.ag', 'last_update': 1611352466, 'odds': {'totals': {'points': [218.5, 218.5], 'odds': [1.95, 1.95], 'position': ['over', 'under']}}}, {'site_key': 'bookmaker', 'site_nice': 'Bookmaker', 'last_update': 1611352469, 'odds': {'totals': {'position': ['over', 'under'], 'odds': [1.91, 1.91], 'points': [218.5, 218.5]}}}, {'site_key': 'bovada', 'site_nice': 'Bovada', 'last_update': 1611352467, 'odds': {'totals': {'points': [218.5, 218.5], 'odds': [1.91, 1.91], 'position': ['over', 'under']}}}, {'site_key': 'mybookieag', 'site_nice': 'MyBookie.ag', 'last_update': 1611352467, 'odds': {'totals': {'points': ['218.5', '218.5'], 'odds': [1.91, 1.91], 'position': ['over', 'under']}}}, {'site_key': 'unibet', 'site_nice': 'Unibet', 'last_update': 1611352463, 'odds': {'totals': {'points': [218.5, 218.5], 'odds': [1.89, 1.92], 'position': ['over', 'under']}}}, {'site_key': 'betrivers', 'site_nice': 'BetRivers', 'last_update': 1611352573, 'odds': {'totals': {'points': ['218.5', '218.5'], 'odds': [1.88, 1.92], 'position': ['over', 'under']}}}, {'site_key': 'sugarhouse', 'site_nice': 'SugarHouse', 'last_update': 1611352574, 'odds': {'totals': {'points': ['218.5', '218.5'], 'odds': [1.88, 1.92], 'position': ['over', 'under']}}}, {'site_key': 'draftkings', 'site_nice': 'DraftKings', 'last_update': 1611352574, 'odds': {'totals': {'points': [218.5, 218.5], 'odds': [1.88, 1.92], 'position': ['over', 'under']}}}], 'sites_count': 12}, {'sport_key': 'basketball_nba', 'sport_nice': 'NBA', 'teams': ['Denver Nuggets', 'Phoenix Suns'], 'commence_time': 1611371400, 'home_team': 'Phoenix Suns', 'sites': [{'site_key': 'betmgm', 'site_nice': 'BetMGM', 'last_update': 1611352575, 'odds': {'totals': {'points': ['219.5', '219.5'], 'odds': [1.91, 1.91], 'position': ['over', 'under']}}}, {'site_key': 'betonlineag', 'site_nice': 'BetOnline.ag', 'last_update': 1611352573, 'odds': {'totals': {'points': [220.5, 220.5], 'odds': [1.93, 1.88], 'position': ['over', 'under']}}}, {'site_key': 'pointsbetus', 'site_nice': 'PointsBet (US)', 'last_update': 1611352467, 'odds': {'totals': {'points': [220.0, 220.0], 'odds': [1.87, 1.95], 'position': ['over', 'under']}}}, {'site_key': 'lowvig', 'site_nice': 'LowVig.ag', 'last_update': 1611352466, 'odds': {'totals': {'points': [220.5, 220.5], 'odds': [1.98, 1.93], 'position': ['over', 'under']}}}, {'site_key': 'bookmaker', 'site_nice': 'Bookmaker', 'last_update': 1611352469, 'odds': {'totals': {'position': ['over', 'under'], 'odds': [1.91, 1.91], 'points': [220.5, 220.5]}}}, {'site_key': 'bovada', 'site_nice': 'Bovada', 'last_update': 1611352467, 'odds': {'totals': {'points': [220.0, 220.0], 'odds': [1.91, 1.91], 'position': ['over', 'under']}}}, {'site_key': 'mybookieag', 'site_nice': 'MyBookie.ag', 'last_update': 1611352467, 'odds': {'totals': {'points': ['220.0', '220.0'], 'odds': [1.91, 1.91], 'position': ['over', 'under']}}}, {'site_key': 'unibet', 'site_nice': 'Unibet', 'last_update': 1611352463, 'odds': {'totals': {'points': [220.0, 220.0], 'odds': [1.9, 1.92], 'position': ['over', 'under']}}}, {'site_key': 'betrivers', 'site_nice': 'BetRivers', 'last_update': 1611352573, 'odds': {'totals': {'points': ['220.0', '220.0'], 'odds': [1.89, 1.92], 'position': ['over', 'under']}}}, {'site_key': 'sugarhouse', 'site_nice': 'SugarHouse', 'last_update': 1611352574, 'odds': {'totals': {'points': ['220.0', '220.0'], 'odds': [1.89, 1.92], 'position': ['over', 'under']}}}, {'site_key': 'draftkings', 'site_nice': 'DraftKings', 'last_update': 1611352574, 'odds': {'totals': {'points': [220.0, 220.0], 'odds': [1.89, 1.92], 'position': ['over', 'under']}}}], 'sites_count': 11}, {'sport_key': 'basketball_nba', 'sport_nice': 'NBA', 'teams': ['Los Angeles Clippers', 'Oklahoma City Thunder'], 'commence_time': 1611371400, 'home_team': 'Los Angeles Clippers', 'sites': [{'site_key': 'pointsbetus', 'site_nice': 'PointsBet (US)', 'last_update': 1611352467, 'odds': {'totals': {'points': [219.5, 219.5], 'odds': [1.87, 1.95], 'position': ['over', 'under']}}}, {'site_key': 'williamhill_us', 'site_nice': 'William Hill (US)', 'last_update': 1611352571, 'odds': {'totals': {'points': [219.5, 219.5], 'odds': [1.91, 1.91], 'position': ['over', 'under']}}}, {'site_key': 'lowvig', 'site_nice': 'LowVig.ag', 'last_update': 1611352466, 'odds': {'totals': {'points': [220.0, 220.0], 'odds': [1.94, 1.97], 'position': ['over', 'under']}}}, {'site_key': 'bookmaker', 'site_nice': 'Bookmaker', 'last_update': 1611352469, 'odds': {'totals': {'position': ['over', 'under'], 'odds': [1.92, 1.9], 'points': [219.5, 219.5]}}}, {'site_key': 'betmgm', 'site_nice': 'BetMGM', 'last_update': 1611352575, 'odds': {'totals': {'points': ['219.5', '219.5'], 'odds': [1.91, 1.91], 'position': ['over', 'under']}}}, {'site_key': 'betonlineag', 'site_nice': 'BetOnline.ag', 'last_update': 1611352573, 'odds': {'totals': {'points': [220.0, 220.0], 'odds': [1.89, 1.92], 'position': ['over', 'under']}}}, {'site_key': 'bovada', 'site_nice': 'Bovada', 'last_update': 1611352467, 'odds': {'totals': {'points': [220.0, 220.0], 'odds': [1.91, 1.91], 'position': ['over', 'under']}}}, {'site_key': 'mybookieag', 'site_nice': 'MyBookie.ag', 'last_update': 1611352467, 'odds': {'totals': {'points': ['219.5', '219.5'], 'odds': [1.91, 1.91], 'position': ['over', 'under']}}}, {'site_key': 'unibet', 'site_nice': 'Unibet', 'last_update': 1611352463, 'odds': {'totals': {'points': [219.5, 219.5], 'odds': [1.91, 1.91], 'position': ['over', 'under']}}}, {'site_key': 'betrivers', 'site_nice': 'BetRivers', 'last_update': 1611352573, 'odds': {'totals': {'points': ['219.5', '219.5'], 'odds': [1.91, 1.91], 'position': ['over', 'under']}}}, {'site_key': 'sugarhouse', 'site_nice': 'SugarHouse', 'last_update': 1611352574, 'odds': {'totals': {'points': ['219.5', '219.5'], 'odds': [1.91, 1.91], 'position': ['over', 'under']}}}, {'site_key': 'draftkings', 'site_nice': 'DraftKings', 'last_update': 1611352574, 'odds': {'totals': {'points': [219.5, 219.5], 'odds': [1.91, 1.91], 'position': ['over', 'under']}}}], 'sites_count': 12}]}\n"
     ]
    },
    {
     "data": {
      "text/plain": "        sport_key sport_nice                                 teams  \\\n0  basketball_nba        NBA    [Charlotte Hornets, Chicago Bulls]   \n1  basketball_nba        NBA       [Indiana Pacers, Orlando Magic]   \n2  basketball_nba        NBA    [Detroit Pistons, Houston Rockets]   \n3  basketball_nba        NBA  [Brooklyn Nets, Cleveland Cavaliers]   \n4  basketball_nba        NBA  [Boston Celtics, Philadelphia 76ers]   \n\n   commence_time            home_team  \\\n0     1611360600    Charlotte Hornets   \n1     1611360600       Indiana Pacers   \n2     1611360600      Detroit Pistons   \n3     1611362400  Cleveland Cavaliers   \n4     1611362400   Philadelphia 76ers   \n\n                                               sites  sites_count       date  \\\n0  [{'site_key': 'pointsbetus', 'site_nice': 'Poi...           13 2021-01-22   \n1  [{'site_key': 'pointsbetus', 'site_nice': 'Poi...           13 2021-01-22   \n2  [{'site_key': 'pointsbetus', 'site_nice': 'Poi...           13 2021-01-22   \n3  [{'site_key': 'williamhill_us', 'site_nice': '...           12 2021-01-22   \n4  [{'site_key': 'pointsbetus', 'site_nice': 'Poi...           12 2021-01-22   \n\n         away_team                                          game  total  \n0    Chicago Bulls    2021-01-22 Chicago Bulls Charlotte Hornets  228.0  \n1    Orlando Magic       2021-01-22 Orlando Magic Indiana Pacers  217.5  \n2  Houston Rockets    2021-01-22 Houston Rockets Detroit Pistons  215.0  \n3    Brooklyn Nets  2021-01-22 Brooklyn Nets Cleveland Cavaliers  223.0  \n4   Boston Celtics  2021-01-22 Boston Celtics Philadelphia 76ers  221.5  ",
      "text/html": "<div>\n<style scoped>\n    .dataframe tbody tr th:only-of-type {\n        vertical-align: middle;\n    }\n\n    .dataframe tbody tr th {\n        vertical-align: top;\n    }\n\n    .dataframe thead th {\n        text-align: right;\n    }\n</style>\n<table border=\"1\" class=\"dataframe\">\n  <thead>\n    <tr style=\"text-align: right;\">\n      <th></th>\n      <th>sport_key</th>\n      <th>sport_nice</th>\n      <th>teams</th>\n      <th>commence_time</th>\n      <th>home_team</th>\n      <th>sites</th>\n      <th>sites_count</th>\n      <th>date</th>\n      <th>away_team</th>\n      <th>game</th>\n      <th>total</th>\n    </tr>\n  </thead>\n  <tbody>\n    <tr>\n      <th>0</th>\n      <td>basketball_nba</td>\n      <td>NBA</td>\n      <td>[Charlotte Hornets, Chicago Bulls]</td>\n      <td>1611360600</td>\n      <td>Charlotte Hornets</td>\n      <td>[{'site_key': 'pointsbetus', 'site_nice': 'Poi...</td>\n      <td>13</td>\n      <td>2021-01-22</td>\n      <td>Chicago Bulls</td>\n      <td>2021-01-22 Chicago Bulls Charlotte Hornets</td>\n      <td>228.0</td>\n    </tr>\n    <tr>\n      <th>1</th>\n      <td>basketball_nba</td>\n      <td>NBA</td>\n      <td>[Indiana Pacers, Orlando Magic]</td>\n      <td>1611360600</td>\n      <td>Indiana Pacers</td>\n      <td>[{'site_key': 'pointsbetus', 'site_nice': 'Poi...</td>\n      <td>13</td>\n      <td>2021-01-22</td>\n      <td>Orlando Magic</td>\n      <td>2021-01-22 Orlando Magic Indiana Pacers</td>\n      <td>217.5</td>\n    </tr>\n    <tr>\n      <th>2</th>\n      <td>basketball_nba</td>\n      <td>NBA</td>\n      <td>[Detroit Pistons, Houston Rockets]</td>\n      <td>1611360600</td>\n      <td>Detroit Pistons</td>\n      <td>[{'site_key': 'pointsbetus', 'site_nice': 'Poi...</td>\n      <td>13</td>\n      <td>2021-01-22</td>\n      <td>Houston Rockets</td>\n      <td>2021-01-22 Houston Rockets Detroit Pistons</td>\n      <td>215.0</td>\n    </tr>\n    <tr>\n      <th>3</th>\n      <td>basketball_nba</td>\n      <td>NBA</td>\n      <td>[Brooklyn Nets, Cleveland Cavaliers]</td>\n      <td>1611362400</td>\n      <td>Cleveland Cavaliers</td>\n      <td>[{'site_key': 'williamhill_us', 'site_nice': '...</td>\n      <td>12</td>\n      <td>2021-01-22</td>\n      <td>Brooklyn Nets</td>\n      <td>2021-01-22 Brooklyn Nets Cleveland Cavaliers</td>\n      <td>223.0</td>\n    </tr>\n    <tr>\n      <th>4</th>\n      <td>basketball_nba</td>\n      <td>NBA</td>\n      <td>[Boston Celtics, Philadelphia 76ers]</td>\n      <td>1611362400</td>\n      <td>Philadelphia 76ers</td>\n      <td>[{'site_key': 'pointsbetus', 'site_nice': 'Poi...</td>\n      <td>12</td>\n      <td>2021-01-22</td>\n      <td>Boston Celtics</td>\n      <td>2021-01-22 Boston Celtics Philadelphia 76ers</td>\n      <td>221.5</td>\n    </tr>\n  </tbody>\n</table>\n</div>"
     },
     "execution_count": 9,
     "metadata": {},
     "output_type": "execute_result"
    }
   ],
   "source": [
    "df2 = get_odds(sport='basketball_nba', market='totals')\n",
    "df2.head(5)"
   ],
   "metadata": {
    "collapsed": false,
    "pycharm": {
     "name": "#%%\n"
    }
   }
  },
  {
   "cell_type": "code",
   "execution_count": null,
   "outputs": [],
   "source": [
    "live_game = df[(df['away_team'].str.lower() == 'Buffalo Bulls'.lower()) & (df['home_team'].str.lower() == 'Miami (OH) Redhawks'.lower())]\n",
    "live_game['total'].values[0]"
   ],
   "metadata": {
    "collapsed": false,
    "pycharm": {
     "name": "#%%\n"
    }
   }
  },
  {
   "cell_type": "code",
   "execution_count": null,
   "outputs": [],
   "source": [
    "df['home_team'].head()"
   ],
   "metadata": {
    "collapsed": false,
    "pycharm": {
     "name": "#%%\n"
    }
   }
  },
  {
   "cell_type": "code",
   "execution_count": 1,
   "outputs": [
    {
     "ename": "NameError",
     "evalue": "name 'requests' is not defined",
     "output_type": "error",
     "traceback": [
      "\u001B[0;31m---------------------------------------------------------------------------\u001B[0m",
      "\u001B[0;31mNameError\u001B[0m                                 Traceback (most recent call last)",
      "\u001B[0;32m<ipython-input-1-83425cfcaedc>\u001B[0m in \u001B[0;36m<module>\u001B[0;34m\u001B[0m\n\u001B[0;32m----> 1\u001B[0;31m odds_response = requests.get('https://api.the-odds-api.com/v3/sports', params={\n\u001B[0m\u001B[1;32m      2\u001B[0m     \u001B[0;34m'all'\u001B[0m\u001B[0;34m:\u001B[0m\u001B[0;32mTrue\u001B[0m\u001B[0;34m,\u001B[0m\u001B[0;34m\u001B[0m\u001B[0;34m\u001B[0m\u001B[0m\n\u001B[1;32m      3\u001B[0m     \u001B[0;34m'api_key'\u001B[0m\u001B[0;34m:\u001B[0m \u001B[0mapi_key\u001B[0m\u001B[0;34m,\u001B[0m\u001B[0;34m\u001B[0m\u001B[0;34m\u001B[0m\u001B[0m\n\u001B[1;32m      4\u001B[0m }).json()\n\u001B[1;32m      5\u001B[0m \u001B[0mdf\u001B[0m \u001B[0;34m=\u001B[0m \u001B[0mpd\u001B[0m\u001B[0;34m.\u001B[0m\u001B[0mDataFrame\u001B[0m\u001B[0;34m.\u001B[0m\u001B[0mfrom_dict\u001B[0m\u001B[0;34m(\u001B[0m\u001B[0modds_response\u001B[0m\u001B[0;34m[\u001B[0m\u001B[0;34m'data'\u001B[0m\u001B[0;34m]\u001B[0m\u001B[0;34m)\u001B[0m\u001B[0;34m\u001B[0m\u001B[0;34m\u001B[0m\u001B[0m\n",
      "\u001B[0;31mNameError\u001B[0m: name 'requests' is not defined"
     ]
    }
   ],
   "source": [
    "odds_response = requests.get('https://api.the-odds-api.com/v3/sports', params={\n",
    "    'all':True,\n",
    "    'api_key': api_key,\n",
    "}).json()\n",
    "df = pd.DataFrame.from_dict(odds_response['data'])\n",
    "df"
   ],
   "metadata": {
    "collapsed": false,
    "pycharm": {
     "name": "#%%\n"
    }
   }
  },
  {
   "cell_type": "code",
   "execution_count": 7,
   "outputs": [
    {
     "data": {
      "text/plain": "['Atlanta Hawks', 'Los Angeles Clippers']"
     },
     "execution_count": 7,
     "metadata": {},
     "output_type": "execute_result"
    }
   ],
   "source": [
    "df['teams'].iloc[0]\n"
   ],
   "metadata": {
    "collapsed": false,
    "pycharm": {
     "name": "#%%\n"
    }
   }
  },
  {
   "cell_type": "code",
   "execution_count": 11,
   "outputs": [
    {
     "data": {
      "text/plain": "array([ True,  True])"
     },
     "execution_count": 11,
     "metadata": {},
     "output_type": "execute_result"
    }
   ],
   "source": [
    "pd.notnull(df['teams'].iloc[0])"
   ],
   "metadata": {
    "collapsed": false,
    "pycharm": {
     "name": "#%%\n"
    }
   }
  },
  {
   "cell_type": "code",
   "execution_count": 5,
   "outputs": [
    {
     "data": {
      "text/plain": "['1/1/1900 0:00', 1, '0:20:00', 37, 29, 66]"
     },
     "execution_count": 5,
     "metadata": {},
     "output_type": "execute_result"
    }
   ],
   "source": [
    "df.iloc[0].to_list()"
   ],
   "metadata": {
    "collapsed": false,
    "pycharm": {
     "name": "#%%\n"
    }
   }
  },
  {
   "cell_type": "code",
   "execution_count": 9,
   "outputs": [
    {
     "data": {
      "text/plain": "'1 0:01'"
     },
     "execution_count": 9,
     "metadata": {},
     "output_type": "execute_result"
    }
   ],
   "source": [
    "df.first_valid_index()"
   ],
   "metadata": {
    "collapsed": false,
    "pycharm": {
     "name": "#%%\n"
    }
   }
  },
  {
   "cell_type": "code",
   "execution_count": 6,
   "outputs": [
    {
     "data": {
      "text/plain": "True"
     },
     "execution_count": 6,
     "metadata": {},
     "output_type": "execute_result"
    }
   ],
   "source": [
    "'FinalOT'.startswith('Final')"
   ],
   "metadata": {
    "collapsed": false,
    "pycharm": {
     "name": "#%%\n"
    }
   }
  },
  {
   "cell_type": "code",
   "execution_count": 29,
   "outputs": [
    {
     "name": "stdout",
     "output_type": "stream",
     "text": [
      "1 b\n",
      "2 c\n"
     ]
    }
   ],
   "source": [
    "for i, col in enumerate(['a', 'b', 'c'][1:], start=1):\n",
    "    print(i, col)"
   ],
   "metadata": {
    "collapsed": false,
    "pycharm": {
     "name": "#%%\n"
    }
   }
  },
  {
   "cell_type": "code",
   "execution_count": 5,
   "outputs": [],
   "source": [
    "import pandas as pd\n",
    "df2 = pd.read_csv('player_pbp_test.csv')\n",
    "df2 = df2[df2['player'].notnull()]"
   ],
   "metadata": {
    "collapsed": false,
    "pycharm": {
     "name": "#%%\n"
    }
   }
  },
  {
   "cell_type": "code",
   "execution_count": 6,
   "outputs": [
    {
     "data": {
      "text/plain": "      time_stamp                 time  period adj_time  away  home  total  \\\n174  1 10:32 6 3  1900-01-01 00:10:32       1  0:01:28     6     3      9   \n177  1 10:49 6 2  1900-01-01 00:10:49       1  0:01:11     6     2      8   \n179  1 11:11 4 2  1900-01-01 00:11:11       1  0:00:49     4     2      6   \n180  1 11:24 1 2  1900-01-01 00:11:24       1  0:00:36     1     2      3   \n182  1 11:44 0 2  1900-01-01 00:11:44       1  0:00:16     0     2      2   \n\n                                                  play       player  points  \\\n174             Andre Drummond makes free throw 1 of 2   A Drummond     1.0   \n177  Mason Plumlee makes 2-foot dunk (Delon Wright ...    M Plumlee     2.0   \n179  Wayne Ellington makes 25-foot three point shot...  W Ellington     3.0   \n180         Wayne Ellington makes technical free throw  W Ellington     1.0   \n182                 Andre Drummond makes driving layup   A Drummond     2.0   \n\n                    team  \n174  Cleveland Cavaliers  \n177      Detroit Pistons  \n179      Detroit Pistons  \n180      Detroit Pistons  \n182  Cleveland Cavaliers  ",
      "text/html": "<div>\n<style scoped>\n    .dataframe tbody tr th:only-of-type {\n        vertical-align: middle;\n    }\n\n    .dataframe tbody tr th {\n        vertical-align: top;\n    }\n\n    .dataframe thead th {\n        text-align: right;\n    }\n</style>\n<table border=\"1\" class=\"dataframe\">\n  <thead>\n    <tr style=\"text-align: right;\">\n      <th></th>\n      <th>time_stamp</th>\n      <th>time</th>\n      <th>period</th>\n      <th>adj_time</th>\n      <th>away</th>\n      <th>home</th>\n      <th>total</th>\n      <th>play</th>\n      <th>player</th>\n      <th>points</th>\n      <th>team</th>\n    </tr>\n  </thead>\n  <tbody>\n    <tr>\n      <th>174</th>\n      <td>1 10:32 6 3</td>\n      <td>1900-01-01 00:10:32</td>\n      <td>1</td>\n      <td>0:01:28</td>\n      <td>6</td>\n      <td>3</td>\n      <td>9</td>\n      <td>Andre Drummond makes free throw 1 of 2</td>\n      <td>A Drummond</td>\n      <td>1.0</td>\n      <td>Cleveland Cavaliers</td>\n    </tr>\n    <tr>\n      <th>177</th>\n      <td>1 10:49 6 2</td>\n      <td>1900-01-01 00:10:49</td>\n      <td>1</td>\n      <td>0:01:11</td>\n      <td>6</td>\n      <td>2</td>\n      <td>8</td>\n      <td>Mason Plumlee makes 2-foot dunk (Delon Wright ...</td>\n      <td>M Plumlee</td>\n      <td>2.0</td>\n      <td>Detroit Pistons</td>\n    </tr>\n    <tr>\n      <th>179</th>\n      <td>1 11:11 4 2</td>\n      <td>1900-01-01 00:11:11</td>\n      <td>1</td>\n      <td>0:00:49</td>\n      <td>4</td>\n      <td>2</td>\n      <td>6</td>\n      <td>Wayne Ellington makes 25-foot three point shot...</td>\n      <td>W Ellington</td>\n      <td>3.0</td>\n      <td>Detroit Pistons</td>\n    </tr>\n    <tr>\n      <th>180</th>\n      <td>1 11:24 1 2</td>\n      <td>1900-01-01 00:11:24</td>\n      <td>1</td>\n      <td>0:00:36</td>\n      <td>1</td>\n      <td>2</td>\n      <td>3</td>\n      <td>Wayne Ellington makes technical free throw</td>\n      <td>W Ellington</td>\n      <td>1.0</td>\n      <td>Detroit Pistons</td>\n    </tr>\n    <tr>\n      <th>182</th>\n      <td>1 11:44 0 2</td>\n      <td>1900-01-01 00:11:44</td>\n      <td>1</td>\n      <td>0:00:16</td>\n      <td>0</td>\n      <td>2</td>\n      <td>2</td>\n      <td>Andre Drummond makes driving layup</td>\n      <td>A Drummond</td>\n      <td>2.0</td>\n      <td>Cleveland Cavaliers</td>\n    </tr>\n  </tbody>\n</table>\n</div>"
     },
     "execution_count": 6,
     "metadata": {},
     "output_type": "execute_result"
    }
   ],
   "source": [
    "df2.tail()"
   ],
   "metadata": {
    "collapsed": false,
    "pycharm": {
     "name": "#%%\n"
    }
   }
  },
  {
   "cell_type": "code",
   "execution_count": 7,
   "outputs": [],
   "source": [
    "one_hot = pd.get_dummies(df2['period'])\n",
    "one_hot = one_hot.T.reindex([1, 2, 3, 4]).T.fillna(0)"
   ],
   "metadata": {
    "collapsed": false,
    "pycharm": {
     "name": "#%%\n"
    }
   }
  },
  {
   "cell_type": "code",
   "execution_count": 8,
   "outputs": [
    {
     "data": {
      "text/plain": "       1    2    3    4\n174  1.0  0.0  0.0  0.0\n177  1.0  0.0  0.0  0.0\n179  1.0  0.0  0.0  0.0\n180  1.0  0.0  0.0  0.0\n182  1.0  0.0  0.0  0.0",
      "text/html": "<div>\n<style scoped>\n    .dataframe tbody tr th:only-of-type {\n        vertical-align: middle;\n    }\n\n    .dataframe tbody tr th {\n        vertical-align: top;\n    }\n\n    .dataframe thead th {\n        text-align: right;\n    }\n</style>\n<table border=\"1\" class=\"dataframe\">\n  <thead>\n    <tr style=\"text-align: right;\">\n      <th></th>\n      <th>1</th>\n      <th>2</th>\n      <th>3</th>\n      <th>4</th>\n    </tr>\n  </thead>\n  <tbody>\n    <tr>\n      <th>174</th>\n      <td>1.0</td>\n      <td>0.0</td>\n      <td>0.0</td>\n      <td>0.0</td>\n    </tr>\n    <tr>\n      <th>177</th>\n      <td>1.0</td>\n      <td>0.0</td>\n      <td>0.0</td>\n      <td>0.0</td>\n    </tr>\n    <tr>\n      <th>179</th>\n      <td>1.0</td>\n      <td>0.0</td>\n      <td>0.0</td>\n      <td>0.0</td>\n    </tr>\n    <tr>\n      <th>180</th>\n      <td>1.0</td>\n      <td>0.0</td>\n      <td>0.0</td>\n      <td>0.0</td>\n    </tr>\n    <tr>\n      <th>182</th>\n      <td>1.0</td>\n      <td>0.0</td>\n      <td>0.0</td>\n      <td>0.0</td>\n    </tr>\n  </tbody>\n</table>\n</div>"
     },
     "execution_count": 8,
     "metadata": {},
     "output_type": "execute_result"
    }
   ],
   "source": [
    "one_hot.tail()"
   ],
   "metadata": {
    "collapsed": false,
    "pycharm": {
     "name": "#%%\n"
    }
   }
  },
  {
   "cell_type": "code",
   "execution_count": 9,
   "outputs": [
    {
     "data": {
      "text/plain": "[1, 2, 3]"
     },
     "execution_count": 9,
     "metadata": {},
     "output_type": "execute_result"
    }
   ],
   "source": [
    "quarters = list(range(1, 4))\n",
    "quarters"
   ],
   "metadata": {
    "collapsed": false,
    "pycharm": {
     "name": "#%%\n"
    }
   }
  },
  {
   "cell_type": "code",
   "execution_count": 10,
   "outputs": [],
   "source": [
    "one_hot= one_hot[[1, 2, 3, 4]].multiply(df2['points'], axis='index')"
   ],
   "metadata": {
    "collapsed": false,
    "pycharm": {
     "name": "#%%\n"
    }
   }
  },
  {
   "cell_type": "code",
   "execution_count": 11,
   "outputs": [
    {
     "data": {
      "text/plain": "       1    2    3    4\n174  1.0  0.0  0.0  0.0\n177  2.0  0.0  0.0  0.0\n179  3.0  0.0  0.0  0.0\n180  1.0  0.0  0.0  0.0\n182  2.0  0.0  0.0  0.0",
      "text/html": "<div>\n<style scoped>\n    .dataframe tbody tr th:only-of-type {\n        vertical-align: middle;\n    }\n\n    .dataframe tbody tr th {\n        vertical-align: top;\n    }\n\n    .dataframe thead th {\n        text-align: right;\n    }\n</style>\n<table border=\"1\" class=\"dataframe\">\n  <thead>\n    <tr style=\"text-align: right;\">\n      <th></th>\n      <th>1</th>\n      <th>2</th>\n      <th>3</th>\n      <th>4</th>\n    </tr>\n  </thead>\n  <tbody>\n    <tr>\n      <th>174</th>\n      <td>1.0</td>\n      <td>0.0</td>\n      <td>0.0</td>\n      <td>0.0</td>\n    </tr>\n    <tr>\n      <th>177</th>\n      <td>2.0</td>\n      <td>0.0</td>\n      <td>0.0</td>\n      <td>0.0</td>\n    </tr>\n    <tr>\n      <th>179</th>\n      <td>3.0</td>\n      <td>0.0</td>\n      <td>0.0</td>\n      <td>0.0</td>\n    </tr>\n    <tr>\n      <th>180</th>\n      <td>1.0</td>\n      <td>0.0</td>\n      <td>0.0</td>\n      <td>0.0</td>\n    </tr>\n    <tr>\n      <th>182</th>\n      <td>2.0</td>\n      <td>0.0</td>\n      <td>0.0</td>\n      <td>0.0</td>\n    </tr>\n  </tbody>\n</table>\n</div>"
     },
     "execution_count": 11,
     "metadata": {},
     "output_type": "execute_result"
    }
   ],
   "source": [
    "one_hot.tail()\n"
   ],
   "metadata": {
    "collapsed": false,
    "pycharm": {
     "name": "#%%\n"
    }
   }
  },
  {
   "cell_type": "code",
   "execution_count": 12,
   "outputs": [],
   "source": [
    "player_df = pd.concat([df2, one_hot], axis=1)"
   ],
   "metadata": {
    "collapsed": false,
    "pycharm": {
     "name": "#%%\n"
    }
   }
  },
  {
   "cell_type": "code",
   "execution_count": 13,
   "outputs": [],
   "source": [
    "player_df = player_df[['player', 'points', 'team', 1, 2, 3, 4]]"
   ],
   "metadata": {
    "collapsed": false,
    "pycharm": {
     "name": "#%%\n"
    }
   }
  },
  {
   "cell_type": "code",
   "execution_count": 14,
   "outputs": [
    {
     "data": {
      "text/plain": "        player  points                 team    1    2    3    4\n1   A Drummond     1.0  Cleveland Cavaliers  0.0  1.0  0.0  0.0\n2   A Drummond     2.0  Cleveland Cavaliers  0.0  2.0  0.0  0.0\n11   D Windler     2.0  Cleveland Cavaliers  0.0  2.0  0.0  0.0\n12   M Plumlee     1.0      Detroit Pistons  0.0  1.0  0.0  0.0\n14  A Drummond     2.0  Cleveland Cavaliers  0.0  2.0  0.0  0.0",
      "text/html": "<div>\n<style scoped>\n    .dataframe tbody tr th:only-of-type {\n        vertical-align: middle;\n    }\n\n    .dataframe tbody tr th {\n        vertical-align: top;\n    }\n\n    .dataframe thead th {\n        text-align: right;\n    }\n</style>\n<table border=\"1\" class=\"dataframe\">\n  <thead>\n    <tr style=\"text-align: right;\">\n      <th></th>\n      <th>player</th>\n      <th>points</th>\n      <th>team</th>\n      <th>1</th>\n      <th>2</th>\n      <th>3</th>\n      <th>4</th>\n    </tr>\n  </thead>\n  <tbody>\n    <tr>\n      <th>1</th>\n      <td>A Drummond</td>\n      <td>1.0</td>\n      <td>Cleveland Cavaliers</td>\n      <td>0.0</td>\n      <td>1.0</td>\n      <td>0.0</td>\n      <td>0.0</td>\n    </tr>\n    <tr>\n      <th>2</th>\n      <td>A Drummond</td>\n      <td>2.0</td>\n      <td>Cleveland Cavaliers</td>\n      <td>0.0</td>\n      <td>2.0</td>\n      <td>0.0</td>\n      <td>0.0</td>\n    </tr>\n    <tr>\n      <th>11</th>\n      <td>D Windler</td>\n      <td>2.0</td>\n      <td>Cleveland Cavaliers</td>\n      <td>0.0</td>\n      <td>2.0</td>\n      <td>0.0</td>\n      <td>0.0</td>\n    </tr>\n    <tr>\n      <th>12</th>\n      <td>M Plumlee</td>\n      <td>1.0</td>\n      <td>Detroit Pistons</td>\n      <td>0.0</td>\n      <td>1.0</td>\n      <td>0.0</td>\n      <td>0.0</td>\n    </tr>\n    <tr>\n      <th>14</th>\n      <td>A Drummond</td>\n      <td>2.0</td>\n      <td>Cleveland Cavaliers</td>\n      <td>0.0</td>\n      <td>2.0</td>\n      <td>0.0</td>\n      <td>0.0</td>\n    </tr>\n  </tbody>\n</table>\n</div>"
     },
     "execution_count": 14,
     "metadata": {},
     "output_type": "execute_result"
    }
   ],
   "source": [
    "player_df.head()"
   ],
   "metadata": {
    "collapsed": false,
    "pycharm": {
     "name": "#%%\n"
    }
   }
  },
  {
   "cell_type": "code",
   "execution_count": 15,
   "outputs": [
    {
     "data": {
      "text/plain": "         player                 team  points    1    2    3    4\n0    A Drummond  Cleveland Cavaliers    12.0  7.0  5.0  0.0  0.0\n1       C Osman  Cleveland Cavaliers     3.0  0.0  3.0  0.0  0.0\n2      C Sexton  Cleveland Cavaliers    16.0  8.0  8.0  0.0  0.0\n3      D Dotson  Cleveland Cavaliers     2.0  0.0  2.0  0.0  0.0\n4     D Garland  Cleveland Cavaliers     9.0  9.0  0.0  0.0  0.0\n5        D Rose      Detroit Pistons     4.0  4.0  0.0  0.0  0.0\n6     D Windler  Cleveland Cavaliers     2.0  0.0  2.0  0.0  0.0\n7      D Wright      Detroit Pistons     7.0  2.0  5.0  0.0  0.0\n8       I Okoro  Cleveland Cavaliers     2.0  2.0  0.0  0.0  0.0\n9       J Allen  Cleveland Cavaliers     4.0  2.0  2.0  0.0  0.0\n10      J Grant      Detroit Pistons    12.0  3.0  9.0  0.0  0.0\n11    J Jackson      Detroit Pistons     4.0  2.0  2.0  0.0  0.0\n12    M Plumlee      Detroit Pistons     9.0  6.0  3.0  0.0  0.0\n13        S Bey      Detroit Pistons     5.0  5.0  0.0  0.0  0.0\n14  S Doumbouya      Detroit Pistons     4.0  2.0  2.0  0.0  0.0\n15     T Prince  Cleveland Cavaliers     4.0  4.0  0.0  0.0  0.0\n16  W Ellington      Detroit Pistons    11.0  4.0  7.0  0.0  0.0",
      "text/html": "<div>\n<style scoped>\n    .dataframe tbody tr th:only-of-type {\n        vertical-align: middle;\n    }\n\n    .dataframe tbody tr th {\n        vertical-align: top;\n    }\n\n    .dataframe thead th {\n        text-align: right;\n    }\n</style>\n<table border=\"1\" class=\"dataframe\">\n  <thead>\n    <tr style=\"text-align: right;\">\n      <th></th>\n      <th>player</th>\n      <th>team</th>\n      <th>points</th>\n      <th>1</th>\n      <th>2</th>\n      <th>3</th>\n      <th>4</th>\n    </tr>\n  </thead>\n  <tbody>\n    <tr>\n      <th>0</th>\n      <td>A Drummond</td>\n      <td>Cleveland Cavaliers</td>\n      <td>12.0</td>\n      <td>7.0</td>\n      <td>5.0</td>\n      <td>0.0</td>\n      <td>0.0</td>\n    </tr>\n    <tr>\n      <th>1</th>\n      <td>C Osman</td>\n      <td>Cleveland Cavaliers</td>\n      <td>3.0</td>\n      <td>0.0</td>\n      <td>3.0</td>\n      <td>0.0</td>\n      <td>0.0</td>\n    </tr>\n    <tr>\n      <th>2</th>\n      <td>C Sexton</td>\n      <td>Cleveland Cavaliers</td>\n      <td>16.0</td>\n      <td>8.0</td>\n      <td>8.0</td>\n      <td>0.0</td>\n      <td>0.0</td>\n    </tr>\n    <tr>\n      <th>3</th>\n      <td>D Dotson</td>\n      <td>Cleveland Cavaliers</td>\n      <td>2.0</td>\n      <td>0.0</td>\n      <td>2.0</td>\n      <td>0.0</td>\n      <td>0.0</td>\n    </tr>\n    <tr>\n      <th>4</th>\n      <td>D Garland</td>\n      <td>Cleveland Cavaliers</td>\n      <td>9.0</td>\n      <td>9.0</td>\n      <td>0.0</td>\n      <td>0.0</td>\n      <td>0.0</td>\n    </tr>\n    <tr>\n      <th>5</th>\n      <td>D Rose</td>\n      <td>Detroit Pistons</td>\n      <td>4.0</td>\n      <td>4.0</td>\n      <td>0.0</td>\n      <td>0.0</td>\n      <td>0.0</td>\n    </tr>\n    <tr>\n      <th>6</th>\n      <td>D Windler</td>\n      <td>Cleveland Cavaliers</td>\n      <td>2.0</td>\n      <td>0.0</td>\n      <td>2.0</td>\n      <td>0.0</td>\n      <td>0.0</td>\n    </tr>\n    <tr>\n      <th>7</th>\n      <td>D Wright</td>\n      <td>Detroit Pistons</td>\n      <td>7.0</td>\n      <td>2.0</td>\n      <td>5.0</td>\n      <td>0.0</td>\n      <td>0.0</td>\n    </tr>\n    <tr>\n      <th>8</th>\n      <td>I Okoro</td>\n      <td>Cleveland Cavaliers</td>\n      <td>2.0</td>\n      <td>2.0</td>\n      <td>0.0</td>\n      <td>0.0</td>\n      <td>0.0</td>\n    </tr>\n    <tr>\n      <th>9</th>\n      <td>J Allen</td>\n      <td>Cleveland Cavaliers</td>\n      <td>4.0</td>\n      <td>2.0</td>\n      <td>2.0</td>\n      <td>0.0</td>\n      <td>0.0</td>\n    </tr>\n    <tr>\n      <th>10</th>\n      <td>J Grant</td>\n      <td>Detroit Pistons</td>\n      <td>12.0</td>\n      <td>3.0</td>\n      <td>9.0</td>\n      <td>0.0</td>\n      <td>0.0</td>\n    </tr>\n    <tr>\n      <th>11</th>\n      <td>J Jackson</td>\n      <td>Detroit Pistons</td>\n      <td>4.0</td>\n      <td>2.0</td>\n      <td>2.0</td>\n      <td>0.0</td>\n      <td>0.0</td>\n    </tr>\n    <tr>\n      <th>12</th>\n      <td>M Plumlee</td>\n      <td>Detroit Pistons</td>\n      <td>9.0</td>\n      <td>6.0</td>\n      <td>3.0</td>\n      <td>0.0</td>\n      <td>0.0</td>\n    </tr>\n    <tr>\n      <th>13</th>\n      <td>S Bey</td>\n      <td>Detroit Pistons</td>\n      <td>5.0</td>\n      <td>5.0</td>\n      <td>0.0</td>\n      <td>0.0</td>\n      <td>0.0</td>\n    </tr>\n    <tr>\n      <th>14</th>\n      <td>S Doumbouya</td>\n      <td>Detroit Pistons</td>\n      <td>4.0</td>\n      <td>2.0</td>\n      <td>2.0</td>\n      <td>0.0</td>\n      <td>0.0</td>\n    </tr>\n    <tr>\n      <th>15</th>\n      <td>T Prince</td>\n      <td>Cleveland Cavaliers</td>\n      <td>4.0</td>\n      <td>4.0</td>\n      <td>0.0</td>\n      <td>0.0</td>\n      <td>0.0</td>\n    </tr>\n    <tr>\n      <th>16</th>\n      <td>W Ellington</td>\n      <td>Detroit Pistons</td>\n      <td>11.0</td>\n      <td>4.0</td>\n      <td>7.0</td>\n      <td>0.0</td>\n      <td>0.0</td>\n    </tr>\n  </tbody>\n</table>\n</div>"
     },
     "execution_count": 15,
     "metadata": {},
     "output_type": "execute_result"
    }
   ],
   "source": [
    "grouped = player_df.groupby(['player','team'], as_index=False).sum()\n",
    "grouped"
   ],
   "metadata": {
    "collapsed": false,
    "pycharm": {
     "name": "#%%\n"
    }
   }
  },
  {
   "cell_type": "code",
   "execution_count": 165,
   "outputs": [],
   "source": [
    "away = 'Cleveland Cavaliers'\n",
    "home = 'Detroit Pistons'\n",
    "order = pd.CategoricalDtype([away, home], ordered=True)"
   ],
   "metadata": {
    "collapsed": false,
    "pycharm": {
     "name": "#%%\n"
    }
   }
  },
  {
   "cell_type": "code",
   "execution_count": 166,
   "outputs": [
    {
     "data": {
      "text/plain": "         player                 team  points    1    2    3    4\n0    A Drummond  Cleveland Cavaliers    12.0  7.0  5.0  0.0  0.0\n9       J Allen  Cleveland Cavaliers     4.0  2.0  2.0  0.0  0.0\n15     T Prince  Cleveland Cavaliers     4.0  4.0  0.0  0.0  0.0\n6     D Windler  Cleveland Cavaliers     2.0  0.0  2.0  0.0  0.0\n8       I Okoro  Cleveland Cavaliers     2.0  2.0  0.0  0.0  0.0\n3      D Dotson  Cleveland Cavaliers     2.0  0.0  2.0  0.0  0.0\n2      C Sexton  Cleveland Cavaliers    16.0  8.0  8.0  0.0  0.0\n1       C Osman  Cleveland Cavaliers     3.0  0.0  3.0  0.0  0.0\n4     D Garland  Cleveland Cavaliers     9.0  9.0  0.0  0.0  0.0\n5        D Rose      Detroit Pistons     4.0  4.0  0.0  0.0  0.0\n7      D Wright      Detroit Pistons     7.0  2.0  5.0  0.0  0.0\n10      J Grant      Detroit Pistons    12.0  3.0  9.0  0.0  0.0\n11    J Jackson      Detroit Pistons     4.0  2.0  2.0  0.0  0.0\n12    M Plumlee      Detroit Pistons     9.0  6.0  3.0  0.0  0.0\n13        S Bey      Detroit Pistons     5.0  5.0  0.0  0.0  0.0\n14  S Doumbouya      Detroit Pistons     4.0  2.0  2.0  0.0  0.0\n16  W Ellington      Detroit Pistons    11.0  4.0  7.0  0.0  0.0",
      "text/html": "<div>\n<style scoped>\n    .dataframe tbody tr th:only-of-type {\n        vertical-align: middle;\n    }\n\n    .dataframe tbody tr th {\n        vertical-align: top;\n    }\n\n    .dataframe thead th {\n        text-align: right;\n    }\n</style>\n<table border=\"1\" class=\"dataframe\">\n  <thead>\n    <tr style=\"text-align: right;\">\n      <th></th>\n      <th>player</th>\n      <th>team</th>\n      <th>points</th>\n      <th>1</th>\n      <th>2</th>\n      <th>3</th>\n      <th>4</th>\n    </tr>\n  </thead>\n  <tbody>\n    <tr>\n      <th>0</th>\n      <td>A Drummond</td>\n      <td>Cleveland Cavaliers</td>\n      <td>12.0</td>\n      <td>7.0</td>\n      <td>5.0</td>\n      <td>0.0</td>\n      <td>0.0</td>\n    </tr>\n    <tr>\n      <th>9</th>\n      <td>J Allen</td>\n      <td>Cleveland Cavaliers</td>\n      <td>4.0</td>\n      <td>2.0</td>\n      <td>2.0</td>\n      <td>0.0</td>\n      <td>0.0</td>\n    </tr>\n    <tr>\n      <th>15</th>\n      <td>T Prince</td>\n      <td>Cleveland Cavaliers</td>\n      <td>4.0</td>\n      <td>4.0</td>\n      <td>0.0</td>\n      <td>0.0</td>\n      <td>0.0</td>\n    </tr>\n    <tr>\n      <th>6</th>\n      <td>D Windler</td>\n      <td>Cleveland Cavaliers</td>\n      <td>2.0</td>\n      <td>0.0</td>\n      <td>2.0</td>\n      <td>0.0</td>\n      <td>0.0</td>\n    </tr>\n    <tr>\n      <th>8</th>\n      <td>I Okoro</td>\n      <td>Cleveland Cavaliers</td>\n      <td>2.0</td>\n      <td>2.0</td>\n      <td>0.0</td>\n      <td>0.0</td>\n      <td>0.0</td>\n    </tr>\n    <tr>\n      <th>3</th>\n      <td>D Dotson</td>\n      <td>Cleveland Cavaliers</td>\n      <td>2.0</td>\n      <td>0.0</td>\n      <td>2.0</td>\n      <td>0.0</td>\n      <td>0.0</td>\n    </tr>\n    <tr>\n      <th>2</th>\n      <td>C Sexton</td>\n      <td>Cleveland Cavaliers</td>\n      <td>16.0</td>\n      <td>8.0</td>\n      <td>8.0</td>\n      <td>0.0</td>\n      <td>0.0</td>\n    </tr>\n    <tr>\n      <th>1</th>\n      <td>C Osman</td>\n      <td>Cleveland Cavaliers</td>\n      <td>3.0</td>\n      <td>0.0</td>\n      <td>3.0</td>\n      <td>0.0</td>\n      <td>0.0</td>\n    </tr>\n    <tr>\n      <th>4</th>\n      <td>D Garland</td>\n      <td>Cleveland Cavaliers</td>\n      <td>9.0</td>\n      <td>9.0</td>\n      <td>0.0</td>\n      <td>0.0</td>\n      <td>0.0</td>\n    </tr>\n    <tr>\n      <th>5</th>\n      <td>D Rose</td>\n      <td>Detroit Pistons</td>\n      <td>4.0</td>\n      <td>4.0</td>\n      <td>0.0</td>\n      <td>0.0</td>\n      <td>0.0</td>\n    </tr>\n    <tr>\n      <th>7</th>\n      <td>D Wright</td>\n      <td>Detroit Pistons</td>\n      <td>7.0</td>\n      <td>2.0</td>\n      <td>5.0</td>\n      <td>0.0</td>\n      <td>0.0</td>\n    </tr>\n    <tr>\n      <th>10</th>\n      <td>J Grant</td>\n      <td>Detroit Pistons</td>\n      <td>12.0</td>\n      <td>3.0</td>\n      <td>9.0</td>\n      <td>0.0</td>\n      <td>0.0</td>\n    </tr>\n    <tr>\n      <th>11</th>\n      <td>J Jackson</td>\n      <td>Detroit Pistons</td>\n      <td>4.0</td>\n      <td>2.0</td>\n      <td>2.0</td>\n      <td>0.0</td>\n      <td>0.0</td>\n    </tr>\n    <tr>\n      <th>12</th>\n      <td>M Plumlee</td>\n      <td>Detroit Pistons</td>\n      <td>9.0</td>\n      <td>6.0</td>\n      <td>3.0</td>\n      <td>0.0</td>\n      <td>0.0</td>\n    </tr>\n    <tr>\n      <th>13</th>\n      <td>S Bey</td>\n      <td>Detroit Pistons</td>\n      <td>5.0</td>\n      <td>5.0</td>\n      <td>0.0</td>\n      <td>0.0</td>\n      <td>0.0</td>\n    </tr>\n    <tr>\n      <th>14</th>\n      <td>S Doumbouya</td>\n      <td>Detroit Pistons</td>\n      <td>4.0</td>\n      <td>2.0</td>\n      <td>2.0</td>\n      <td>0.0</td>\n      <td>0.0</td>\n    </tr>\n    <tr>\n      <th>16</th>\n      <td>W Ellington</td>\n      <td>Detroit Pistons</td>\n      <td>11.0</td>\n      <td>4.0</td>\n      <td>7.0</td>\n      <td>0.0</td>\n      <td>0.0</td>\n    </tr>\n  </tbody>\n</table>\n</div>"
     },
     "execution_count": 166,
     "metadata": {},
     "output_type": "execute_result"
    }
   ],
   "source": [
    "grouped['team'] = grouped['team'].astype(order)\n",
    "grouped.sort_values('team', inplace=True)"
   ],
   "metadata": {
    "collapsed": false,
    "pycharm": {
     "name": "#%%\n"
    }
   }
  },
  {
   "cell_type": "code",
   "execution_count": 167,
   "outputs": [],
   "source": [
    "grouped['site'] = grouped['team'].apply(lambda x: 1 if x == home else ( 0 if x == away else x))\n"
   ],
   "metadata": {
    "collapsed": false,
    "pycharm": {
     "name": "#%%\n"
    }
   }
  },
  {
   "cell_type": "code",
   "execution_count": 168,
   "outputs": [
    {
     "data": {
      "text/plain": "         player                 team  points    1    2    3    4 site\n0    A Drummond  Cleveland Cavaliers    12.0  7.0  5.0  0.0  0.0    0\n1       C Osman  Cleveland Cavaliers     3.0  0.0  3.0  0.0  0.0    0\n2      C Sexton  Cleveland Cavaliers    16.0  8.0  8.0  0.0  0.0    0\n3      D Dotson  Cleveland Cavaliers     2.0  0.0  2.0  0.0  0.0    0\n4     D Garland  Cleveland Cavaliers     9.0  9.0  0.0  0.0  0.0    0\n5        D Rose      Detroit Pistons     4.0  4.0  0.0  0.0  0.0    1\n6     D Windler  Cleveland Cavaliers     2.0  0.0  2.0  0.0  0.0    0\n7      D Wright      Detroit Pistons     7.0  2.0  5.0  0.0  0.0    1\n8       I Okoro  Cleveland Cavaliers     2.0  2.0  0.0  0.0  0.0    0\n9       J Allen  Cleveland Cavaliers     4.0  2.0  2.0  0.0  0.0    0\n10      J Grant      Detroit Pistons    12.0  3.0  9.0  0.0  0.0    1\n11    J Jackson      Detroit Pistons     4.0  2.0  2.0  0.0  0.0    1\n12    M Plumlee      Detroit Pistons     9.0  6.0  3.0  0.0  0.0    1\n13        S Bey      Detroit Pistons     5.0  5.0  0.0  0.0  0.0    1\n14  S Doumbouya      Detroit Pistons     4.0  2.0  2.0  0.0  0.0    1\n15     T Prince  Cleveland Cavaliers     4.0  4.0  0.0  0.0  0.0    0\n16  W Ellington      Detroit Pistons    11.0  4.0  7.0  0.0  0.0    1",
      "text/html": "<div>\n<style scoped>\n    .dataframe tbody tr th:only-of-type {\n        vertical-align: middle;\n    }\n\n    .dataframe tbody tr th {\n        vertical-align: top;\n    }\n\n    .dataframe thead th {\n        text-align: right;\n    }\n</style>\n<table border=\"1\" class=\"dataframe\">\n  <thead>\n    <tr style=\"text-align: right;\">\n      <th></th>\n      <th>player</th>\n      <th>team</th>\n      <th>points</th>\n      <th>1</th>\n      <th>2</th>\n      <th>3</th>\n      <th>4</th>\n      <th>site</th>\n    </tr>\n  </thead>\n  <tbody>\n    <tr>\n      <th>0</th>\n      <td>A Drummond</td>\n      <td>Cleveland Cavaliers</td>\n      <td>12.0</td>\n      <td>7.0</td>\n      <td>5.0</td>\n      <td>0.0</td>\n      <td>0.0</td>\n      <td>0</td>\n    </tr>\n    <tr>\n      <th>1</th>\n      <td>C Osman</td>\n      <td>Cleveland Cavaliers</td>\n      <td>3.0</td>\n      <td>0.0</td>\n      <td>3.0</td>\n      <td>0.0</td>\n      <td>0.0</td>\n      <td>0</td>\n    </tr>\n    <tr>\n      <th>2</th>\n      <td>C Sexton</td>\n      <td>Cleveland Cavaliers</td>\n      <td>16.0</td>\n      <td>8.0</td>\n      <td>8.0</td>\n      <td>0.0</td>\n      <td>0.0</td>\n      <td>0</td>\n    </tr>\n    <tr>\n      <th>3</th>\n      <td>D Dotson</td>\n      <td>Cleveland Cavaliers</td>\n      <td>2.0</td>\n      <td>0.0</td>\n      <td>2.0</td>\n      <td>0.0</td>\n      <td>0.0</td>\n      <td>0</td>\n    </tr>\n    <tr>\n      <th>4</th>\n      <td>D Garland</td>\n      <td>Cleveland Cavaliers</td>\n      <td>9.0</td>\n      <td>9.0</td>\n      <td>0.0</td>\n      <td>0.0</td>\n      <td>0.0</td>\n      <td>0</td>\n    </tr>\n    <tr>\n      <th>5</th>\n      <td>D Rose</td>\n      <td>Detroit Pistons</td>\n      <td>4.0</td>\n      <td>4.0</td>\n      <td>0.0</td>\n      <td>0.0</td>\n      <td>0.0</td>\n      <td>1</td>\n    </tr>\n    <tr>\n      <th>6</th>\n      <td>D Windler</td>\n      <td>Cleveland Cavaliers</td>\n      <td>2.0</td>\n      <td>0.0</td>\n      <td>2.0</td>\n      <td>0.0</td>\n      <td>0.0</td>\n      <td>0</td>\n    </tr>\n    <tr>\n      <th>7</th>\n      <td>D Wright</td>\n      <td>Detroit Pistons</td>\n      <td>7.0</td>\n      <td>2.0</td>\n      <td>5.0</td>\n      <td>0.0</td>\n      <td>0.0</td>\n      <td>1</td>\n    </tr>\n    <tr>\n      <th>8</th>\n      <td>I Okoro</td>\n      <td>Cleveland Cavaliers</td>\n      <td>2.0</td>\n      <td>2.0</td>\n      <td>0.0</td>\n      <td>0.0</td>\n      <td>0.0</td>\n      <td>0</td>\n    </tr>\n    <tr>\n      <th>9</th>\n      <td>J Allen</td>\n      <td>Cleveland Cavaliers</td>\n      <td>4.0</td>\n      <td>2.0</td>\n      <td>2.0</td>\n      <td>0.0</td>\n      <td>0.0</td>\n      <td>0</td>\n    </tr>\n    <tr>\n      <th>10</th>\n      <td>J Grant</td>\n      <td>Detroit Pistons</td>\n      <td>12.0</td>\n      <td>3.0</td>\n      <td>9.0</td>\n      <td>0.0</td>\n      <td>0.0</td>\n      <td>1</td>\n    </tr>\n    <tr>\n      <th>11</th>\n      <td>J Jackson</td>\n      <td>Detroit Pistons</td>\n      <td>4.0</td>\n      <td>2.0</td>\n      <td>2.0</td>\n      <td>0.0</td>\n      <td>0.0</td>\n      <td>1</td>\n    </tr>\n    <tr>\n      <th>12</th>\n      <td>M Plumlee</td>\n      <td>Detroit Pistons</td>\n      <td>9.0</td>\n      <td>6.0</td>\n      <td>3.0</td>\n      <td>0.0</td>\n      <td>0.0</td>\n      <td>1</td>\n    </tr>\n    <tr>\n      <th>13</th>\n      <td>S Bey</td>\n      <td>Detroit Pistons</td>\n      <td>5.0</td>\n      <td>5.0</td>\n      <td>0.0</td>\n      <td>0.0</td>\n      <td>0.0</td>\n      <td>1</td>\n    </tr>\n    <tr>\n      <th>14</th>\n      <td>S Doumbouya</td>\n      <td>Detroit Pistons</td>\n      <td>4.0</td>\n      <td>2.0</td>\n      <td>2.0</td>\n      <td>0.0</td>\n      <td>0.0</td>\n      <td>1</td>\n    </tr>\n    <tr>\n      <th>15</th>\n      <td>T Prince</td>\n      <td>Cleveland Cavaliers</td>\n      <td>4.0</td>\n      <td>4.0</td>\n      <td>0.0</td>\n      <td>0.0</td>\n      <td>0.0</td>\n      <td>0</td>\n    </tr>\n    <tr>\n      <th>16</th>\n      <td>W Ellington</td>\n      <td>Detroit Pistons</td>\n      <td>11.0</td>\n      <td>4.0</td>\n      <td>7.0</td>\n      <td>0.0</td>\n      <td>0.0</td>\n      <td>1</td>\n    </tr>\n  </tbody>\n</table>\n</div>"
     },
     "execution_count": 168,
     "metadata": {},
     "output_type": "execute_result"
    }
   ],
   "source": [
    "grouped"
   ],
   "metadata": {
    "collapsed": false,
    "pycharm": {
     "name": "#%%\n"
    }
   }
  },
  {
   "cell_type": "code",
   "execution_count": 4,
   "outputs": [
    {
     "data": {
      "text/plain": "    Unnamed: 0             player              team  points   1  2  site\n0            8   Hassan Whiteside  Sacramento Kings      12   6  6     0\n1            1        Buddy Hield  Sacramento Kings      10   4  6     0\n2            3        Cory Joseph  Sacramento Kings       6   3  3     0\n3            4       De'Aaron Fox  Sacramento Kings      12   5  7     0\n4           13     Richaun Holmes  Sacramento Kings       3   0  3     0\n5            7    Harrison Barnes  Sacramento Kings      15  13  2     0\n6           15  Tyrese Haliburton  Sacramento Kings       3   0  3     0\n7           10  Marvin Bagley III  Sacramento Kings       7   5  2     0\n8           14      Terence Davis   Toronto Raptors      10   2  8     1\n9           12      Pascal Siakam   Toronto Raptors      17   9  8     1\n10          11        Matt Thomas   Toronto Raptors       5   0  5     1\n11           0        Aron Baynes   Toronto Raptors       6   6  0     1\n12           6      Fred VanVleet   Toronto Raptors       7   3  4     1\n13           5    DeAndre' Bembry   Toronto Raptors       2   0  2     1\n14           2      Chris Boucher   Toronto Raptors       4   2  2     1\n15           9         Kyle Lowry   Toronto Raptors       4   2  2     1\n16          16      Yuta Watanabe   Toronto Raptors       3   0  3     1",
      "text/html": "<div>\n<style scoped>\n    .dataframe tbody tr th:only-of-type {\n        vertical-align: middle;\n    }\n\n    .dataframe tbody tr th {\n        vertical-align: top;\n    }\n\n    .dataframe thead th {\n        text-align: right;\n    }\n</style>\n<table border=\"1\" class=\"dataframe\">\n  <thead>\n    <tr style=\"text-align: right;\">\n      <th></th>\n      <th>Unnamed: 0</th>\n      <th>player</th>\n      <th>team</th>\n      <th>points</th>\n      <th>1</th>\n      <th>2</th>\n      <th>site</th>\n    </tr>\n  </thead>\n  <tbody>\n    <tr>\n      <th>0</th>\n      <td>8</td>\n      <td>Hassan Whiteside</td>\n      <td>Sacramento Kings</td>\n      <td>12</td>\n      <td>6</td>\n      <td>6</td>\n      <td>0</td>\n    </tr>\n    <tr>\n      <th>1</th>\n      <td>1</td>\n      <td>Buddy Hield</td>\n      <td>Sacramento Kings</td>\n      <td>10</td>\n      <td>4</td>\n      <td>6</td>\n      <td>0</td>\n    </tr>\n    <tr>\n      <th>2</th>\n      <td>3</td>\n      <td>Cory Joseph</td>\n      <td>Sacramento Kings</td>\n      <td>6</td>\n      <td>3</td>\n      <td>3</td>\n      <td>0</td>\n    </tr>\n    <tr>\n      <th>3</th>\n      <td>4</td>\n      <td>De'Aaron Fox</td>\n      <td>Sacramento Kings</td>\n      <td>12</td>\n      <td>5</td>\n      <td>7</td>\n      <td>0</td>\n    </tr>\n    <tr>\n      <th>4</th>\n      <td>13</td>\n      <td>Richaun Holmes</td>\n      <td>Sacramento Kings</td>\n      <td>3</td>\n      <td>0</td>\n      <td>3</td>\n      <td>0</td>\n    </tr>\n    <tr>\n      <th>5</th>\n      <td>7</td>\n      <td>Harrison Barnes</td>\n      <td>Sacramento Kings</td>\n      <td>15</td>\n      <td>13</td>\n      <td>2</td>\n      <td>0</td>\n    </tr>\n    <tr>\n      <th>6</th>\n      <td>15</td>\n      <td>Tyrese Haliburton</td>\n      <td>Sacramento Kings</td>\n      <td>3</td>\n      <td>0</td>\n      <td>3</td>\n      <td>0</td>\n    </tr>\n    <tr>\n      <th>7</th>\n      <td>10</td>\n      <td>Marvin Bagley III</td>\n      <td>Sacramento Kings</td>\n      <td>7</td>\n      <td>5</td>\n      <td>2</td>\n      <td>0</td>\n    </tr>\n    <tr>\n      <th>8</th>\n      <td>14</td>\n      <td>Terence Davis</td>\n      <td>Toronto Raptors</td>\n      <td>10</td>\n      <td>2</td>\n      <td>8</td>\n      <td>1</td>\n    </tr>\n    <tr>\n      <th>9</th>\n      <td>12</td>\n      <td>Pascal Siakam</td>\n      <td>Toronto Raptors</td>\n      <td>17</td>\n      <td>9</td>\n      <td>8</td>\n      <td>1</td>\n    </tr>\n    <tr>\n      <th>10</th>\n      <td>11</td>\n      <td>Matt Thomas</td>\n      <td>Toronto Raptors</td>\n      <td>5</td>\n      <td>0</td>\n      <td>5</td>\n      <td>1</td>\n    </tr>\n    <tr>\n      <th>11</th>\n      <td>0</td>\n      <td>Aron Baynes</td>\n      <td>Toronto Raptors</td>\n      <td>6</td>\n      <td>6</td>\n      <td>0</td>\n      <td>1</td>\n    </tr>\n    <tr>\n      <th>12</th>\n      <td>6</td>\n      <td>Fred VanVleet</td>\n      <td>Toronto Raptors</td>\n      <td>7</td>\n      <td>3</td>\n      <td>4</td>\n      <td>1</td>\n    </tr>\n    <tr>\n      <th>13</th>\n      <td>5</td>\n      <td>DeAndre' Bembry</td>\n      <td>Toronto Raptors</td>\n      <td>2</td>\n      <td>0</td>\n      <td>2</td>\n      <td>1</td>\n    </tr>\n    <tr>\n      <th>14</th>\n      <td>2</td>\n      <td>Chris Boucher</td>\n      <td>Toronto Raptors</td>\n      <td>4</td>\n      <td>2</td>\n      <td>2</td>\n      <td>1</td>\n    </tr>\n    <tr>\n      <th>15</th>\n      <td>9</td>\n      <td>Kyle Lowry</td>\n      <td>Toronto Raptors</td>\n      <td>4</td>\n      <td>2</td>\n      <td>2</td>\n      <td>1</td>\n    </tr>\n    <tr>\n      <th>16</th>\n      <td>16</td>\n      <td>Yuta Watanabe</td>\n      <td>Toronto Raptors</td>\n      <td>3</td>\n      <td>0</td>\n      <td>3</td>\n      <td>1</td>\n    </tr>\n  </tbody>\n</table>\n</div>"
     },
     "execution_count": 4,
     "metadata": {},
     "output_type": "execute_result"
    }
   ],
   "source": [
    "import pandas as pd\n",
    "g2 = pd.read_csv('g2.csv')\n",
    "g2"
   ],
   "metadata": {
    "collapsed": false,
    "pycharm": {
     "name": "#%%\n"
    }
   }
  },
  {
   "cell_type": "code",
   "execution_count": 5,
   "outputs": [
    {
     "data": {
      "text/plain": "['Hassan Whiteside', 'Sacramento Kings', 12, 6, 6, 0]"
     },
     "execution_count": 5,
     "metadata": {},
     "output_type": "execute_result"
    }
   ],
   "source": [
    "g2.drop(g2.columns[0], axis=1, inplace=True)\n",
    "g2.iloc[0].to_list()"
   ],
   "metadata": {
    "collapsed": false,
    "pycharm": {
     "name": "#%%\n"
    }
   }
  },
  {
   "cell_type": "code",
   "execution_count": 6,
   "outputs": [
    {
     "data": {
      "text/plain": "               player              team  points   1  2  site\n0    Hassan Whiteside  Sacramento Kings      12   6  6     0\n1         Buddy Hield  Sacramento Kings      10   4  6     0\n2         Cory Joseph  Sacramento Kings       6   3  3     0\n3        De'Aaron Fox  Sacramento Kings      12   5  7     0\n4      Richaun Holmes  Sacramento Kings       3   0  3     0\n5     Harrison Barnes  Sacramento Kings      15  13  2     0\n6   Tyrese Haliburton  Sacramento Kings       3   0  3     0\n7   Marvin Bagley III  Sacramento Kings       7   5  2     0\n8       Terence Davis   Toronto Raptors      10   2  8     1\n9       Pascal Siakam   Toronto Raptors      17   9  8     1\n10        Matt Thomas   Toronto Raptors       5   0  5     1\n11        Aron Baynes   Toronto Raptors       6   6  0     1\n12      Fred VanVleet   Toronto Raptors       7   3  4     1\n13    DeAndre' Bembry   Toronto Raptors       2   0  2     1\n14      Chris Boucher   Toronto Raptors       4   2  2     1\n15         Kyle Lowry   Toronto Raptors       4   2  2     1\n16      Yuta Watanabe   Toronto Raptors       3   0  3     1",
      "text/html": "<div>\n<style scoped>\n    .dataframe tbody tr th:only-of-type {\n        vertical-align: middle;\n    }\n\n    .dataframe tbody tr th {\n        vertical-align: top;\n    }\n\n    .dataframe thead th {\n        text-align: right;\n    }\n</style>\n<table border=\"1\" class=\"dataframe\">\n  <thead>\n    <tr style=\"text-align: right;\">\n      <th></th>\n      <th>player</th>\n      <th>team</th>\n      <th>points</th>\n      <th>1</th>\n      <th>2</th>\n      <th>site</th>\n    </tr>\n  </thead>\n  <tbody>\n    <tr>\n      <th>0</th>\n      <td>Hassan Whiteside</td>\n      <td>Sacramento Kings</td>\n      <td>12</td>\n      <td>6</td>\n      <td>6</td>\n      <td>0</td>\n    </tr>\n    <tr>\n      <th>1</th>\n      <td>Buddy Hield</td>\n      <td>Sacramento Kings</td>\n      <td>10</td>\n      <td>4</td>\n      <td>6</td>\n      <td>0</td>\n    </tr>\n    <tr>\n      <th>2</th>\n      <td>Cory Joseph</td>\n      <td>Sacramento Kings</td>\n      <td>6</td>\n      <td>3</td>\n      <td>3</td>\n      <td>0</td>\n    </tr>\n    <tr>\n      <th>3</th>\n      <td>De'Aaron Fox</td>\n      <td>Sacramento Kings</td>\n      <td>12</td>\n      <td>5</td>\n      <td>7</td>\n      <td>0</td>\n    </tr>\n    <tr>\n      <th>4</th>\n      <td>Richaun Holmes</td>\n      <td>Sacramento Kings</td>\n      <td>3</td>\n      <td>0</td>\n      <td>3</td>\n      <td>0</td>\n    </tr>\n    <tr>\n      <th>5</th>\n      <td>Harrison Barnes</td>\n      <td>Sacramento Kings</td>\n      <td>15</td>\n      <td>13</td>\n      <td>2</td>\n      <td>0</td>\n    </tr>\n    <tr>\n      <th>6</th>\n      <td>Tyrese Haliburton</td>\n      <td>Sacramento Kings</td>\n      <td>3</td>\n      <td>0</td>\n      <td>3</td>\n      <td>0</td>\n    </tr>\n    <tr>\n      <th>7</th>\n      <td>Marvin Bagley III</td>\n      <td>Sacramento Kings</td>\n      <td>7</td>\n      <td>5</td>\n      <td>2</td>\n      <td>0</td>\n    </tr>\n    <tr>\n      <th>8</th>\n      <td>Terence Davis</td>\n      <td>Toronto Raptors</td>\n      <td>10</td>\n      <td>2</td>\n      <td>8</td>\n      <td>1</td>\n    </tr>\n    <tr>\n      <th>9</th>\n      <td>Pascal Siakam</td>\n      <td>Toronto Raptors</td>\n      <td>17</td>\n      <td>9</td>\n      <td>8</td>\n      <td>1</td>\n    </tr>\n    <tr>\n      <th>10</th>\n      <td>Matt Thomas</td>\n      <td>Toronto Raptors</td>\n      <td>5</td>\n      <td>0</td>\n      <td>5</td>\n      <td>1</td>\n    </tr>\n    <tr>\n      <th>11</th>\n      <td>Aron Baynes</td>\n      <td>Toronto Raptors</td>\n      <td>6</td>\n      <td>6</td>\n      <td>0</td>\n      <td>1</td>\n    </tr>\n    <tr>\n      <th>12</th>\n      <td>Fred VanVleet</td>\n      <td>Toronto Raptors</td>\n      <td>7</td>\n      <td>3</td>\n      <td>4</td>\n      <td>1</td>\n    </tr>\n    <tr>\n      <th>13</th>\n      <td>DeAndre' Bembry</td>\n      <td>Toronto Raptors</td>\n      <td>2</td>\n      <td>0</td>\n      <td>2</td>\n      <td>1</td>\n    </tr>\n    <tr>\n      <th>14</th>\n      <td>Chris Boucher</td>\n      <td>Toronto Raptors</td>\n      <td>4</td>\n      <td>2</td>\n      <td>2</td>\n      <td>1</td>\n    </tr>\n    <tr>\n      <th>15</th>\n      <td>Kyle Lowry</td>\n      <td>Toronto Raptors</td>\n      <td>4</td>\n      <td>2</td>\n      <td>2</td>\n      <td>1</td>\n    </tr>\n    <tr>\n      <th>16</th>\n      <td>Yuta Watanabe</td>\n      <td>Toronto Raptors</td>\n      <td>3</td>\n      <td>0</td>\n      <td>3</td>\n      <td>1</td>\n    </tr>\n  </tbody>\n</table>\n</div>"
     },
     "execution_count": 6,
     "metadata": {},
     "output_type": "execute_result"
    }
   ],
   "source": [
    "g2"
   ],
   "metadata": {
    "collapsed": false,
    "pycharm": {
     "name": "#%%\n"
    }
   }
  },
  {
   "cell_type": "code",
   "execution_count": 7,
   "outputs": [
    {
     "data": {
      "text/plain": "'Hassan Whiteside'"
     },
     "execution_count": 7,
     "metadata": {},
     "output_type": "execute_result"
    }
   ],
   "source": [
    "g2['player'].iloc[0]"
   ],
   "metadata": {
    "collapsed": false,
    "pycharm": {
     "name": "#%%\n"
    }
   }
  },
  {
   "cell_type": "code",
   "execution_count": 8,
   "outputs": [
    {
     "data": {
      "text/plain": "    index             player              team  points   1  2  site\n0       0   Hassan Whiteside  Sacramento Kings      12   6  6     0\n1       1        Buddy Hield  Sacramento Kings      10   4  6     0\n2       2        Cory Joseph  Sacramento Kings       6   3  3     0\n3       3       De'Aaron Fox  Sacramento Kings      12   5  7     0\n4       4     Richaun Holmes  Sacramento Kings       3   0  3     0\n5       5    Harrison Barnes  Sacramento Kings      15  13  2     0\n6       6  Tyrese Haliburton  Sacramento Kings       3   0  3     0\n7       7  Marvin Bagley III  Sacramento Kings       7   5  2     0\n8       8      Terence Davis   Toronto Raptors      10   2  8     1\n9       9      Pascal Siakam   Toronto Raptors      17   9  8     1\n10     10        Matt Thomas   Toronto Raptors       5   0  5     1\n11     11        Aron Baynes   Toronto Raptors       6   6  0     1\n12     12      Fred VanVleet   Toronto Raptors       7   3  4     1\n13     13    DeAndre' Bembry   Toronto Raptors       2   0  2     1\n14     14      Chris Boucher   Toronto Raptors       4   2  2     1\n15     15         Kyle Lowry   Toronto Raptors       4   2  2     1\n16     16      Yuta Watanabe   Toronto Raptors       3   0  3     1",
      "text/html": "<div>\n<style scoped>\n    .dataframe tbody tr th:only-of-type {\n        vertical-align: middle;\n    }\n\n    .dataframe tbody tr th {\n        vertical-align: top;\n    }\n\n    .dataframe thead th {\n        text-align: right;\n    }\n</style>\n<table border=\"1\" class=\"dataframe\">\n  <thead>\n    <tr style=\"text-align: right;\">\n      <th></th>\n      <th>index</th>\n      <th>player</th>\n      <th>team</th>\n      <th>points</th>\n      <th>1</th>\n      <th>2</th>\n      <th>site</th>\n    </tr>\n  </thead>\n  <tbody>\n    <tr>\n      <th>0</th>\n      <td>0</td>\n      <td>Hassan Whiteside</td>\n      <td>Sacramento Kings</td>\n      <td>12</td>\n      <td>6</td>\n      <td>6</td>\n      <td>0</td>\n    </tr>\n    <tr>\n      <th>1</th>\n      <td>1</td>\n      <td>Buddy Hield</td>\n      <td>Sacramento Kings</td>\n      <td>10</td>\n      <td>4</td>\n      <td>6</td>\n      <td>0</td>\n    </tr>\n    <tr>\n      <th>2</th>\n      <td>2</td>\n      <td>Cory Joseph</td>\n      <td>Sacramento Kings</td>\n      <td>6</td>\n      <td>3</td>\n      <td>3</td>\n      <td>0</td>\n    </tr>\n    <tr>\n      <th>3</th>\n      <td>3</td>\n      <td>De'Aaron Fox</td>\n      <td>Sacramento Kings</td>\n      <td>12</td>\n      <td>5</td>\n      <td>7</td>\n      <td>0</td>\n    </tr>\n    <tr>\n      <th>4</th>\n      <td>4</td>\n      <td>Richaun Holmes</td>\n      <td>Sacramento Kings</td>\n      <td>3</td>\n      <td>0</td>\n      <td>3</td>\n      <td>0</td>\n    </tr>\n    <tr>\n      <th>5</th>\n      <td>5</td>\n      <td>Harrison Barnes</td>\n      <td>Sacramento Kings</td>\n      <td>15</td>\n      <td>13</td>\n      <td>2</td>\n      <td>0</td>\n    </tr>\n    <tr>\n      <th>6</th>\n      <td>6</td>\n      <td>Tyrese Haliburton</td>\n      <td>Sacramento Kings</td>\n      <td>3</td>\n      <td>0</td>\n      <td>3</td>\n      <td>0</td>\n    </tr>\n    <tr>\n      <th>7</th>\n      <td>7</td>\n      <td>Marvin Bagley III</td>\n      <td>Sacramento Kings</td>\n      <td>7</td>\n      <td>5</td>\n      <td>2</td>\n      <td>0</td>\n    </tr>\n    <tr>\n      <th>8</th>\n      <td>8</td>\n      <td>Terence Davis</td>\n      <td>Toronto Raptors</td>\n      <td>10</td>\n      <td>2</td>\n      <td>8</td>\n      <td>1</td>\n    </tr>\n    <tr>\n      <th>9</th>\n      <td>9</td>\n      <td>Pascal Siakam</td>\n      <td>Toronto Raptors</td>\n      <td>17</td>\n      <td>9</td>\n      <td>8</td>\n      <td>1</td>\n    </tr>\n    <tr>\n      <th>10</th>\n      <td>10</td>\n      <td>Matt Thomas</td>\n      <td>Toronto Raptors</td>\n      <td>5</td>\n      <td>0</td>\n      <td>5</td>\n      <td>1</td>\n    </tr>\n    <tr>\n      <th>11</th>\n      <td>11</td>\n      <td>Aron Baynes</td>\n      <td>Toronto Raptors</td>\n      <td>6</td>\n      <td>6</td>\n      <td>0</td>\n      <td>1</td>\n    </tr>\n    <tr>\n      <th>12</th>\n      <td>12</td>\n      <td>Fred VanVleet</td>\n      <td>Toronto Raptors</td>\n      <td>7</td>\n      <td>3</td>\n      <td>4</td>\n      <td>1</td>\n    </tr>\n    <tr>\n      <th>13</th>\n      <td>13</td>\n      <td>DeAndre' Bembry</td>\n      <td>Toronto Raptors</td>\n      <td>2</td>\n      <td>0</td>\n      <td>2</td>\n      <td>1</td>\n    </tr>\n    <tr>\n      <th>14</th>\n      <td>14</td>\n      <td>Chris Boucher</td>\n      <td>Toronto Raptors</td>\n      <td>4</td>\n      <td>2</td>\n      <td>2</td>\n      <td>1</td>\n    </tr>\n    <tr>\n      <th>15</th>\n      <td>15</td>\n      <td>Kyle Lowry</td>\n      <td>Toronto Raptors</td>\n      <td>4</td>\n      <td>2</td>\n      <td>2</td>\n      <td>1</td>\n    </tr>\n    <tr>\n      <th>16</th>\n      <td>16</td>\n      <td>Yuta Watanabe</td>\n      <td>Toronto Raptors</td>\n      <td>3</td>\n      <td>0</td>\n      <td>3</td>\n      <td>1</td>\n    </tr>\n  </tbody>\n</table>\n</div>"
     },
     "execution_count": 8,
     "metadata": {},
     "output_type": "execute_result"
    }
   ],
   "source": [
    "g2.reset_index()"
   ],
   "metadata": {
    "collapsed": false,
    "pycharm": {
     "name": "#%%\n"
    }
   }
  },
  {
   "cell_type": "code",
   "execution_count": 1,
   "outputs": [],
   "source": [
    "from selenium import webdriver, common\n",
    "from selenium.webdriver.firefox.options import Options\n",
    "driver = webdriver.Firefox()\n",
    "driver.get('https://www.espn.com/mens-college-basketball/playbyplay?gameId=401265083')"
   ],
   "metadata": {
    "collapsed": false,
    "pycharm": {
     "name": "#%%\n"
    }
   }
  },
  {
   "cell_type": "code",
   "execution_count": 67,
   "outputs": [],
   "source": [
    "elements = driver.find_elements_by_class_name('accordion-header')\n",
    "for e in elements:\n",
    "    try:\n",
    "        period_accordion = e.find_element_by_class_name('collapsed')\n",
    "        if period_accordion.get_attribute('aria-expanded') == 'false':\n",
    "            period_accordion.click()\n",
    "    except common.exceptions.NoSuchElementException:\n",
    "        pass"
   ],
   "metadata": {
    "collapsed": false,
    "pycharm": {
     "name": "#%%\n"
    }
   }
  },
  {
   "cell_type": "code",
   "execution_count": 10,
   "outputs": [
    {
     "data": {
      "text/plain": "             player              team  points  1  2  site\n0  Hassan Whiteside  Sacramento Kings      12  6  6     0",
      "text/html": "<div>\n<style scoped>\n    .dataframe tbody tr th:only-of-type {\n        vertical-align: middle;\n    }\n\n    .dataframe tbody tr th {\n        vertical-align: top;\n    }\n\n    .dataframe thead th {\n        text-align: right;\n    }\n</style>\n<table border=\"1\" class=\"dataframe\">\n  <thead>\n    <tr style=\"text-align: right;\">\n      <th></th>\n      <th>player</th>\n      <th>team</th>\n      <th>points</th>\n      <th>1</th>\n      <th>2</th>\n      <th>site</th>\n    </tr>\n  </thead>\n  <tbody>\n    <tr>\n      <th>0</th>\n      <td>Hassan Whiteside</td>\n      <td>Sacramento Kings</td>\n      <td>12</td>\n      <td>6</td>\n      <td>6</td>\n      <td>0</td>\n    </tr>\n  </tbody>\n</table>\n</div>"
     },
     "execution_count": 10,
     "metadata": {},
     "output_type": "execute_result"
    }
   ],
   "source": [
    "g2[g2['player'] == 'Hassan Whiteside']"
   ],
   "metadata": {
    "collapsed": false,
    "pycharm": {
     "name": "#%%"
    }
   }
  },
  {
   "cell_type": "code",
   "execution_count": null,
   "outputs": [],
   "source": [],
   "metadata": {
    "collapsed": false,
    "pycharm": {
     "name": "#%%\n"
    }
   }
  }
 ],
 "metadata": {
  "kernelspec": {
   "display_name": "Python 3",
   "language": "python",
   "name": "python3"
  },
  "language_info": {
   "codemirror_mode": {
    "name": "ipython",
    "version": 2
   },
   "file_extension": ".py",
   "mimetype": "text/x-python",
   "name": "python",
   "nbconvert_exporter": "python",
   "pygments_lexer": "ipython2",
   "version": "2.7.6"
  }
 },
 "nbformat": 4,
 "nbformat_minor": 0
}