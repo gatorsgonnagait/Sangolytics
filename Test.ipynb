{
 "cells": [
  {
   "cell_type": "code",
   "execution_count": 126,
   "outputs": [],
   "source": [
    "import pandas as pd\n",
    "import Constants as c\n",
    "import numpy as np\n",
    "away = 'Los Angeles Lakers'\n",
    "home = 'Miami Heat'\n",
    "current_period = 4"
   ],
   "metadata": {
    "collapsed": false,
    "pycharm": {
     "name": "#%%\n"
    }
   }
  },
  {
   "cell_type": "code",
   "execution_count": 166,
   "outputs": [],
   "source": [
    "score_by_q = pd.read_csv('score_by_q_Los Angeles Lakers_Miami Heat.csv')"
   ],
   "metadata": {
    "collapsed": false,
    "pycharm": {
     "name": "#%%\n"
    }
   }
  },
  {
   "cell_type": "code",
   "execution_count": 168,
   "outputs": [
    {
     "name": "stdout",
     "output_type": "stream",
     "text": [
      "Bam Adebayo\n",
      "['Miami Heat']\n",
      "Andre Drummond\n",
      "['Los Angeles Lakers']\n",
      "Wesley Matthews\n",
      "['Los Angeles Lakers']\n",
      "Jimmy Butler\n",
      "['Miami Heat']\n",
      "Markieff Morris\n",
      "['Los Angeles Lakers']\n",
      "Kentavious Caldwell-Pope\n",
      "['Los Angeles Lakers']\n",
      "Duncan Robinson\n",
      "['Miami Heat']\n",
      "Dennis Schroder\n",
      "['Los Angeles Lakers']\n",
      "Tyler Herro\n",
      "['Miami Heat']\n",
      "Victor Oladipo\n",
      "['Miami Heat']\n",
      "Andre Iguodala\n",
      "[]\n"
     ]
    },
    {
     "ename": "IndexError",
     "evalue": "index 0 is out of bounds for axis 0 with size 0",
     "output_type": "error",
     "traceback": [
      "\u001B[1;31m---------------------------------------------------------------------------\u001B[0m",
      "\u001B[1;31mIndexError\u001B[0m                                Traceback (most recent call last)",
      "\u001B[1;32m<ipython-input-168-a33480db9046>\u001B[0m in \u001B[0;36m<module>\u001B[1;34m\u001B[0m\n\u001B[0;32m      2\u001B[0m     \u001B[0mprint\u001B[0m\u001B[1;33m(\u001B[0m\u001B[0mplayer\u001B[0m\u001B[1;33m)\u001B[0m\u001B[1;33m\u001B[0m\u001B[1;33m\u001B[0m\u001B[0m\n\u001B[0;32m      3\u001B[0m     \u001B[0mprint\u001B[0m\u001B[1;33m(\u001B[0m\u001B[0mpd\u001B[0m\u001B[1;33m.\u001B[0m\u001B[0munique\u001B[0m\u001B[1;33m(\u001B[0m\u001B[0mscore_by_q\u001B[0m\u001B[1;33m[\u001B[0m\u001B[0mscore_by_q\u001B[0m\u001B[1;33m[\u001B[0m\u001B[1;34m'player'\u001B[0m\u001B[1;33m]\u001B[0m \u001B[1;33m==\u001B[0m \u001B[0mplayer\u001B[0m\u001B[1;33m]\u001B[0m\u001B[1;33m[\u001B[0m\u001B[1;34m'team'\u001B[0m\u001B[1;33m]\u001B[0m\u001B[1;33m.\u001B[0m\u001B[0mdropna\u001B[0m\u001B[1;33m(\u001B[0m\u001B[1;33m)\u001B[0m\u001B[1;33m)\u001B[0m\u001B[1;33m)\u001B[0m\u001B[1;33m\u001B[0m\u001B[1;33m\u001B[0m\u001B[0m\n\u001B[1;32m----> 4\u001B[1;33m     \u001B[0mteam\u001B[0m \u001B[1;33m=\u001B[0m \u001B[0mpd\u001B[0m\u001B[1;33m.\u001B[0m\u001B[0munique\u001B[0m\u001B[1;33m(\u001B[0m\u001B[0mscore_by_q\u001B[0m\u001B[1;33m[\u001B[0m\u001B[0mscore_by_q\u001B[0m\u001B[1;33m[\u001B[0m\u001B[1;34m'player'\u001B[0m\u001B[1;33m]\u001B[0m \u001B[1;33m==\u001B[0m \u001B[0mplayer\u001B[0m\u001B[1;33m]\u001B[0m\u001B[1;33m[\u001B[0m\u001B[1;34m'team'\u001B[0m\u001B[1;33m]\u001B[0m\u001B[1;33m.\u001B[0m\u001B[0mdropna\u001B[0m\u001B[1;33m(\u001B[0m\u001B[1;33m)\u001B[0m\u001B[1;33m)\u001B[0m\u001B[1;33m[\u001B[0m\u001B[1;36m0\u001B[0m\u001B[1;33m]\u001B[0m\u001B[1;33m\u001B[0m\u001B[1;33m\u001B[0m\u001B[0m\n\u001B[0m\u001B[0;32m      5\u001B[0m     \u001B[1;31m#print(team)\u001B[0m\u001B[1;33m\u001B[0m\u001B[1;33m\u001B[0m\u001B[1;33m\u001B[0m\u001B[0m\n\u001B[0;32m      6\u001B[0m     \u001B[1;31m#fill_teams = score_by_q[(score_by_q['player'] == player) & (score_by_q['team'].isna())]\u001B[0m\u001B[1;33m\u001B[0m\u001B[1;33m\u001B[0m\u001B[1;33m\u001B[0m\u001B[0m\n",
      "\u001B[1;31mIndexError\u001B[0m: index 0 is out of bounds for axis 0 with size 0"
     ]
    }
   ],
   "source": [
    "# get a list of the players on each team\n",
    "for player in pd.unique(score_by_q['player'].dropna()).tolist():\n",
    "    print(player)\n",
    "    print(pd.unique(score_by_q[score_by_q['player'] == player]['team'].dropna()))\n",
    "    team = pd.unique(score_by_q[score_by_q['player'] == player]['team'].dropna())[0]\n",
    "    #print(team)\n",
    "    #fill_teams = score_by_q[(score_by_q['player'] == player) & (score_by_q['team'].isna())]\n",
    "    #fill_teams['team'] = team\n",
    "    score_by_q.loc[(score_by_q['player'] == player) & (score_by_q['team'].isna())]= team"
   ],
   "metadata": {
    "collapsed": false,
    "pycharm": {
     "name": "#%%\n"
    }
   }
  },
  {
   "cell_type": "code",
   "execution_count": 165,
   "outputs": [
    {
     "data": {
      "text/plain": "          time_stamp     time_index same_time_count                 time  \\\n29    4 4:46 92 97 1   4 4:46 92 97               1  1900-01-01 00:04:46   \n85   4 10:01 82 90 1  4 10:01 82 90               1  1900-01-01 00:10:01   \n183   3 8:10 60 63 1   3 8:10 60 63               1  1900-01-01 00:08:10   \n204  3 10:40 58 58 1  3 10:40 58 58               1  1900-01-01 00:10:40   \n291   2 7:39 33 44 1   2 7:39 33 44               1  1900-01-01 00:07:39   \n319  2 10:18 28 37 1  2 10:18 28 37               1  1900-01-01 00:10:18   \n322  2 11:07 28 34 1  2 11:07 28 34               1  1900-01-01 00:11:07   \n422   1 7:37 10 17 2   1 7:37 10 17               2  1900-01-01 00:07:37   \n\n    period         adj_time away home total  \\\n29       4  0 days 00:43:14   92   97   189   \n85       4  0 days 00:37:59   82   90   172   \n183      3  0 days 00:27:50   60   63   123   \n204      3  0 days 00:25:20   58   58   116   \n291      2  0 days 00:16:21   33   44    77   \n319      2  0 days 00:13:42   28   37    65   \n322      2  0 days 00:12:53   28   34    62   \n422      1  0 days 00:04:23   10   17    27   \n\n                                                  play        player fg_makes  \\\n29         Jimmy Butler makes 19-foot pullup jump shot  Jimmy Butler      1.0   \n85         Jimmy Butler makes 15-foot pullup jump shot  Jimmy Butler      1.0   \n183           Jimmy Butler makes 3-foot two point shot  Jimmy Butler      1.0   \n204        Jimmy Butler makes 17-foot pullup jump shot  Jimmy Butler      1.0   \n291           Jimmy Butler makes 4-foot two point shot  Jimmy Butler      1.0   \n319  Jimmy Butler makes 23-foot three point jumper ...  Jimmy Butler      NaN   \n322  Jimmy Butler makes two point shot (Tyler Herro...  Jimmy Butler      1.0   \n422                   Jimmy Butler makes driving layup  Jimmy Butler      1.0   \n\n    fg_misses 3_makes 3_misses ft_makes ft_misses points        team  \n29        NaN     NaN      NaN      NaN       NaN    2.0  Miami Heat  \n85        NaN     NaN      NaN      NaN       NaN    2.0  Miami Heat  \n183       NaN     NaN      NaN      NaN       NaN    2.0  Miami Heat  \n204       NaN     NaN      NaN      NaN       NaN    2.0  Miami Heat  \n291       NaN     NaN      NaN      NaN       NaN    2.0  Miami Heat  \n319       NaN     1.0      NaN      NaN       NaN    3.0  Miami Heat  \n322       NaN     NaN      NaN      NaN       NaN    2.0  Miami Heat  \n422       NaN     NaN      NaN      NaN       NaN    2.0  Miami Heat  ",
      "text/html": "<div>\n<style scoped>\n    .dataframe tbody tr th:only-of-type {\n        vertical-align: middle;\n    }\n\n    .dataframe tbody tr th {\n        vertical-align: top;\n    }\n\n    .dataframe thead th {\n        text-align: right;\n    }\n</style>\n<table border=\"1\" class=\"dataframe\">\n  <thead>\n    <tr style=\"text-align: right;\">\n      <th></th>\n      <th>time_stamp</th>\n      <th>time_index</th>\n      <th>same_time_count</th>\n      <th>time</th>\n      <th>period</th>\n      <th>adj_time</th>\n      <th>away</th>\n      <th>home</th>\n      <th>total</th>\n      <th>play</th>\n      <th>player</th>\n      <th>fg_makes</th>\n      <th>fg_misses</th>\n      <th>3_makes</th>\n      <th>3_misses</th>\n      <th>ft_makes</th>\n      <th>ft_misses</th>\n      <th>points</th>\n      <th>team</th>\n    </tr>\n  </thead>\n  <tbody>\n    <tr>\n      <th>29</th>\n      <td>4 4:46 92 97 1</td>\n      <td>4 4:46 92 97</td>\n      <td>1</td>\n      <td>1900-01-01 00:04:46</td>\n      <td>4</td>\n      <td>0 days 00:43:14</td>\n      <td>92</td>\n      <td>97</td>\n      <td>189</td>\n      <td>Jimmy Butler makes 19-foot pullup jump shot</td>\n      <td>Jimmy Butler</td>\n      <td>1.0</td>\n      <td>NaN</td>\n      <td>NaN</td>\n      <td>NaN</td>\n      <td>NaN</td>\n      <td>NaN</td>\n      <td>2.0</td>\n      <td>Miami Heat</td>\n    </tr>\n    <tr>\n      <th>85</th>\n      <td>4 10:01 82 90 1</td>\n      <td>4 10:01 82 90</td>\n      <td>1</td>\n      <td>1900-01-01 00:10:01</td>\n      <td>4</td>\n      <td>0 days 00:37:59</td>\n      <td>82</td>\n      <td>90</td>\n      <td>172</td>\n      <td>Jimmy Butler makes 15-foot pullup jump shot</td>\n      <td>Jimmy Butler</td>\n      <td>1.0</td>\n      <td>NaN</td>\n      <td>NaN</td>\n      <td>NaN</td>\n      <td>NaN</td>\n      <td>NaN</td>\n      <td>2.0</td>\n      <td>Miami Heat</td>\n    </tr>\n    <tr>\n      <th>183</th>\n      <td>3 8:10 60 63 1</td>\n      <td>3 8:10 60 63</td>\n      <td>1</td>\n      <td>1900-01-01 00:08:10</td>\n      <td>3</td>\n      <td>0 days 00:27:50</td>\n      <td>60</td>\n      <td>63</td>\n      <td>123</td>\n      <td>Jimmy Butler makes 3-foot two point shot</td>\n      <td>Jimmy Butler</td>\n      <td>1.0</td>\n      <td>NaN</td>\n      <td>NaN</td>\n      <td>NaN</td>\n      <td>NaN</td>\n      <td>NaN</td>\n      <td>2.0</td>\n      <td>Miami Heat</td>\n    </tr>\n    <tr>\n      <th>204</th>\n      <td>3 10:40 58 58 1</td>\n      <td>3 10:40 58 58</td>\n      <td>1</td>\n      <td>1900-01-01 00:10:40</td>\n      <td>3</td>\n      <td>0 days 00:25:20</td>\n      <td>58</td>\n      <td>58</td>\n      <td>116</td>\n      <td>Jimmy Butler makes 17-foot pullup jump shot</td>\n      <td>Jimmy Butler</td>\n      <td>1.0</td>\n      <td>NaN</td>\n      <td>NaN</td>\n      <td>NaN</td>\n      <td>NaN</td>\n      <td>NaN</td>\n      <td>2.0</td>\n      <td>Miami Heat</td>\n    </tr>\n    <tr>\n      <th>291</th>\n      <td>2 7:39 33 44 1</td>\n      <td>2 7:39 33 44</td>\n      <td>1</td>\n      <td>1900-01-01 00:07:39</td>\n      <td>2</td>\n      <td>0 days 00:16:21</td>\n      <td>33</td>\n      <td>44</td>\n      <td>77</td>\n      <td>Jimmy Butler makes 4-foot two point shot</td>\n      <td>Jimmy Butler</td>\n      <td>1.0</td>\n      <td>NaN</td>\n      <td>NaN</td>\n      <td>NaN</td>\n      <td>NaN</td>\n      <td>NaN</td>\n      <td>2.0</td>\n      <td>Miami Heat</td>\n    </tr>\n    <tr>\n      <th>319</th>\n      <td>2 10:18 28 37 1</td>\n      <td>2 10:18 28 37</td>\n      <td>1</td>\n      <td>1900-01-01 00:10:18</td>\n      <td>2</td>\n      <td>0 days 00:13:42</td>\n      <td>28</td>\n      <td>37</td>\n      <td>65</td>\n      <td>Jimmy Butler makes 23-foot three point jumper ...</td>\n      <td>Jimmy Butler</td>\n      <td>NaN</td>\n      <td>NaN</td>\n      <td>1.0</td>\n      <td>NaN</td>\n      <td>NaN</td>\n      <td>NaN</td>\n      <td>3.0</td>\n      <td>Miami Heat</td>\n    </tr>\n    <tr>\n      <th>322</th>\n      <td>2 11:07 28 34 1</td>\n      <td>2 11:07 28 34</td>\n      <td>1</td>\n      <td>1900-01-01 00:11:07</td>\n      <td>2</td>\n      <td>0 days 00:12:53</td>\n      <td>28</td>\n      <td>34</td>\n      <td>62</td>\n      <td>Jimmy Butler makes two point shot (Tyler Herro...</td>\n      <td>Jimmy Butler</td>\n      <td>1.0</td>\n      <td>NaN</td>\n      <td>NaN</td>\n      <td>NaN</td>\n      <td>NaN</td>\n      <td>NaN</td>\n      <td>2.0</td>\n      <td>Miami Heat</td>\n    </tr>\n    <tr>\n      <th>422</th>\n      <td>1 7:37 10 17 2</td>\n      <td>1 7:37 10 17</td>\n      <td>2</td>\n      <td>1900-01-01 00:07:37</td>\n      <td>1</td>\n      <td>0 days 00:04:23</td>\n      <td>10</td>\n      <td>17</td>\n      <td>27</td>\n      <td>Jimmy Butler makes driving layup</td>\n      <td>Jimmy Butler</td>\n      <td>1.0</td>\n      <td>NaN</td>\n      <td>NaN</td>\n      <td>NaN</td>\n      <td>NaN</td>\n      <td>NaN</td>\n      <td>2.0</td>\n      <td>Miami Heat</td>\n    </tr>\n  </tbody>\n</table>\n</div>"
     },
     "execution_count": 165,
     "metadata": {},
     "output_type": "execute_result"
    }
   ],
   "source": [
    "score_by_q[score_by_q['player'] == 'Jimmy Butler']"
   ],
   "metadata": {
    "collapsed": false,
    "pycharm": {
     "name": "#%%\n"
    }
   }
  },
  {
   "cell_type": "code",
   "execution_count": 151,
   "outputs": [
    {
     "data": {
      "text/plain": "     1  2  3  4\n0    0  0  0  1\n1    0  0  0  1\n2    0  0  0  1\n3    0  0  0  1\n4    0  0  0  1\n..  .. .. .. ..\n449  1  0  0  0\n450  1  0  0  0\n451  1  0  0  0\n452  1  0  0  0\n453  1  0  0  0\n\n[454 rows x 4 columns]",
      "text/html": "<div>\n<style scoped>\n    .dataframe tbody tr th:only-of-type {\n        vertical-align: middle;\n    }\n\n    .dataframe tbody tr th {\n        vertical-align: top;\n    }\n\n    .dataframe thead th {\n        text-align: right;\n    }\n</style>\n<table border=\"1\" class=\"dataframe\">\n  <thead>\n    <tr style=\"text-align: right;\">\n      <th></th>\n      <th>1</th>\n      <th>2</th>\n      <th>3</th>\n      <th>4</th>\n    </tr>\n  </thead>\n  <tbody>\n    <tr>\n      <th>0</th>\n      <td>0</td>\n      <td>0</td>\n      <td>0</td>\n      <td>1</td>\n    </tr>\n    <tr>\n      <th>1</th>\n      <td>0</td>\n      <td>0</td>\n      <td>0</td>\n      <td>1</td>\n    </tr>\n    <tr>\n      <th>2</th>\n      <td>0</td>\n      <td>0</td>\n      <td>0</td>\n      <td>1</td>\n    </tr>\n    <tr>\n      <th>3</th>\n      <td>0</td>\n      <td>0</td>\n      <td>0</td>\n      <td>1</td>\n    </tr>\n    <tr>\n      <th>4</th>\n      <td>0</td>\n      <td>0</td>\n      <td>0</td>\n      <td>1</td>\n    </tr>\n    <tr>\n      <th>...</th>\n      <td>...</td>\n      <td>...</td>\n      <td>...</td>\n      <td>...</td>\n    </tr>\n    <tr>\n      <th>449</th>\n      <td>1</td>\n      <td>0</td>\n      <td>0</td>\n      <td>0</td>\n    </tr>\n    <tr>\n      <th>450</th>\n      <td>1</td>\n      <td>0</td>\n      <td>0</td>\n      <td>0</td>\n    </tr>\n    <tr>\n      <th>451</th>\n      <td>1</td>\n      <td>0</td>\n      <td>0</td>\n      <td>0</td>\n    </tr>\n    <tr>\n      <th>452</th>\n      <td>1</td>\n      <td>0</td>\n      <td>0</td>\n      <td>0</td>\n    </tr>\n    <tr>\n      <th>453</th>\n      <td>1</td>\n      <td>0</td>\n      <td>0</td>\n      <td>0</td>\n    </tr>\n  </tbody>\n</table>\n<p>454 rows × 4 columns</p>\n</div>"
     },
     "execution_count": 151,
     "metadata": {},
     "output_type": "execute_result"
    }
   ],
   "source": [
    "score_by_q.fillna(0, inplace=True)\n",
    "# fills with one or zeros\n",
    "one_hot = pd.get_dummies(score_by_q['period'])\n",
    "one_hot = one_hot.T.reindex(list(range(1, current_period + 1))).T.fillna(0)\n",
    "one_hot\n"
   ],
   "metadata": {
    "collapsed": false,
    "pycharm": {
     "name": "#%%\n"
    }
   }
  },
  {
   "cell_type": "code",
   "execution_count": 83,
   "outputs": [
    {
     "data": {
      "text/plain": "     1Q PTS  2Q PTS  3Q PTS  4Q PTS\n0       0.0     0.0     0.0     0.0\n1       0.0     0.0     0.0     0.0\n2       0.0     0.0     0.0     2.0\n3       0.0     0.0     0.0     0.0\n4       0.0     0.0     0.0     0.0\n..      ...     ...     ...     ...\n449     1.0     0.0     0.0     0.0\n450     0.0     0.0     0.0     0.0\n451     2.0     0.0     0.0     0.0\n452     2.0     0.0     0.0     0.0\n453     0.0     0.0     0.0     0.0\n\n[454 rows x 4 columns]",
      "text/html": "<div>\n<style scoped>\n    .dataframe tbody tr th:only-of-type {\n        vertical-align: middle;\n    }\n\n    .dataframe tbody tr th {\n        vertical-align: top;\n    }\n\n    .dataframe thead th {\n        text-align: right;\n    }\n</style>\n<table border=\"1\" class=\"dataframe\">\n  <thead>\n    <tr style=\"text-align: right;\">\n      <th></th>\n      <th>1Q PTS</th>\n      <th>2Q PTS</th>\n      <th>3Q PTS</th>\n      <th>4Q PTS</th>\n    </tr>\n  </thead>\n  <tbody>\n    <tr>\n      <th>0</th>\n      <td>0.0</td>\n      <td>0.0</td>\n      <td>0.0</td>\n      <td>0.0</td>\n    </tr>\n    <tr>\n      <th>1</th>\n      <td>0.0</td>\n      <td>0.0</td>\n      <td>0.0</td>\n      <td>0.0</td>\n    </tr>\n    <tr>\n      <th>2</th>\n      <td>0.0</td>\n      <td>0.0</td>\n      <td>0.0</td>\n      <td>2.0</td>\n    </tr>\n    <tr>\n      <th>3</th>\n      <td>0.0</td>\n      <td>0.0</td>\n      <td>0.0</td>\n      <td>0.0</td>\n    </tr>\n    <tr>\n      <th>4</th>\n      <td>0.0</td>\n      <td>0.0</td>\n      <td>0.0</td>\n      <td>0.0</td>\n    </tr>\n    <tr>\n      <th>...</th>\n      <td>...</td>\n      <td>...</td>\n      <td>...</td>\n      <td>...</td>\n    </tr>\n    <tr>\n      <th>449</th>\n      <td>1.0</td>\n      <td>0.0</td>\n      <td>0.0</td>\n      <td>0.0</td>\n    </tr>\n    <tr>\n      <th>450</th>\n      <td>0.0</td>\n      <td>0.0</td>\n      <td>0.0</td>\n      <td>0.0</td>\n    </tr>\n    <tr>\n      <th>451</th>\n      <td>2.0</td>\n      <td>0.0</td>\n      <td>0.0</td>\n      <td>0.0</td>\n    </tr>\n    <tr>\n      <th>452</th>\n      <td>2.0</td>\n      <td>0.0</td>\n      <td>0.0</td>\n      <td>0.0</td>\n    </tr>\n    <tr>\n      <th>453</th>\n      <td>0.0</td>\n      <td>0.0</td>\n      <td>0.0</td>\n      <td>0.0</td>\n    </tr>\n  </tbody>\n</table>\n<p>454 rows × 4 columns</p>\n</div>"
     },
     "execution_count": 83,
     "metadata": {},
     "output_type": "execute_result"
    }
   ],
   "source": [
    "#points * 1 = amount of points the player has in the quarter\n",
    "one_hot_points = one_hot[list(range(1, current_period + 1))].multiply(score_by_q['points'], axis='index')\n",
    "one_hot_points = one_hot_points.rename(index=str, columns=c.period_points).reset_index(drop=True)\n",
    "one_hot_points"
   ],
   "metadata": {
    "collapsed": false,
    "pycharm": {
     "name": "#%%\n"
    }
   }
  },
  {
   "cell_type": "code",
   "execution_count": 84,
   "outputs": [
    {
     "data": {
      "text/plain": "374    0.0\n375    0.0\n376    0.0\n377    0.0\n378    0.0\n      ... \n449    0.0\n450    0.0\n451    1.0\n452    1.0\n453    0.0\nName: fg_makes, Length: 80, dtype: float64"
     },
     "execution_count": 84,
     "metadata": {},
     "output_type": "execute_result"
    }
   ],
   "source": [
    "score_by_q['fg_makes'].tail(80)"
   ],
   "metadata": {
    "collapsed": false,
    "pycharm": {
     "name": "#%%\n"
    }
   }
  },
  {
   "cell_type": "code",
   "execution_count": 85,
   "outputs": [
    {
     "data": {
      "text/plain": "374    0.0\n375    0.0\n376    0.0\n377    1.0\n378    0.0\n      ... \n449    0.0\n450    0.0\n451    0.0\n452    0.0\n453    0.0\nName: fg_misses, Length: 80, dtype: float64"
     },
     "execution_count": 85,
     "metadata": {},
     "output_type": "execute_result"
    }
   ],
   "source": [
    "score_by_q['fg_misses'].tail(80)"
   ],
   "metadata": {
    "collapsed": false,
    "pycharm": {
     "name": "#%%\n"
    }
   }
  },
  {
   "cell_type": "code",
   "execution_count": 86,
   "outputs": [
    {
     "data": {
      "text/plain": "     1Q FG  2Q FG  3Q FG  4Q FG\n0      0.0    0.0    0.0    0.0\n1      0.0    0.0    0.0    0.0\n2      0.0    0.0    0.0    1.0\n3      0.0    0.0    0.0    0.0\n4      0.0    0.0    0.0    0.0\n..     ...    ...    ...    ...\n449    0.0    0.0    0.0    0.0\n450    0.0    0.0    0.0    0.0\n451    1.0    0.0    0.0    0.0\n452    1.0    0.0    0.0    0.0\n453    0.0    0.0    0.0    0.0\n\n[454 rows x 4 columns]",
      "text/html": "<div>\n<style scoped>\n    .dataframe tbody tr th:only-of-type {\n        vertical-align: middle;\n    }\n\n    .dataframe tbody tr th {\n        vertical-align: top;\n    }\n\n    .dataframe thead th {\n        text-align: right;\n    }\n</style>\n<table border=\"1\" class=\"dataframe\">\n  <thead>\n    <tr style=\"text-align: right;\">\n      <th></th>\n      <th>1Q FG</th>\n      <th>2Q FG</th>\n      <th>3Q FG</th>\n      <th>4Q FG</th>\n    </tr>\n  </thead>\n  <tbody>\n    <tr>\n      <th>0</th>\n      <td>0.0</td>\n      <td>0.0</td>\n      <td>0.0</td>\n      <td>0.0</td>\n    </tr>\n    <tr>\n      <th>1</th>\n      <td>0.0</td>\n      <td>0.0</td>\n      <td>0.0</td>\n      <td>0.0</td>\n    </tr>\n    <tr>\n      <th>2</th>\n      <td>0.0</td>\n      <td>0.0</td>\n      <td>0.0</td>\n      <td>1.0</td>\n    </tr>\n    <tr>\n      <th>3</th>\n      <td>0.0</td>\n      <td>0.0</td>\n      <td>0.0</td>\n      <td>0.0</td>\n    </tr>\n    <tr>\n      <th>4</th>\n      <td>0.0</td>\n      <td>0.0</td>\n      <td>0.0</td>\n      <td>0.0</td>\n    </tr>\n    <tr>\n      <th>...</th>\n      <td>...</td>\n      <td>...</td>\n      <td>...</td>\n      <td>...</td>\n    </tr>\n    <tr>\n      <th>449</th>\n      <td>0.0</td>\n      <td>0.0</td>\n      <td>0.0</td>\n      <td>0.0</td>\n    </tr>\n    <tr>\n      <th>450</th>\n      <td>0.0</td>\n      <td>0.0</td>\n      <td>0.0</td>\n      <td>0.0</td>\n    </tr>\n    <tr>\n      <th>451</th>\n      <td>1.0</td>\n      <td>0.0</td>\n      <td>0.0</td>\n      <td>0.0</td>\n    </tr>\n    <tr>\n      <th>452</th>\n      <td>1.0</td>\n      <td>0.0</td>\n      <td>0.0</td>\n      <td>0.0</td>\n    </tr>\n    <tr>\n      <th>453</th>\n      <td>0.0</td>\n      <td>0.0</td>\n      <td>0.0</td>\n      <td>0.0</td>\n    </tr>\n  </tbody>\n</table>\n<p>454 rows × 4 columns</p>\n</div>"
     },
     "execution_count": 86,
     "metadata": {},
     "output_type": "execute_result"
    }
   ],
   "source": [
    "one_hot_fg_makes = one_hot[list(range(1, current_period + 1))].multiply(score_by_q['fg_makes'], axis='index')\n",
    "one_hot_fg_makes = one_hot_fg_makes.rename(index=str, columns=c.period_fg_makes).reset_index(drop=True)\n",
    "one_hot_fg_makes"
   ],
   "metadata": {
    "collapsed": false,
    "pycharm": {
     "name": "#%%\n"
    }
   }
  },
  {
   "cell_type": "code",
   "execution_count": 90,
   "outputs": [
    {
     "data": {
      "text/plain": "       1    2    3    4\n374  0.0  0.0  0.0  0.0\n375  0.0  0.0  0.0  0.0\n376  0.0  0.0  0.0  0.0\n377  1.0  0.0  0.0  0.0\n378  0.0  0.0  0.0  0.0\n..   ...  ...  ...  ...\n449  0.0  0.0  0.0  0.0\n450  0.0  0.0  0.0  0.0\n451  0.0  0.0  0.0  0.0\n452  0.0  0.0  0.0  0.0\n453  0.0  0.0  0.0  0.0\n\n[80 rows x 4 columns]",
      "text/html": "<div>\n<style scoped>\n    .dataframe tbody tr th:only-of-type {\n        vertical-align: middle;\n    }\n\n    .dataframe tbody tr th {\n        vertical-align: top;\n    }\n\n    .dataframe thead th {\n        text-align: right;\n    }\n</style>\n<table border=\"1\" class=\"dataframe\">\n  <thead>\n    <tr style=\"text-align: right;\">\n      <th></th>\n      <th>1</th>\n      <th>2</th>\n      <th>3</th>\n      <th>4</th>\n    </tr>\n  </thead>\n  <tbody>\n    <tr>\n      <th>374</th>\n      <td>0.0</td>\n      <td>0.0</td>\n      <td>0.0</td>\n      <td>0.0</td>\n    </tr>\n    <tr>\n      <th>375</th>\n      <td>0.0</td>\n      <td>0.0</td>\n      <td>0.0</td>\n      <td>0.0</td>\n    </tr>\n    <tr>\n      <th>376</th>\n      <td>0.0</td>\n      <td>0.0</td>\n      <td>0.0</td>\n      <td>0.0</td>\n    </tr>\n    <tr>\n      <th>377</th>\n      <td>1.0</td>\n      <td>0.0</td>\n      <td>0.0</td>\n      <td>0.0</td>\n    </tr>\n    <tr>\n      <th>378</th>\n      <td>0.0</td>\n      <td>0.0</td>\n      <td>0.0</td>\n      <td>0.0</td>\n    </tr>\n    <tr>\n      <th>...</th>\n      <td>...</td>\n      <td>...</td>\n      <td>...</td>\n      <td>...</td>\n    </tr>\n    <tr>\n      <th>449</th>\n      <td>0.0</td>\n      <td>0.0</td>\n      <td>0.0</td>\n      <td>0.0</td>\n    </tr>\n    <tr>\n      <th>450</th>\n      <td>0.0</td>\n      <td>0.0</td>\n      <td>0.0</td>\n      <td>0.0</td>\n    </tr>\n    <tr>\n      <th>451</th>\n      <td>0.0</td>\n      <td>0.0</td>\n      <td>0.0</td>\n      <td>0.0</td>\n    </tr>\n    <tr>\n      <th>452</th>\n      <td>0.0</td>\n      <td>0.0</td>\n      <td>0.0</td>\n      <td>0.0</td>\n    </tr>\n    <tr>\n      <th>453</th>\n      <td>0.0</td>\n      <td>0.0</td>\n      <td>0.0</td>\n      <td>0.0</td>\n    </tr>\n  </tbody>\n</table>\n<p>80 rows × 4 columns</p>\n</div>"
     },
     "execution_count": 90,
     "metadata": {},
     "output_type": "execute_result"
    }
   ],
   "source": [
    "one_hot_fg_misses = one_hot[list(range(1, current_period + 1))].multiply(score_by_q['fg_misses'], axis='index')\n",
    "one_hot_fg_misses.tail(80)"
   ],
   "metadata": {
    "collapsed": false,
    "pycharm": {
     "name": "#%%\n"
    }
   }
  },
  {
   "cell_type": "code",
   "execution_count": 91,
   "outputs": [
    {
     "data": {
      "text/plain": "     1Q FGM  2Q FGM  3Q FGM  4Q FGM\n374     0.0     0.0     0.0     0.0\n375     0.0     0.0     0.0     0.0\n376     0.0     0.0     0.0     0.0\n377     1.0     0.0     0.0     0.0\n378     0.0     0.0     0.0     0.0\n..      ...     ...     ...     ...\n449     0.0     0.0     0.0     0.0\n450     0.0     0.0     0.0     0.0\n451     0.0     0.0     0.0     0.0\n452     0.0     0.0     0.0     0.0\n453     0.0     0.0     0.0     0.0\n\n[80 rows x 4 columns]",
      "text/html": "<div>\n<style scoped>\n    .dataframe tbody tr th:only-of-type {\n        vertical-align: middle;\n    }\n\n    .dataframe tbody tr th {\n        vertical-align: top;\n    }\n\n    .dataframe thead th {\n        text-align: right;\n    }\n</style>\n<table border=\"1\" class=\"dataframe\">\n  <thead>\n    <tr style=\"text-align: right;\">\n      <th></th>\n      <th>1Q FGM</th>\n      <th>2Q FGM</th>\n      <th>3Q FGM</th>\n      <th>4Q FGM</th>\n    </tr>\n  </thead>\n  <tbody>\n    <tr>\n      <th>374</th>\n      <td>0.0</td>\n      <td>0.0</td>\n      <td>0.0</td>\n      <td>0.0</td>\n    </tr>\n    <tr>\n      <th>375</th>\n      <td>0.0</td>\n      <td>0.0</td>\n      <td>0.0</td>\n      <td>0.0</td>\n    </tr>\n    <tr>\n      <th>376</th>\n      <td>0.0</td>\n      <td>0.0</td>\n      <td>0.0</td>\n      <td>0.0</td>\n    </tr>\n    <tr>\n      <th>377</th>\n      <td>1.0</td>\n      <td>0.0</td>\n      <td>0.0</td>\n      <td>0.0</td>\n    </tr>\n    <tr>\n      <th>378</th>\n      <td>0.0</td>\n      <td>0.0</td>\n      <td>0.0</td>\n      <td>0.0</td>\n    </tr>\n    <tr>\n      <th>...</th>\n      <td>...</td>\n      <td>...</td>\n      <td>...</td>\n      <td>...</td>\n    </tr>\n    <tr>\n      <th>449</th>\n      <td>0.0</td>\n      <td>0.0</td>\n      <td>0.0</td>\n      <td>0.0</td>\n    </tr>\n    <tr>\n      <th>450</th>\n      <td>0.0</td>\n      <td>0.0</td>\n      <td>0.0</td>\n      <td>0.0</td>\n    </tr>\n    <tr>\n      <th>451</th>\n      <td>0.0</td>\n      <td>0.0</td>\n      <td>0.0</td>\n      <td>0.0</td>\n    </tr>\n    <tr>\n      <th>452</th>\n      <td>0.0</td>\n      <td>0.0</td>\n      <td>0.0</td>\n      <td>0.0</td>\n    </tr>\n    <tr>\n      <th>453</th>\n      <td>0.0</td>\n      <td>0.0</td>\n      <td>0.0</td>\n      <td>0.0</td>\n    </tr>\n  </tbody>\n</table>\n<p>80 rows × 4 columns</p>\n</div>"
     },
     "execution_count": 91,
     "metadata": {},
     "output_type": "execute_result"
    }
   ],
   "source": [
    "one_hot_fg_misses = one_hot_fg_misses.rename(index=str, columns=c.period_fg_misses).reset_index(drop=True)\n",
    "one_hot_fg_misses.tail(80)"
   ],
   "metadata": {
    "collapsed": false,
    "pycharm": {
     "name": "#%%\n"
    }
   }
  },
  {
   "cell_type": "code",
   "execution_count": 92,
   "outputs": [
    {
     "data": {
      "text/plain": "                       player  points                team\n0                           0     0.0                   0\n1                           0     0.0                   0\n2                 Bam Adebayo     2.0          Miami Heat\n3                           0     0.0                   0\n4              Andre Drummond     0.0                   0\n..                        ...     ...                 ...\n449              Trevor Ariza     1.0                   0\n450                         0     0.0                   0\n451  Kentavious Caldwell-Pope     2.0  Los Angeles Lakers\n452              Trevor Ariza     2.0          Miami Heat\n453                         0     0.0                   0\n\n[454 rows x 3 columns]",
      "text/html": "<div>\n<style scoped>\n    .dataframe tbody tr th:only-of-type {\n        vertical-align: middle;\n    }\n\n    .dataframe tbody tr th {\n        vertical-align: top;\n    }\n\n    .dataframe thead th {\n        text-align: right;\n    }\n</style>\n<table border=\"1\" class=\"dataframe\">\n  <thead>\n    <tr style=\"text-align: right;\">\n      <th></th>\n      <th>player</th>\n      <th>points</th>\n      <th>team</th>\n    </tr>\n  </thead>\n  <tbody>\n    <tr>\n      <th>0</th>\n      <td>0</td>\n      <td>0.0</td>\n      <td>0</td>\n    </tr>\n    <tr>\n      <th>1</th>\n      <td>0</td>\n      <td>0.0</td>\n      <td>0</td>\n    </tr>\n    <tr>\n      <th>2</th>\n      <td>Bam Adebayo</td>\n      <td>2.0</td>\n      <td>Miami Heat</td>\n    </tr>\n    <tr>\n      <th>3</th>\n      <td>0</td>\n      <td>0.0</td>\n      <td>0</td>\n    </tr>\n    <tr>\n      <th>4</th>\n      <td>Andre Drummond</td>\n      <td>0.0</td>\n      <td>0</td>\n    </tr>\n    <tr>\n      <th>...</th>\n      <td>...</td>\n      <td>...</td>\n      <td>...</td>\n    </tr>\n    <tr>\n      <th>449</th>\n      <td>Trevor Ariza</td>\n      <td>1.0</td>\n      <td>0</td>\n    </tr>\n    <tr>\n      <th>450</th>\n      <td>0</td>\n      <td>0.0</td>\n      <td>0</td>\n    </tr>\n    <tr>\n      <th>451</th>\n      <td>Kentavious Caldwell-Pope</td>\n      <td>2.0</td>\n      <td>Los Angeles Lakers</td>\n    </tr>\n    <tr>\n      <th>452</th>\n      <td>Trevor Ariza</td>\n      <td>2.0</td>\n      <td>Miami Heat</td>\n    </tr>\n    <tr>\n      <th>453</th>\n      <td>0</td>\n      <td>0.0</td>\n      <td>0</td>\n    </tr>\n  </tbody>\n</table>\n<p>454 rows × 3 columns</p>\n</div>"
     },
     "execution_count": 92,
     "metadata": {},
     "output_type": "execute_result"
    }
   ],
   "source": [
    "# not concating right, point values are becoming nan\n",
    "score_by_q_s = score_by_q[['player', 'points', 'team']]\n",
    "score_by_q_s"
   ],
   "metadata": {
    "collapsed": false,
    "pycharm": {
     "name": "#%%\n"
    }
   }
  },
  {
   "cell_type": "code",
   "execution_count": 93,
   "outputs": [
    {
     "data": {
      "text/plain": "              player                team  points  1Q PTS  2Q PTS  3Q PTS  \\\n0                  0                   0     0.0     0.0     0.0     0.0   \n1        Alex Caruso                   0     0.0     0.0     0.0     0.0   \n2        Alex Caruso  Los Angeles Lakers     5.0     2.0     0.0     3.0   \n3   Alfonzo McKinnie                   0     0.0     0.0     0.0     0.0   \n4   Alfonzo McKinnie  Los Angeles Lakers     5.0     0.0     0.0     3.0   \n5     Andre Drummond                   0     5.0     0.0     1.0     4.0   \n6     Andre Drummond  Los Angeles Lakers     8.0     6.0     0.0     2.0   \n7     Andre Iguodala                   0     0.0     0.0     0.0     0.0   \n8        Bam Adebayo                   0     1.0     0.0     0.0     1.0   \n9        Bam Adebayo          Miami Heat    12.0     4.0     4.0     2.0   \n10      Ben McLemore                   0     4.0     1.0     3.0     0.0   \n11      Ben McLemore  Los Angeles Lakers     2.0     0.0     0.0     2.0   \n12   Dennis Schroder                   0     6.0     0.0     0.0     4.0   \n13   Dennis Schroder  Los Angeles Lakers     2.0     0.0     0.0     0.0   \n14   Duncan Robinson                   0     2.0     0.0     0.0     1.0   \n15   Duncan Robinson          Miami Heat     9.0     3.0     0.0     3.0   \n16      Goran Dragic                   0     4.0     4.0     0.0     0.0   \n17      Goran Dragic          Miami Heat     6.0     2.0     2.0     0.0   \n18      Jimmy Butler                   0     7.0     2.0     0.0     3.0   \n19      Jimmy Butler          Miami Heat    17.0     2.0     7.0     4.0   \n\n    4Q PTS  1Q FG  2Q FG  3Q FG  4Q FG  1Q FGM  2Q FGM  3Q FGM  4Q FGM  \n0      0.0    0.0    0.0    0.0    0.0     0.0     0.0     0.0     0.0  \n1      0.0    0.0    0.0    0.0    0.0     0.0     0.0     0.0     0.0  \n2      0.0    1.0    0.0    0.0    0.0     0.0     0.0     0.0     0.0  \n3      0.0    0.0    0.0    0.0    0.0     0.0     1.0     0.0     0.0  \n4      2.0    0.0    0.0    0.0    1.0     0.0     0.0     0.0     0.0  \n5      0.0    0.0    0.0    0.0    0.0     2.0     0.0     0.0     0.0  \n6      0.0    3.0    0.0    1.0    0.0     0.0     0.0     0.0     0.0  \n7      0.0    0.0    0.0    0.0    0.0     0.0     0.0     0.0     0.0  \n8      0.0    0.0    0.0    0.0    0.0     1.0     1.0     1.0     0.0  \n9      2.0    2.0    2.0    1.0    1.0     0.0     0.0     0.0     0.0  \n10     0.0    0.0    0.0    0.0    0.0     0.0     0.0     0.0     0.0  \n11     0.0    0.0    0.0    1.0    0.0     0.0     0.0     0.0     0.0  \n12     2.0    0.0    0.0    0.0    0.0     1.0     1.0     0.0     0.0  \n13     2.0    0.0    0.0    0.0    1.0     0.0     0.0     0.0     0.0  \n14     1.0    0.0    0.0    0.0    0.0     0.0     0.0     0.0     0.0  \n15     3.0    0.0    0.0    0.0    0.0     0.0     0.0     0.0     0.0  \n16     0.0    0.0    0.0    0.0    0.0     0.0     1.0     0.0     0.0  \n17     2.0    1.0    1.0    0.0    1.0     0.0     0.0     0.0     0.0  \n18     2.0    0.0    0.0    0.0    0.0     0.0     1.0     0.0     1.0  \n19     4.0    1.0    2.0    2.0    2.0     0.0     0.0     0.0     0.0  ",
      "text/html": "<div>\n<style scoped>\n    .dataframe tbody tr th:only-of-type {\n        vertical-align: middle;\n    }\n\n    .dataframe tbody tr th {\n        vertical-align: top;\n    }\n\n    .dataframe thead th {\n        text-align: right;\n    }\n</style>\n<table border=\"1\" class=\"dataframe\">\n  <thead>\n    <tr style=\"text-align: right;\">\n      <th></th>\n      <th>player</th>\n      <th>team</th>\n      <th>points</th>\n      <th>1Q PTS</th>\n      <th>2Q PTS</th>\n      <th>3Q PTS</th>\n      <th>4Q PTS</th>\n      <th>1Q FG</th>\n      <th>2Q FG</th>\n      <th>3Q FG</th>\n      <th>4Q FG</th>\n      <th>1Q FGM</th>\n      <th>2Q FGM</th>\n      <th>3Q FGM</th>\n      <th>4Q FGM</th>\n    </tr>\n  </thead>\n  <tbody>\n    <tr>\n      <th>0</th>\n      <td>0</td>\n      <td>0</td>\n      <td>0.0</td>\n      <td>0.0</td>\n      <td>0.0</td>\n      <td>0.0</td>\n      <td>0.0</td>\n      <td>0.0</td>\n      <td>0.0</td>\n      <td>0.0</td>\n      <td>0.0</td>\n      <td>0.0</td>\n      <td>0.0</td>\n      <td>0.0</td>\n      <td>0.0</td>\n    </tr>\n    <tr>\n      <th>1</th>\n      <td>Alex Caruso</td>\n      <td>0</td>\n      <td>0.0</td>\n      <td>0.0</td>\n      <td>0.0</td>\n      <td>0.0</td>\n      <td>0.0</td>\n      <td>0.0</td>\n      <td>0.0</td>\n      <td>0.0</td>\n      <td>0.0</td>\n      <td>0.0</td>\n      <td>0.0</td>\n      <td>0.0</td>\n      <td>0.0</td>\n    </tr>\n    <tr>\n      <th>2</th>\n      <td>Alex Caruso</td>\n      <td>Los Angeles Lakers</td>\n      <td>5.0</td>\n      <td>2.0</td>\n      <td>0.0</td>\n      <td>3.0</td>\n      <td>0.0</td>\n      <td>1.0</td>\n      <td>0.0</td>\n      <td>0.0</td>\n      <td>0.0</td>\n      <td>0.0</td>\n      <td>0.0</td>\n      <td>0.0</td>\n      <td>0.0</td>\n    </tr>\n    <tr>\n      <th>3</th>\n      <td>Alfonzo McKinnie</td>\n      <td>0</td>\n      <td>0.0</td>\n      <td>0.0</td>\n      <td>0.0</td>\n      <td>0.0</td>\n      <td>0.0</td>\n      <td>0.0</td>\n      <td>0.0</td>\n      <td>0.0</td>\n      <td>0.0</td>\n      <td>0.0</td>\n      <td>1.0</td>\n      <td>0.0</td>\n      <td>0.0</td>\n    </tr>\n    <tr>\n      <th>4</th>\n      <td>Alfonzo McKinnie</td>\n      <td>Los Angeles Lakers</td>\n      <td>5.0</td>\n      <td>0.0</td>\n      <td>0.0</td>\n      <td>3.0</td>\n      <td>2.0</td>\n      <td>0.0</td>\n      <td>0.0</td>\n      <td>0.0</td>\n      <td>1.0</td>\n      <td>0.0</td>\n      <td>0.0</td>\n      <td>0.0</td>\n      <td>0.0</td>\n    </tr>\n    <tr>\n      <th>5</th>\n      <td>Andre Drummond</td>\n      <td>0</td>\n      <td>5.0</td>\n      <td>0.0</td>\n      <td>1.0</td>\n      <td>4.0</td>\n      <td>0.0</td>\n      <td>0.0</td>\n      <td>0.0</td>\n      <td>0.0</td>\n      <td>0.0</td>\n      <td>2.0</td>\n      <td>0.0</td>\n      <td>0.0</td>\n      <td>0.0</td>\n    </tr>\n    <tr>\n      <th>6</th>\n      <td>Andre Drummond</td>\n      <td>Los Angeles Lakers</td>\n      <td>8.0</td>\n      <td>6.0</td>\n      <td>0.0</td>\n      <td>2.0</td>\n      <td>0.0</td>\n      <td>3.0</td>\n      <td>0.0</td>\n      <td>1.0</td>\n      <td>0.0</td>\n      <td>0.0</td>\n      <td>0.0</td>\n      <td>0.0</td>\n      <td>0.0</td>\n    </tr>\n    <tr>\n      <th>7</th>\n      <td>Andre Iguodala</td>\n      <td>0</td>\n      <td>0.0</td>\n      <td>0.0</td>\n      <td>0.0</td>\n      <td>0.0</td>\n      <td>0.0</td>\n      <td>0.0</td>\n      <td>0.0</td>\n      <td>0.0</td>\n      <td>0.0</td>\n      <td>0.0</td>\n      <td>0.0</td>\n      <td>0.0</td>\n      <td>0.0</td>\n    </tr>\n    <tr>\n      <th>8</th>\n      <td>Bam Adebayo</td>\n      <td>0</td>\n      <td>1.0</td>\n      <td>0.0</td>\n      <td>0.0</td>\n      <td>1.0</td>\n      <td>0.0</td>\n      <td>0.0</td>\n      <td>0.0</td>\n      <td>0.0</td>\n      <td>0.0</td>\n      <td>1.0</td>\n      <td>1.0</td>\n      <td>1.0</td>\n      <td>0.0</td>\n    </tr>\n    <tr>\n      <th>9</th>\n      <td>Bam Adebayo</td>\n      <td>Miami Heat</td>\n      <td>12.0</td>\n      <td>4.0</td>\n      <td>4.0</td>\n      <td>2.0</td>\n      <td>2.0</td>\n      <td>2.0</td>\n      <td>2.0</td>\n      <td>1.0</td>\n      <td>1.0</td>\n      <td>0.0</td>\n      <td>0.0</td>\n      <td>0.0</td>\n      <td>0.0</td>\n    </tr>\n    <tr>\n      <th>10</th>\n      <td>Ben McLemore</td>\n      <td>0</td>\n      <td>4.0</td>\n      <td>1.0</td>\n      <td>3.0</td>\n      <td>0.0</td>\n      <td>0.0</td>\n      <td>0.0</td>\n      <td>0.0</td>\n      <td>0.0</td>\n      <td>0.0</td>\n      <td>0.0</td>\n      <td>0.0</td>\n      <td>0.0</td>\n      <td>0.0</td>\n    </tr>\n    <tr>\n      <th>11</th>\n      <td>Ben McLemore</td>\n      <td>Los Angeles Lakers</td>\n      <td>2.0</td>\n      <td>0.0</td>\n      <td>0.0</td>\n      <td>2.0</td>\n      <td>0.0</td>\n      <td>0.0</td>\n      <td>0.0</td>\n      <td>1.0</td>\n      <td>0.0</td>\n      <td>0.0</td>\n      <td>0.0</td>\n      <td>0.0</td>\n      <td>0.0</td>\n    </tr>\n    <tr>\n      <th>12</th>\n      <td>Dennis Schroder</td>\n      <td>0</td>\n      <td>6.0</td>\n      <td>0.0</td>\n      <td>0.0</td>\n      <td>4.0</td>\n      <td>2.0</td>\n      <td>0.0</td>\n      <td>0.0</td>\n      <td>0.0</td>\n      <td>0.0</td>\n      <td>1.0</td>\n      <td>1.0</td>\n      <td>0.0</td>\n      <td>0.0</td>\n    </tr>\n    <tr>\n      <th>13</th>\n      <td>Dennis Schroder</td>\n      <td>Los Angeles Lakers</td>\n      <td>2.0</td>\n      <td>0.0</td>\n      <td>0.0</td>\n      <td>0.0</td>\n      <td>2.0</td>\n      <td>0.0</td>\n      <td>0.0</td>\n      <td>0.0</td>\n      <td>1.0</td>\n      <td>0.0</td>\n      <td>0.0</td>\n      <td>0.0</td>\n      <td>0.0</td>\n    </tr>\n    <tr>\n      <th>14</th>\n      <td>Duncan Robinson</td>\n      <td>0</td>\n      <td>2.0</td>\n      <td>0.0</td>\n      <td>0.0</td>\n      <td>1.0</td>\n      <td>1.0</td>\n      <td>0.0</td>\n      <td>0.0</td>\n      <td>0.0</td>\n      <td>0.0</td>\n      <td>0.0</td>\n      <td>0.0</td>\n      <td>0.0</td>\n      <td>0.0</td>\n    </tr>\n    <tr>\n      <th>15</th>\n      <td>Duncan Robinson</td>\n      <td>Miami Heat</td>\n      <td>9.0</td>\n      <td>3.0</td>\n      <td>0.0</td>\n      <td>3.0</td>\n      <td>3.0</td>\n      <td>0.0</td>\n      <td>0.0</td>\n      <td>0.0</td>\n      <td>0.0</td>\n      <td>0.0</td>\n      <td>0.0</td>\n      <td>0.0</td>\n      <td>0.0</td>\n    </tr>\n    <tr>\n      <th>16</th>\n      <td>Goran Dragic</td>\n      <td>0</td>\n      <td>4.0</td>\n      <td>4.0</td>\n      <td>0.0</td>\n      <td>0.0</td>\n      <td>0.0</td>\n      <td>0.0</td>\n      <td>0.0</td>\n      <td>0.0</td>\n      <td>0.0</td>\n      <td>0.0</td>\n      <td>1.0</td>\n      <td>0.0</td>\n      <td>0.0</td>\n    </tr>\n    <tr>\n      <th>17</th>\n      <td>Goran Dragic</td>\n      <td>Miami Heat</td>\n      <td>6.0</td>\n      <td>2.0</td>\n      <td>2.0</td>\n      <td>0.0</td>\n      <td>2.0</td>\n      <td>1.0</td>\n      <td>1.0</td>\n      <td>0.0</td>\n      <td>1.0</td>\n      <td>0.0</td>\n      <td>0.0</td>\n      <td>0.0</td>\n      <td>0.0</td>\n    </tr>\n    <tr>\n      <th>18</th>\n      <td>Jimmy Butler</td>\n      <td>0</td>\n      <td>7.0</td>\n      <td>2.0</td>\n      <td>0.0</td>\n      <td>3.0</td>\n      <td>2.0</td>\n      <td>0.0</td>\n      <td>0.0</td>\n      <td>0.0</td>\n      <td>0.0</td>\n      <td>0.0</td>\n      <td>1.0</td>\n      <td>0.0</td>\n      <td>1.0</td>\n    </tr>\n    <tr>\n      <th>19</th>\n      <td>Jimmy Butler</td>\n      <td>Miami Heat</td>\n      <td>17.0</td>\n      <td>2.0</td>\n      <td>7.0</td>\n      <td>4.0</td>\n      <td>4.0</td>\n      <td>1.0</td>\n      <td>2.0</td>\n      <td>2.0</td>\n      <td>2.0</td>\n      <td>0.0</td>\n      <td>0.0</td>\n      <td>0.0</td>\n      <td>0.0</td>\n    </tr>\n  </tbody>\n</table>\n</div>"
     },
     "execution_count": 93,
     "metadata": {},
     "output_type": "execute_result"
    }
   ],
   "source": [
    "new = pd.concat([score_by_q_s, one_hot_points, one_hot_fg_makes, one_hot_fg_misses], axis=1, ignore_index=False)\n",
    "#print(score_by_q[score_by_q['player'] == 'LeBron James'])\n",
    "grouped_score = new.groupby(['player', 'team'], as_index=False).sum()\n",
    "grouped_score.head(20)"
   ],
   "metadata": {
    "collapsed": false,
    "pycharm": {
     "name": "#%%\n"
    }
   }
  },
  {
   "cell_type": "code",
   "execution_count": null,
   "outputs": [],
   "source": [
    "order = pd.CategoricalDtype([away, home], ordered=True)\n",
    "grouped_score['team'] = grouped_score['team'].astype(order)\n",
    "grouped_score.sort_values('team', inplace=True)\n",
    "grouped_score['site'] = grouped_score['team'].apply(lambda x: 1 if x == home else (0 if x == away else x))\n",
    "grouped_score.reset_index(inplace=True)\n",
    "grouped_score.drop(grouped_score.columns[0], axis=1, inplace=True)\n",
    "grouped_score = grouped_score.astype({'points':'int', '1Q PTS':'int', '2Q PTS':'int', '3Q PTS':'int', '4Q PTS':'int'})\n",
    "grouped_score\n",
    "\n"
   ],
   "metadata": {
    "collapsed": false,
    "pycharm": {
     "name": "#%%\n"
    }
   }
  },
  {
   "cell_type": "code",
   "execution_count": 38,
   "outputs": [],
   "source": [],
   "metadata": {
    "collapsed": false,
    "pycharm": {
     "name": "#%%\n"
    }
   }
  }
 ],
 "metadata": {
  "kernelspec": {
   "display_name": "Python 3",
   "language": "python",
   "name": "python3"
  },
  "language_info": {
   "codemirror_mode": {
    "name": "ipython",
    "version": 2
   },
   "file_extension": ".py",
   "mimetype": "text/x-python",
   "name": "python",
   "nbconvert_exporter": "python",
   "pygments_lexer": "ipython2",
   "version": "2.7.6"
  }
 },
 "nbformat": 4,
 "nbformat_minor": 0
}