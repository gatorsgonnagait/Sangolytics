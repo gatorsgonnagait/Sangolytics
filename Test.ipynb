{
 "cells": [
  {
   "cell_type": "code",
   "execution_count": 41,
   "outputs": [],
   "source": [
    "import pandas as pd\n",
    "import Constants as c\n",
    "away = 'Los Angeles Lakers'\n",
    "home = 'Miami Heat'\n",
    "current_period = 4"
   ],
   "metadata": {
    "collapsed": false,
    "pycharm": {
     "name": "#%%\n"
    }
   }
  },
  {
   "cell_type": "code",
   "execution_count": 42,
   "outputs": [],
   "source": [
    "score_by_q = pd.read_csv('score_by_q_Los Angeles Lakers_Miami Heat.csv')\n",
    "score_by_q  = score_by_q [score_by_q ['player'].notna()].reset_index(drop=True)\n",
    "\n",
    "\n",
    "# get a list of the players on each team\n",
    "for player in pd.unique(score_by_q['player'].dropna()).tolist():\n",
    "    try:\n",
    "        team = pd.unique(score_by_q[score_by_q['player'] == player]['team'].dropna())[0]\n",
    "    except IndexError:\n",
    "        team = ''\n",
    "    score_by_q.loc[(score_by_q['player'] == player) & (score_by_q['team'].isna()), 'team'] = team"
   ],
   "metadata": {
    "collapsed": false,
    "pycharm": {
     "name": "#%%\n"
    }
   }
  },
  {
   "cell_type": "code",
   "execution_count": 43,
   "outputs": [
    {
     "data": {
      "text/plain": "          time_stamp     time_index  same_time_count                 time  \\\n0    4 59.5 97 106 1  4 59.5 97 106                1  1900-01-01 00:00:59   \n1    4 1:11 97 104 1  4 1:11 97 104                1  1900-01-01 00:01:11   \n2    4 1:36 97 104 1  4 1:36 97 104                1  1900-01-01 00:01:36   \n3    4 1:58 94 104 1  4 1:58 94 104                1  1900-01-01 00:01:58   \n4    4 2:14 94 104 1  4 2:14 94 104                1  1900-01-01 00:02:14   \n..               ...            ...              ...                  ...   \n200    1 10:37 2 6 1    1 10:37 2 6                1  1900-01-01 00:10:37   \n201    1 11:12 2 4 1    1 11:12 2 4                1  1900-01-01 00:11:12   \n202    1 11:12 2 3 1    1 11:12 2 3                1  1900-01-01 00:11:12   \n203    1 11:22 2 2 1    1 11:22 2 2                1  1900-01-01 00:11:22   \n204    1 11:39 0 2 1    1 11:39 0 2                1  1900-01-01 00:11:39   \n\n     period         adj_time  away  home  total  \\\n0         4  0 days 00:47:01    97   106    203   \n1         4  0 days 00:46:49    97   104    201   \n2         4  0 days 00:46:24    97   104    201   \n3         4  0 days 00:46:02    94   104    198   \n4         4  0 days 00:45:46    94   104    198   \n..      ...              ...   ...   ...    ...   \n200       1  0 days 00:01:23     2     6      8   \n201       1  0 days 00:00:48     2     4      6   \n202       1  0 days 00:00:48     2     3      5   \n203       1  0 days 00:00:38     2     2      4   \n204       1  0 days 00:00:21     0     2      2   \n\n                                                  play  \\\n0        Bam Adebayo makes shot (Jimmy Butler assists)   \n1                           Andre Drummond misses shot   \n2    Wesley Matthews makes 23-foot three point jump...   \n3                              Bam Adebayo misses shot   \n4              Jimmy Butler makes technical free throw   \n..                                                 ...   \n200  Bam Adebayo makes jumper (Victor Oladipo assists)   \n201               Trevor Ariza makes free throw 2 of 2   \n202               Trevor Ariza makes free throw 1 of 2   \n203  Kentavious Caldwell-Pope makes 20-foot pullup ...   \n204  Trevor Ariza makes 5-foot layup (Duncan Robins...   \n\n                       player  fg_makes  fg_misses  3_makes  3_misses  \\\n0                 Bam Adebayo       1.0        NaN      NaN       NaN   \n1              Andre Drummond       NaN        NaN      NaN       NaN   \n2             Wesley Matthews       NaN        NaN      1.0       NaN   \n3                 Bam Adebayo       NaN        NaN      NaN       NaN   \n4                Jimmy Butler       NaN        NaN      NaN       NaN   \n..                        ...       ...        ...      ...       ...   \n200               Bam Adebayo       1.0        NaN      NaN       NaN   \n201              Trevor Ariza       NaN        NaN      NaN       NaN   \n202              Trevor Ariza       NaN        NaN      NaN       NaN   \n203  Kentavious Caldwell-Pope       1.0        NaN      NaN       NaN   \n204              Trevor Ariza       1.0        NaN      NaN       NaN   \n\n     ft_makes  ft_misses  points                team  \n0         NaN        NaN     2.0          Miami Heat  \n1         NaN        NaN     NaN  Los Angeles Lakers  \n2         NaN        NaN     3.0  Los Angeles Lakers  \n3         NaN        NaN     NaN          Miami Heat  \n4         1.0        NaN     1.0          Miami Heat  \n..        ...        ...     ...                 ...  \n200       NaN        NaN     2.0          Miami Heat  \n201       1.0        NaN     1.0          Miami Heat  \n202       1.0        NaN     1.0          Miami Heat  \n203       NaN        NaN     2.0  Los Angeles Lakers  \n204       NaN        NaN     2.0          Miami Heat  \n\n[205 rows x 19 columns]",
      "text/html": "<div>\n<style scoped>\n    .dataframe tbody tr th:only-of-type {\n        vertical-align: middle;\n    }\n\n    .dataframe tbody tr th {\n        vertical-align: top;\n    }\n\n    .dataframe thead th {\n        text-align: right;\n    }\n</style>\n<table border=\"1\" class=\"dataframe\">\n  <thead>\n    <tr style=\"text-align: right;\">\n      <th></th>\n      <th>time_stamp</th>\n      <th>time_index</th>\n      <th>same_time_count</th>\n      <th>time</th>\n      <th>period</th>\n      <th>adj_time</th>\n      <th>away</th>\n      <th>home</th>\n      <th>total</th>\n      <th>play</th>\n      <th>player</th>\n      <th>fg_makes</th>\n      <th>fg_misses</th>\n      <th>3_makes</th>\n      <th>3_misses</th>\n      <th>ft_makes</th>\n      <th>ft_misses</th>\n      <th>points</th>\n      <th>team</th>\n    </tr>\n  </thead>\n  <tbody>\n    <tr>\n      <th>0</th>\n      <td>4 59.5 97 106 1</td>\n      <td>4 59.5 97 106</td>\n      <td>1</td>\n      <td>1900-01-01 00:00:59</td>\n      <td>4</td>\n      <td>0 days 00:47:01</td>\n      <td>97</td>\n      <td>106</td>\n      <td>203</td>\n      <td>Bam Adebayo makes shot (Jimmy Butler assists)</td>\n      <td>Bam Adebayo</td>\n      <td>1.0</td>\n      <td>NaN</td>\n      <td>NaN</td>\n      <td>NaN</td>\n      <td>NaN</td>\n      <td>NaN</td>\n      <td>2.0</td>\n      <td>Miami Heat</td>\n    </tr>\n    <tr>\n      <th>1</th>\n      <td>4 1:11 97 104 1</td>\n      <td>4 1:11 97 104</td>\n      <td>1</td>\n      <td>1900-01-01 00:01:11</td>\n      <td>4</td>\n      <td>0 days 00:46:49</td>\n      <td>97</td>\n      <td>104</td>\n      <td>201</td>\n      <td>Andre Drummond misses shot</td>\n      <td>Andre Drummond</td>\n      <td>NaN</td>\n      <td>NaN</td>\n      <td>NaN</td>\n      <td>NaN</td>\n      <td>NaN</td>\n      <td>NaN</td>\n      <td>NaN</td>\n      <td>Los Angeles Lakers</td>\n    </tr>\n    <tr>\n      <th>2</th>\n      <td>4 1:36 97 104 1</td>\n      <td>4 1:36 97 104</td>\n      <td>1</td>\n      <td>1900-01-01 00:01:36</td>\n      <td>4</td>\n      <td>0 days 00:46:24</td>\n      <td>97</td>\n      <td>104</td>\n      <td>201</td>\n      <td>Wesley Matthews makes 23-foot three point jump...</td>\n      <td>Wesley Matthews</td>\n      <td>NaN</td>\n      <td>NaN</td>\n      <td>1.0</td>\n      <td>NaN</td>\n      <td>NaN</td>\n      <td>NaN</td>\n      <td>3.0</td>\n      <td>Los Angeles Lakers</td>\n    </tr>\n    <tr>\n      <th>3</th>\n      <td>4 1:58 94 104 1</td>\n      <td>4 1:58 94 104</td>\n      <td>1</td>\n      <td>1900-01-01 00:01:58</td>\n      <td>4</td>\n      <td>0 days 00:46:02</td>\n      <td>94</td>\n      <td>104</td>\n      <td>198</td>\n      <td>Bam Adebayo misses shot</td>\n      <td>Bam Adebayo</td>\n      <td>NaN</td>\n      <td>NaN</td>\n      <td>NaN</td>\n      <td>NaN</td>\n      <td>NaN</td>\n      <td>NaN</td>\n      <td>NaN</td>\n      <td>Miami Heat</td>\n    </tr>\n    <tr>\n      <th>4</th>\n      <td>4 2:14 94 104 1</td>\n      <td>4 2:14 94 104</td>\n      <td>1</td>\n      <td>1900-01-01 00:02:14</td>\n      <td>4</td>\n      <td>0 days 00:45:46</td>\n      <td>94</td>\n      <td>104</td>\n      <td>198</td>\n      <td>Jimmy Butler makes technical free throw</td>\n      <td>Jimmy Butler</td>\n      <td>NaN</td>\n      <td>NaN</td>\n      <td>NaN</td>\n      <td>NaN</td>\n      <td>1.0</td>\n      <td>NaN</td>\n      <td>1.0</td>\n      <td>Miami Heat</td>\n    </tr>\n    <tr>\n      <th>...</th>\n      <td>...</td>\n      <td>...</td>\n      <td>...</td>\n      <td>...</td>\n      <td>...</td>\n      <td>...</td>\n      <td>...</td>\n      <td>...</td>\n      <td>...</td>\n      <td>...</td>\n      <td>...</td>\n      <td>...</td>\n      <td>...</td>\n      <td>...</td>\n      <td>...</td>\n      <td>...</td>\n      <td>...</td>\n      <td>...</td>\n      <td>...</td>\n    </tr>\n    <tr>\n      <th>200</th>\n      <td>1 10:37 2 6 1</td>\n      <td>1 10:37 2 6</td>\n      <td>1</td>\n      <td>1900-01-01 00:10:37</td>\n      <td>1</td>\n      <td>0 days 00:01:23</td>\n      <td>2</td>\n      <td>6</td>\n      <td>8</td>\n      <td>Bam Adebayo makes jumper (Victor Oladipo assists)</td>\n      <td>Bam Adebayo</td>\n      <td>1.0</td>\n      <td>NaN</td>\n      <td>NaN</td>\n      <td>NaN</td>\n      <td>NaN</td>\n      <td>NaN</td>\n      <td>2.0</td>\n      <td>Miami Heat</td>\n    </tr>\n    <tr>\n      <th>201</th>\n      <td>1 11:12 2 4 1</td>\n      <td>1 11:12 2 4</td>\n      <td>1</td>\n      <td>1900-01-01 00:11:12</td>\n      <td>1</td>\n      <td>0 days 00:00:48</td>\n      <td>2</td>\n      <td>4</td>\n      <td>6</td>\n      <td>Trevor Ariza makes free throw 2 of 2</td>\n      <td>Trevor Ariza</td>\n      <td>NaN</td>\n      <td>NaN</td>\n      <td>NaN</td>\n      <td>NaN</td>\n      <td>1.0</td>\n      <td>NaN</td>\n      <td>1.0</td>\n      <td>Miami Heat</td>\n    </tr>\n    <tr>\n      <th>202</th>\n      <td>1 11:12 2 3 1</td>\n      <td>1 11:12 2 3</td>\n      <td>1</td>\n      <td>1900-01-01 00:11:12</td>\n      <td>1</td>\n      <td>0 days 00:00:48</td>\n      <td>2</td>\n      <td>3</td>\n      <td>5</td>\n      <td>Trevor Ariza makes free throw 1 of 2</td>\n      <td>Trevor Ariza</td>\n      <td>NaN</td>\n      <td>NaN</td>\n      <td>NaN</td>\n      <td>NaN</td>\n      <td>1.0</td>\n      <td>NaN</td>\n      <td>1.0</td>\n      <td>Miami Heat</td>\n    </tr>\n    <tr>\n      <th>203</th>\n      <td>1 11:22 2 2 1</td>\n      <td>1 11:22 2 2</td>\n      <td>1</td>\n      <td>1900-01-01 00:11:22</td>\n      <td>1</td>\n      <td>0 days 00:00:38</td>\n      <td>2</td>\n      <td>2</td>\n      <td>4</td>\n      <td>Kentavious Caldwell-Pope makes 20-foot pullup ...</td>\n      <td>Kentavious Caldwell-Pope</td>\n      <td>1.0</td>\n      <td>NaN</td>\n      <td>NaN</td>\n      <td>NaN</td>\n      <td>NaN</td>\n      <td>NaN</td>\n      <td>2.0</td>\n      <td>Los Angeles Lakers</td>\n    </tr>\n    <tr>\n      <th>204</th>\n      <td>1 11:39 0 2 1</td>\n      <td>1 11:39 0 2</td>\n      <td>1</td>\n      <td>1900-01-01 00:11:39</td>\n      <td>1</td>\n      <td>0 days 00:00:21</td>\n      <td>0</td>\n      <td>2</td>\n      <td>2</td>\n      <td>Trevor Ariza makes 5-foot layup (Duncan Robins...</td>\n      <td>Trevor Ariza</td>\n      <td>1.0</td>\n      <td>NaN</td>\n      <td>NaN</td>\n      <td>NaN</td>\n      <td>NaN</td>\n      <td>NaN</td>\n      <td>2.0</td>\n      <td>Miami Heat</td>\n    </tr>\n  </tbody>\n</table>\n<p>205 rows × 19 columns</p>\n</div>"
     },
     "execution_count": 43,
     "metadata": {},
     "output_type": "execute_result"
    }
   ],
   "source": [
    "score_by_q"
   ],
   "metadata": {
    "collapsed": false,
    "pycharm": {
     "name": "#%%\n"
    }
   }
  },
  {
   "cell_type": "code",
   "execution_count": 33,
   "outputs": [],
   "source": [
    "score_by_q.fillna(0, inplace=True)\n",
    "# fills with one or zeros\n",
    "one_hot = pd.get_dummies(score_by_q['period'])\n",
    "one_hot = one_hot.T.reindex(list(range(1, current_period + 1))).T.fillna(0)\n",
    "\n",
    "#points * 1 = amount of points the player has in the quarter\n",
    "one_hot_points = one_hot[list(range(1, current_period + 1))].multiply(score_by_q['points'], axis='index')\n",
    "one_hot_points = one_hot_points.rename(index=str, columns=c.period_points).reset_index(drop=True)\n",
    "\n",
    "one_hot_fg_makes = one_hot[list(range(1, current_period + 1))].multiply(score_by_q['fg_makes'], axis='index')\n",
    "one_hot_fg_makes = one_hot_fg_makes.rename(index=str, columns=c.period_fg_makes).reset_index(drop=True)\n",
    "one_hot_fg_misses = one_hot[list(range(1, current_period + 1))].multiply(score_by_q['fg_misses'], axis='index')\n",
    "one_hot_fg_misses = one_hot_fg_misses.rename(index=str, columns=c.period_fg_misses).reset_index(drop=True)\n",
    "\n",
    "one_hot_ft_makes = one_hot[list(range(1, current_period + 1))].multiply(score_by_q['ft_makes'], axis='index')\n",
    "one_hot_ft_makes = one_hot_ft_makes.rename(index=str, columns=c.period_ft_makes).reset_index(drop=True)\n",
    "one_hot_ft_misses = one_hot[list(range(1, current_period + 1))].multiply(score_by_q['ft_misses'], axis='index')\n",
    "one_hot_ft_misses = one_hot_ft_misses.rename(index=str, columns=c.period_ft_misses).reset_index(drop=True)\n",
    "\n",
    "one_hot_3_makes = one_hot[list(range(1, current_period + 1))].multiply(score_by_q['3_makes'], axis='index')\n",
    "one_hot_3_makes = one_hot_3_makes.rename(index=str, columns=c.period_3_makes).reset_index(drop=True)\n",
    "one_hot_3_misses = one_hot[list(range(1, current_period + 1))].multiply(score_by_q['3_misses'], axis='index')\n",
    "one_hot_3_misses = one_hot_3_misses.rename(index=str, columns=c.period_3_misses).reset_index(drop=True)"
   ],
   "metadata": {
    "collapsed": false,
    "pycharm": {
     "name": "#%%\n"
    }
   }
  },
  {
   "cell_type": "code",
   "execution_count": 37,
   "outputs": [],
   "source": [
    "score_by_q_s = score_by_q[['player', 'team', 'points']]\n",
    "new = pd.concat([score_by_q_s, one_hot_points, one_hot_fg_makes, one_hot_fg_misses, one_hot_3_makes, one_hot_3_misses, one_hot_ft_makes, one_hot_ft_misses], axis=1, ignore_index=False)\n",
    "#print(score_by_q[score_by_q['player'] == 'LeBron James'])\n",
    "grouped_score = new.groupby(['player', 'team'], as_index=False).sum()\n",
    "\n",
    "\n",
    "fg_df = pd.DataFrame(columns=c.fg_cols)\n",
    "\n",
    "for i in range(1, current_period+1):\n",
    "    fg_attempts = grouped_score[str(i)+'Q FG'].astype(int) + grouped_score[str(i)+'Q FGM'].astype(int)\n",
    "    fg_df[str(i)+'Q FG-FGA'] = grouped_score[str(i)+'Q FG'].astype(int).astype(str).str.cat(fg_attempts.astype(str), sep =\"-\")\n",
    "\n",
    "    ft_attempts = grouped_score[str(i)+'Q FT'].astype(int) + grouped_score[str(i)+'Q FTM'].astype(int)\n",
    "    fg_df[str(i)+'Q FT-FTA'] = grouped_score[str(i)+'Q FT'].astype(int).astype(str).str.cat(ft_attempts.astype(str), sep =\"-\")\n",
    "\n",
    "    three_attempts = grouped_score[str(i)+'Q 3'].astype(int) + grouped_score[str(i)+'Q 3M'].astype(int)\n",
    "    fg_df[str(i)+'Q 3-3A'] = grouped_score[str(i)+'Q 3'].astype(int).astype(str).str.cat(three_attempts.astype(str), sep =\"-\")\n"
   ],
   "metadata": {
    "collapsed": false,
    "pycharm": {
     "name": "#%%\n"
    }
   }
  },
  {
   "cell_type": "code",
   "execution_count": 39,
   "outputs": [
    {
     "data": {
      "text/plain": "                      player                team  points 1Q FG-FGA 1Q 3-3A  \\\n0                Alex Caruso  Los Angeles Lakers     5.0       1-1     0-0   \n1           Alfonzo McKinnie  Los Angeles Lakers     5.0       0-0     0-1   \n2             Andre Drummond  Los Angeles Lakers    13.0       3-5     0-0   \n3             Andre Iguodala                         0.0       0-0     0-0   \n4                Bam Adebayo          Miami Heat    13.0       2-3     0-0   \n5               Ben McLemore  Los Angeles Lakers     6.0       0-0     0-2   \n6            Dennis Schroder  Los Angeles Lakers     8.0       0-1     0-0   \n7            Duncan Robinson          Miami Heat    11.0       0-0     1-1   \n8               Goran Dragic          Miami Heat    10.0       1-1     0-1   \n9               Jimmy Butler          Miami Heat    24.0       1-1     0-0   \n10  Kentavious Caldwell-Pope  Los Angeles Lakers    25.0       2-3     2-3   \n11           Markieff Morris  Los Angeles Lakers    12.0       0-0     0-0   \n12          Montrezl Harrell  Los Angeles Lakers    10.0       1-1     0-0   \n13           Nemanja Bjelica                         0.0       0-0     0-0   \n14          Precious Achiuwa          Miami Heat     7.0       0-0     0-0   \n15              Trevor Ariza          Miami Heat     8.0       1-1     0-1   \n16               Tyler Herro          Miami Heat    15.0       0-2     1-1   \n17            Victor Oladipo          Miami Heat    18.0       0-0     0-0   \n18           Wesley Matthews  Los Angeles Lakers    14.0       0-0     2-3   \n\n   1Q FT-FTA 2Q FG-FGA 2Q 3-3A 2Q FT-FTA 3Q FG-FGA 3Q 3-3A 3Q FT-FTA  \\\n0        0-0       0-0     0-0       0-0       0-0     1-1       0-0   \n1        0-0       0-1     0-0       0-0       0-0     1-1       0-0   \n2        0-0       0-0     0-0       1-2       1-1     0-0       4-4   \n3        0-0       0-0     0-1       0-0       0-0     0-0       0-0   \n4        0-0       2-3     0-0       0-0       1-2     0-0       1-2   \n5        1-1       0-0     0-0       3-3       1-1     0-0       0-0   \n6        0-0       0-1     0-2       0-0       0-0     0-1       4-4   \n7        0-0       0-0     0-1       0-0       0-0     1-2       1-1   \n8        4-6       1-2     0-1       0-0       0-0     0-0       0-0   \n9        2-2       2-3     1-1       0-0       2-2     0-1       3-4   \n10       0-0       1-2     1-1       0-0       2-2     1-3       0-0   \n11       0-0       2-2     1-2       0-0       0-0     0-1       0-0   \n12       0-0       2-3     0-0       4-6       0-0     0-0       0-0   \n13       0-0       0-0     0-1       0-0       0-0     0-0       0-0   \n14       0-0       0-0     0-0       0-0       2-2     0-0       1-1   \n15       4-4       0-0     0-0       0-0       1-1     0-1       0-0   \n16       0-0       0-0     2-3       1-2       0-0     0-0       0-0   \n17       6-6       1-1     0-0       0-0       1-1     2-3       0-0   \n18       0-0       1-1     0-2       3-3       0-1     0-1       0-0   \n\n   4Q FG-FGA 4Q 3-3A 4Q FT-FTA  \n0        0-0     0-1       0-0  \n1        1-1     0-0       0-0  \n2        0-0     0-0       0-0  \n3        0-0     0-2       0-0  \n4        1-1     0-0       0-0  \n5        0-0     0-1       0-0  \n6        1-1     0-1       2-2  \n7        0-0     1-1       1-1  \n8        1-1     0-2       0-0  \n9        2-3     0-0       2-2  \n10       0-0     1-2       0-0  \n11       1-1     1-3       0-0  \n12       0-0     0-0       0-0  \n13       0-0     0-0       0-0  \n14       0-3     0-0       2-4  \n15       0-0     0-0       0-0  \n16       1-1     1-1       0-0  \n17       1-1     0-0       0-0  \n18       0-1     1-1       0-0  ",
      "text/html": "<div>\n<style scoped>\n    .dataframe tbody tr th:only-of-type {\n        vertical-align: middle;\n    }\n\n    .dataframe tbody tr th {\n        vertical-align: top;\n    }\n\n    .dataframe thead th {\n        text-align: right;\n    }\n</style>\n<table border=\"1\" class=\"dataframe\">\n  <thead>\n    <tr style=\"text-align: right;\">\n      <th></th>\n      <th>player</th>\n      <th>team</th>\n      <th>points</th>\n      <th>1Q FG-FGA</th>\n      <th>1Q 3-3A</th>\n      <th>1Q FT-FTA</th>\n      <th>2Q FG-FGA</th>\n      <th>2Q 3-3A</th>\n      <th>2Q FT-FTA</th>\n      <th>3Q FG-FGA</th>\n      <th>3Q 3-3A</th>\n      <th>3Q FT-FTA</th>\n      <th>4Q FG-FGA</th>\n      <th>4Q 3-3A</th>\n      <th>4Q FT-FTA</th>\n    </tr>\n  </thead>\n  <tbody>\n    <tr>\n      <th>0</th>\n      <td>Alex Caruso</td>\n      <td>Los Angeles Lakers</td>\n      <td>5.0</td>\n      <td>1-1</td>\n      <td>0-0</td>\n      <td>0-0</td>\n      <td>0-0</td>\n      <td>0-0</td>\n      <td>0-0</td>\n      <td>0-0</td>\n      <td>1-1</td>\n      <td>0-0</td>\n      <td>0-0</td>\n      <td>0-1</td>\n      <td>0-0</td>\n    </tr>\n    <tr>\n      <th>1</th>\n      <td>Alfonzo McKinnie</td>\n      <td>Los Angeles Lakers</td>\n      <td>5.0</td>\n      <td>0-0</td>\n      <td>0-1</td>\n      <td>0-0</td>\n      <td>0-1</td>\n      <td>0-0</td>\n      <td>0-0</td>\n      <td>0-0</td>\n      <td>1-1</td>\n      <td>0-0</td>\n      <td>1-1</td>\n      <td>0-0</td>\n      <td>0-0</td>\n    </tr>\n    <tr>\n      <th>2</th>\n      <td>Andre Drummond</td>\n      <td>Los Angeles Lakers</td>\n      <td>13.0</td>\n      <td>3-5</td>\n      <td>0-0</td>\n      <td>0-0</td>\n      <td>0-0</td>\n      <td>0-0</td>\n      <td>1-2</td>\n      <td>1-1</td>\n      <td>0-0</td>\n      <td>4-4</td>\n      <td>0-0</td>\n      <td>0-0</td>\n      <td>0-0</td>\n    </tr>\n    <tr>\n      <th>3</th>\n      <td>Andre Iguodala</td>\n      <td></td>\n      <td>0.0</td>\n      <td>0-0</td>\n      <td>0-0</td>\n      <td>0-0</td>\n      <td>0-0</td>\n      <td>0-1</td>\n      <td>0-0</td>\n      <td>0-0</td>\n      <td>0-0</td>\n      <td>0-0</td>\n      <td>0-0</td>\n      <td>0-2</td>\n      <td>0-0</td>\n    </tr>\n    <tr>\n      <th>4</th>\n      <td>Bam Adebayo</td>\n      <td>Miami Heat</td>\n      <td>13.0</td>\n      <td>2-3</td>\n      <td>0-0</td>\n      <td>0-0</td>\n      <td>2-3</td>\n      <td>0-0</td>\n      <td>0-0</td>\n      <td>1-2</td>\n      <td>0-0</td>\n      <td>1-2</td>\n      <td>1-1</td>\n      <td>0-0</td>\n      <td>0-0</td>\n    </tr>\n    <tr>\n      <th>5</th>\n      <td>Ben McLemore</td>\n      <td>Los Angeles Lakers</td>\n      <td>6.0</td>\n      <td>0-0</td>\n      <td>0-2</td>\n      <td>1-1</td>\n      <td>0-0</td>\n      <td>0-0</td>\n      <td>3-3</td>\n      <td>1-1</td>\n      <td>0-0</td>\n      <td>0-0</td>\n      <td>0-0</td>\n      <td>0-1</td>\n      <td>0-0</td>\n    </tr>\n    <tr>\n      <th>6</th>\n      <td>Dennis Schroder</td>\n      <td>Los Angeles Lakers</td>\n      <td>8.0</td>\n      <td>0-1</td>\n      <td>0-0</td>\n      <td>0-0</td>\n      <td>0-1</td>\n      <td>0-2</td>\n      <td>0-0</td>\n      <td>0-0</td>\n      <td>0-1</td>\n      <td>4-4</td>\n      <td>1-1</td>\n      <td>0-1</td>\n      <td>2-2</td>\n    </tr>\n    <tr>\n      <th>7</th>\n      <td>Duncan Robinson</td>\n      <td>Miami Heat</td>\n      <td>11.0</td>\n      <td>0-0</td>\n      <td>1-1</td>\n      <td>0-0</td>\n      <td>0-0</td>\n      <td>0-1</td>\n      <td>0-0</td>\n      <td>0-0</td>\n      <td>1-2</td>\n      <td>1-1</td>\n      <td>0-0</td>\n      <td>1-1</td>\n      <td>1-1</td>\n    </tr>\n    <tr>\n      <th>8</th>\n      <td>Goran Dragic</td>\n      <td>Miami Heat</td>\n      <td>10.0</td>\n      <td>1-1</td>\n      <td>0-1</td>\n      <td>4-6</td>\n      <td>1-2</td>\n      <td>0-1</td>\n      <td>0-0</td>\n      <td>0-0</td>\n      <td>0-0</td>\n      <td>0-0</td>\n      <td>1-1</td>\n      <td>0-2</td>\n      <td>0-0</td>\n    </tr>\n    <tr>\n      <th>9</th>\n      <td>Jimmy Butler</td>\n      <td>Miami Heat</td>\n      <td>24.0</td>\n      <td>1-1</td>\n      <td>0-0</td>\n      <td>2-2</td>\n      <td>2-3</td>\n      <td>1-1</td>\n      <td>0-0</td>\n      <td>2-2</td>\n      <td>0-1</td>\n      <td>3-4</td>\n      <td>2-3</td>\n      <td>0-0</td>\n      <td>2-2</td>\n    </tr>\n    <tr>\n      <th>10</th>\n      <td>Kentavious Caldwell-Pope</td>\n      <td>Los Angeles Lakers</td>\n      <td>25.0</td>\n      <td>2-3</td>\n      <td>2-3</td>\n      <td>0-0</td>\n      <td>1-2</td>\n      <td>1-1</td>\n      <td>0-0</td>\n      <td>2-2</td>\n      <td>1-3</td>\n      <td>0-0</td>\n      <td>0-0</td>\n      <td>1-2</td>\n      <td>0-0</td>\n    </tr>\n    <tr>\n      <th>11</th>\n      <td>Markieff Morris</td>\n      <td>Los Angeles Lakers</td>\n      <td>12.0</td>\n      <td>0-0</td>\n      <td>0-0</td>\n      <td>0-0</td>\n      <td>2-2</td>\n      <td>1-2</td>\n      <td>0-0</td>\n      <td>0-0</td>\n      <td>0-1</td>\n      <td>0-0</td>\n      <td>1-1</td>\n      <td>1-3</td>\n      <td>0-0</td>\n    </tr>\n    <tr>\n      <th>12</th>\n      <td>Montrezl Harrell</td>\n      <td>Los Angeles Lakers</td>\n      <td>10.0</td>\n      <td>1-1</td>\n      <td>0-0</td>\n      <td>0-0</td>\n      <td>2-3</td>\n      <td>0-0</td>\n      <td>4-6</td>\n      <td>0-0</td>\n      <td>0-0</td>\n      <td>0-0</td>\n      <td>0-0</td>\n      <td>0-0</td>\n      <td>0-0</td>\n    </tr>\n    <tr>\n      <th>13</th>\n      <td>Nemanja Bjelica</td>\n      <td></td>\n      <td>0.0</td>\n      <td>0-0</td>\n      <td>0-0</td>\n      <td>0-0</td>\n      <td>0-0</td>\n      <td>0-1</td>\n      <td>0-0</td>\n      <td>0-0</td>\n      <td>0-0</td>\n      <td>0-0</td>\n      <td>0-0</td>\n      <td>0-0</td>\n      <td>0-0</td>\n    </tr>\n    <tr>\n      <th>14</th>\n      <td>Precious Achiuwa</td>\n      <td>Miami Heat</td>\n      <td>7.0</td>\n      <td>0-0</td>\n      <td>0-0</td>\n      <td>0-0</td>\n      <td>0-0</td>\n      <td>0-0</td>\n      <td>0-0</td>\n      <td>2-2</td>\n      <td>0-0</td>\n      <td>1-1</td>\n      <td>0-3</td>\n      <td>0-0</td>\n      <td>2-4</td>\n    </tr>\n    <tr>\n      <th>15</th>\n      <td>Trevor Ariza</td>\n      <td>Miami Heat</td>\n      <td>8.0</td>\n      <td>1-1</td>\n      <td>0-1</td>\n      <td>4-4</td>\n      <td>0-0</td>\n      <td>0-0</td>\n      <td>0-0</td>\n      <td>1-1</td>\n      <td>0-1</td>\n      <td>0-0</td>\n      <td>0-0</td>\n      <td>0-0</td>\n      <td>0-0</td>\n    </tr>\n    <tr>\n      <th>16</th>\n      <td>Tyler Herro</td>\n      <td>Miami Heat</td>\n      <td>15.0</td>\n      <td>0-2</td>\n      <td>1-1</td>\n      <td>0-0</td>\n      <td>0-0</td>\n      <td>2-3</td>\n      <td>1-2</td>\n      <td>0-0</td>\n      <td>0-0</td>\n      <td>0-0</td>\n      <td>1-1</td>\n      <td>1-1</td>\n      <td>0-0</td>\n    </tr>\n    <tr>\n      <th>17</th>\n      <td>Victor Oladipo</td>\n      <td>Miami Heat</td>\n      <td>18.0</td>\n      <td>0-0</td>\n      <td>0-0</td>\n      <td>6-6</td>\n      <td>1-1</td>\n      <td>0-0</td>\n      <td>0-0</td>\n      <td>1-1</td>\n      <td>2-3</td>\n      <td>0-0</td>\n      <td>1-1</td>\n      <td>0-0</td>\n      <td>0-0</td>\n    </tr>\n    <tr>\n      <th>18</th>\n      <td>Wesley Matthews</td>\n      <td>Los Angeles Lakers</td>\n      <td>14.0</td>\n      <td>0-0</td>\n      <td>2-3</td>\n      <td>0-0</td>\n      <td>1-1</td>\n      <td>0-2</td>\n      <td>3-3</td>\n      <td>0-1</td>\n      <td>0-1</td>\n      <td>0-0</td>\n      <td>0-1</td>\n      <td>1-1</td>\n      <td>0-0</td>\n    </tr>\n  </tbody>\n</table>\n</div>"
     },
     "execution_count": 39,
     "metadata": {},
     "output_type": "execute_result"
    }
   ],
   "source": [
    "final = pd.concat([grouped_score[['player', 'team', 'points']],fg_df], axis=1, ignore_index=False)\n",
    "order = pd.CategoricalDtype([away, home], ordered=True)\n",
    "final['team'] = final['team'].astype(order)\n",
    "final.sort_values('team', inplace=True)\n",
    "#final['site'] = final['team'].apply(lambda x: 1 if x == home else (0 if x == away else x))\n",
    "final\n",
    "\n"
   ],
   "metadata": {
    "collapsed": false,
    "pycharm": {
     "name": "#%%\n"
    }
   }
  },
  {
   "cell_type": "code",
   "execution_count": null,
   "outputs": [],
   "source": [],
   "metadata": {
    "collapsed": false,
    "pycharm": {
     "name": "#%%\n"
    }
   }
  }
 ],
 "metadata": {
  "kernelspec": {
   "display_name": "Python 3",
   "language": "python",
   "name": "python3"
  },
  "language_info": {
   "codemirror_mode": {
    "name": "ipython",
    "version": 2
   },
   "file_extension": ".py",
   "mimetype": "text/x-python",
   "name": "python",
   "nbconvert_exporter": "python",
   "pygments_lexer": "ipython2",
   "version": "2.7.6"
  }
 },
 "nbformat": 4,
 "nbformat_minor": 0
}